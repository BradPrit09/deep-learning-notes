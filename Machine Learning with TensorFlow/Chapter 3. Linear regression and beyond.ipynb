{
 "cells": [
  {
   "cell_type": "code",
   "execution_count": 2,
   "metadata": {},
   "outputs": [],
   "source": [
    "import numpy as np                                                 \n",
    "import matplotlib.pyplot as plt                                                     "
   ]
  },
  {
   "cell_type": "code",
   "execution_count": 14,
   "metadata": {},
   "outputs": [
    {
     "data": {
      "image/png": "[encoded data removed]",
      "text/plain": [
       "<Figure size 432x288 with 1 Axes>"
      ]
     },
     "metadata": {},
     "output_type": "display_data"
    }
   ],
   "source": [
    "x_train = np.linspace(-1, 1, 101)                                  \n",
    "y_train = 2 * x_train + np.random.randn(*x_train.shape) * 0.33     \n",
    "\n",
    "plt.scatter(x_train, y_train, s=20, color=\"g\")                                      \n",
    "plt.show()  "
   ]
  },
  {
   "cell_type": "code",
   "execution_count": 4,
   "metadata": {},
   "outputs": [
    {
     "data": {
      "text/plain": [
       "(101,)"
      ]
     },
     "execution_count": 4,
     "metadata": {},
     "output_type": "execute_result"
    }
   ],
   "source": [
    "x_train.shape"
   ]
  },
  {
   "cell_type": "code",
   "execution_count": 5,
   "metadata": {},
   "outputs": [
    {
     "data": {
      "text/plain": [
       "101"
      ]
     },
     "execution_count": 5,
     "metadata": {},
     "output_type": "execute_result"
    }
   ],
   "source": [
    "len(x_train)"
   ]
  },
  {
   "cell_type": "code",
   "execution_count": 6,
   "metadata": {},
   "outputs": [
    {
     "data": {
      "text/plain": [
       "array([-1.89232469, -2.47887795, -1.94633448, -2.10380268, -1.48729788,\n",
       "       -1.32259075, -2.46826039, -2.40267834, -1.59541883, -2.06218397])"
      ]
     },
     "execution_count": 6,
     "metadata": {},
     "output_type": "execute_result"
    }
   ],
   "source": [
    "y_train[:10]"
   ]
  },
  {
   "cell_type": "code",
   "execution_count": 7,
   "metadata": {},
   "outputs": [
    {
     "data": {
      "text/plain": [
       "(101,)"
      ]
     },
     "execution_count": 7,
     "metadata": {},
     "output_type": "execute_result"
    }
   ],
   "source": [
    "y_train.shape"
   ]
  },
  {
   "cell_type": "markdown",
   "metadata": {},
   "source": [
    "The higher the cost, the worse the model parameter will be. the cost is the sum of the squared differences between the actual and predicted values.\n",
    "![image](images/03fig07_alt.jpg)"
   ]
  },
  {
   "cell_type": "code",
   "execution_count": 26,
   "metadata": {},
   "outputs": [],
   "source": [
    "import tensorflow as tf                                                    \n",
    "\n",
    "learning_rate = 0.01                                                       \n",
    "training_epochs = 100                                                      \n",
    "\n",
    "x_train = np.linspace(-1, 1, 101)                                          \n",
    "y_train = 2 * x_train + np.random.randn(*x_train.shape) * 0.33             \n",
    "\n",
    "graph = tf.Graph()\n",
    "with graph.as_default():\n",
    "    \n",
    "    X = tf.placeholder(tf.float32, name=\"X\")                                             \n",
    "    Y = tf.placeholder(tf.float32, name=\"Y\")                                             \n",
    "\n",
    "    w = tf.Variable(0.0, name=\"weights\")\n",
    "    \n",
    "    def model(X, w):                                                       \n",
    "        return tf.multiply(X, w)\n",
    "\n",
    "    y_model = model(X, w)                                           \n",
    "    cost = tf.square(Y - y_model, name=\"cost\")                                                \n",
    "\n",
    "    train_op = tf.train.GradientDescentOptimizer(learning_rate).minimize(cost) \n",
    "    # in this part, w is updated in each epoch\n",
    "    \n",
    "    init = tf.global_variables_initializer() \n",
    "    \n",
    "with tf.Session(graph=graph) as sess:\n",
    "    init.run()\n",
    "\n",
    "    for epoch in range(training_epochs):                                       \n",
    "        for (x, y) in zip(x_train, y_train): # pairwise x1,y1 = x2,y2                                     \n",
    "            sess.run(train_op, feed_dict={X: x, Y: y})                             \n",
    "\n",
    "    w_val = w.eval() # sess.run(w) also works fine!"
   ]
  },
  {
   "cell_type": "code",
   "execution_count": 27,
   "metadata": {},
   "outputs": [
    {
     "data": {
      "image/png": "[encoded data removed]",
      "text/plain": [
       "<Figure size 432x288 with 1 Axes>"
      ]
     },
     "metadata": {},
     "output_type": "display_data"
    }
   ],
   "source": [
    "plt.scatter(x_train, y_train)                                              \n",
    "y_learned = x_train * w_val                                                  \n",
    "plt.plot(x_train, y_learned, 'r')                                          \n",
    "plt.show()\n",
    "# Linear regression estimate "
   ]
  },
  {
   "cell_type": "code",
   "execution_count": 19,
   "metadata": {},
   "outputs": [
    {
     "data": {
      "text/plain": [
       "(101,)"
      ]
     },
     "execution_count": 19,
     "metadata": {},
     "output_type": "execute_result"
    }
   ],
   "source": [
    "y_learned.shape"
   ]
  },
  {
   "cell_type": "code",
   "execution_count": 21,
   "metadata": {},
   "outputs": [
    {
     "data": {
      "text/plain": [
       "(101,)"
      ]
     },
     "execution_count": 21,
     "metadata": {},
     "output_type": "execute_result"
    }
   ],
   "source": [
    "x_train.shape"
   ]
  },
  {
   "cell_type": "code",
   "execution_count": 22,
   "metadata": {},
   "outputs": [
    {
     "data": {
      "text/plain": [
       "array([-1.  , -0.98, -0.96, -0.94, -0.92, -0.9 , -0.88, -0.86, -0.84,\n",
       "       -0.82, -0.8 , -0.78, -0.76, -0.74, -0.72, -0.7 , -0.68, -0.66,\n",
       "       -0.64, -0.62, -0.6 , -0.58, -0.56, -0.54, -0.52, -0.5 , -0.48,\n",
       "       -0.46, -0.44, -0.42, -0.4 , -0.38, -0.36, -0.34, -0.32, -0.3 ,\n",
       "       -0.28, -0.26, -0.24, -0.22, -0.2 , -0.18, -0.16, -0.14, -0.12,\n",
       "       -0.1 , -0.08, -0.06, -0.04, -0.02,  0.  ,  0.02,  0.04,  0.06,\n",
       "        0.08,  0.1 ,  0.12,  0.14,  0.16,  0.18,  0.2 ,  0.22,  0.24,\n",
       "        0.26,  0.28,  0.3 ,  0.32,  0.34,  0.36,  0.38,  0.4 ,  0.42,\n",
       "        0.44,  0.46,  0.48,  0.5 ,  0.52,  0.54,  0.56,  0.58,  0.6 ,\n",
       "        0.62,  0.64,  0.66,  0.68,  0.7 ,  0.72,  0.74,  0.76,  0.78,\n",
       "        0.8 ,  0.82,  0.84,  0.86,  0.88,  0.9 ,  0.92,  0.94,  0.96,\n",
       "        0.98,  1.  ])"
      ]
     },
     "execution_count": 22,
     "metadata": {},
     "output_type": "execute_result"
    }
   ],
   "source": [
    "x_train"
   ]
  },
  {
   "cell_type": "markdown",
   "metadata": {},
   "source": [
    "you’ve just solved linear regression using TensorFlow! Wi-Fi signal strength degrades with an inverse square law"
   ]
  },
  {
   "cell_type": "markdown",
   "metadata": {},
   "source": [
    "### POLYNOMIAL MODEL\n",
    "\n",
    "The nth degree polynomial looks like the following:\n",
    "\n",
    "`f(x) = wn x^n + ... + w1 x + w0`\n",
    "\n",
    "When n = 1, a polynomial is simply a linear equation `f(x) = w1 x + w0`.\n",
    "\n",
    "A polynomial function is a more flexible generalization of a linear function."
   ]
  },
  {
   "cell_type": "code",
   "execution_count": 28,
   "metadata": {},
   "outputs": [
    {
     "data": {
      "image/png": "[encoded data removed]",
      "text/plain": [
       "<Figure size 432x288 with 1 Axes>"
      ]
     },
     "metadata": {},
     "output_type": "display_data"
    }
   ],
   "source": [
    "learning_rate = 0.01                                                      \n",
    "\n",
    "trX = np.linspace(-1, 1, 101)                                              \n",
    "\n",
    "num_coeffs = 6                                                             \n",
    "trY_coeffs = [1, 2, 3, 4, 5, 6]                                            \n",
    "trY = 0\n",
    "\n",
    "for i in range(num_coeffs):                                                \n",
    "    trY += trY_coeffs[i] * np.power(trX, i)                                \n",
    "\n",
    "trY += np.random.randn(*trX.shape) * 1.5 # Sets up raw output data based on a fifth-degree polynomial                          \n",
    "\n",
    "plt.scatter(trX, trY)                                                      \n",
    "plt.show()                                 "
   ]
  },
  {
   "cell_type": "code",
   "execution_count": 45,
   "metadata": {},
   "outputs": [],
   "source": [
    "training_epochs = 10"
   ]
  },
  {
   "cell_type": "code",
   "execution_count": 65,
   "metadata": {},
   "outputs": [
    {
     "name": "stdout",
     "output_type": "stream",
     "text": [
      "At 0. epoch, cost :  31.874731\n",
      "At 5. epoch, cost :  0.04862908\n",
      "[0.8995234 3.7604373 4.032304  3.638647  3.3405406 3.2290344]\n"
     ]
    }
   ],
   "source": [
    "graph = tf.Graph()\n",
    "with graph.as_default():\n",
    "    X = tf.placeholder(tf.float32, name=\"X\")                                             \n",
    "    Y = tf.placeholder(tf.float32, name=\"Y\")                                         \n",
    "\n",
    "    def model(X, w):                                                           \n",
    "        terms = []                                                         \n",
    "        for i in range(num_coeffs):                                            \n",
    "            term = tf.multiply(w[i], tf.pow(X, i))                             \n",
    "            terms.append(term)                                     \n",
    "        return tf.add_n(terms)                                                 \n",
    "\n",
    "    w = tf.Variable([0.] * num_coeffs, name=\"parameters\")                      \n",
    "    y_model = model(X, w)                                                \n",
    "\n",
    "    cost = tf.pow(Y-y_model, 2)                                         \n",
    "    train_op = tf.train.GradientDescentOptimizer(learning_rate).minimize(cost) \n",
    "    \n",
    "    init = tf.global_variables_initializer() \n",
    "\n",
    "sess = tf.Session(graph=graph)                                                        \n",
    "sess.run(init)                                                             \n",
    "                                                 \n",
    "for epoch in range(training_epochs):                                       \n",
    "    for (x, y) in zip(trX, trY):                                           \n",
    "        sess.run(train_op, feed_dict={X: x, Y: y})\n",
    "        \n",
    "    if epoch % 5 == 0:\n",
    "        print(f\"At {epoch}. epoch, cost : \", sess.run(cost,feed_dict={X: x, Y: y}))\n",
    "                                                  \n",
    "w_val = sess.run(w)                                                     \n",
    "print(w_val)\n",
    "sess.close()      "
   ]
  },
  {
   "cell_type": "code",
   "execution_count": 76,
   "metadata": {},
   "outputs": [
    {
     "name": "stdout",
     "output_type": "stream",
     "text": [
      "At 0. epoch, cost :  31.874731\n",
      "At 5. epoch, cost :  0.04862908\n",
      "[0.8995234 3.7604373 4.032304  3.638647  3.3405406 3.2290344]\n"
     ]
    }
   ],
   "source": [
    "graph = tf.Graph()\n",
    "with graph.as_default():\n",
    "    X = tf.placeholder(tf.float32, name=\"X\")                                             \n",
    "    Y = tf.placeholder(tf.float32, name=\"Y\")                                         \n",
    "\n",
    "    def model(X, w):                                        \n",
    "        terms = []                                                         \n",
    "        for i in range(num_coeffs):                                            \n",
    "            term = tf.multiply(w[i], tf.pow(X, i))                             \n",
    "            terms.append(term)                                    \n",
    "        return tf.add_n(terms)                                                 \n",
    "\n",
    "    w = tf.Variable([0.] * num_coeffs, name=\"parameters\")                      \n",
    "    y_model = model(X, w)                                          \n",
    "\n",
    "    cost = tf.pow(Y - y_model, 2)                                  \n",
    "    \n",
    "    gradients_w = tf.gradients(cost, [w])\n",
    "    # A list of `sum(dy/dx)` for each x in `[w]`.\n",
    "    tweak_w_op = tf.assign(w, w - learning_rate * gradients_w[0])\n",
    "    \n",
    "    init = tf.global_variables_initializer() \n",
    "\n",
    "sess = tf.Session(graph=graph)                                                        \n",
    "sess.run(init)                                                             \n",
    "                                                 \n",
    "for epoch in range(training_epochs):                                       \n",
    "    for (x, y) in zip(trX, trY):                                           \n",
    "        sess.run(tweak_w_op, feed_dict={X: x, Y: y})\n",
    "        \n",
    "    if epoch % 5 == 0:\n",
    "        print(f\"At {epoch}. epoch, cost : \", sess.run(cost,feed_dict={X: x, Y: y}))\n",
    "                                                  \n",
    "w_val = sess.run(w)                                                 \n",
    "print(w_val)\n",
    "sess.close()"
   ]
  },
  {
   "cell_type": "code",
   "execution_count": 104,
   "metadata": {},
   "outputs": [],
   "source": [
    "training_epochs = 10"
   ]
  },
  {
   "cell_type": "code",
   "execution_count": 125,
   "metadata": {},
   "outputs": [
    {
     "name": "stdout",
     "output_type": "stream",
     "text": [
      "[8.0]\n",
      "1.0\n"
     ]
    }
   ],
   "source": [
    "graph = tf.Graph()\n",
    "with graph.as_default():\n",
    "    X = tf.placeholder(tf.float32, name=\"X\")                                             \n",
    "    Y = tf.placeholder(tf.float32, name=\"Y\")                                         \n",
    "\n",
    "    def model(X, w):                                        \n",
    "        return tf.multiply(w, X**2)                             \n",
    "\n",
    "    w = tf.Variable(1., name=\"parameters\")                      \n",
    "    y_model = model(X, w)                                          \n",
    "\n",
    "    cost = tf.pow(Y - y_model, 2)                                  \n",
    "    \n",
    "    gradients_w = tf.gradients(cost, [w])\n",
    "    # cost derivation = -2 * (Y- w * x**2) * x**2\n",
    "    # A list of `sum(dy/dw)` for each w in `[w]`. \n",
    "    # w cinsinden turev aliniyor!\n",
    "    \n",
    "    #tweak_w_op = tf.assign(w, w - learning_rate * gradients_w[0])\n",
    "    \n",
    "    init = tf.global_variables_initializer() \n",
    "\n",
    "sess = tf.Session(graph=graph)                                                        \n",
    "sess.run(init)                                                       \n",
    "                                                 \n",
    "#sess.run(tweak_w_op, feed_dict={X: -1.0, Y: -3.0}) # w is updated here! so you can skip this \n",
    "\n",
    "print(sess.run(gradients_w, feed_dict={X: -1.0, Y: -3.0}))\n",
    "\n",
    "w_val = sess.run(w)                                                 \n",
    "print(w_val)\n",
    "\n",
    "sess.close()"
   ]
  },
  {
   "cell_type": "code",
   "execution_count": 128,
   "metadata": {},
   "outputs": [
    {
     "name": "stdout",
     "output_type": "stream",
     "text": [
      "[-0.0]\n",
      "0.0\n"
     ]
    }
   ],
   "source": [
    "graph = tf.Graph()\n",
    "with graph.as_default():\n",
    "    X = tf.placeholder(tf.float32, name=\"X\")                                             \n",
    "    Y = tf.placeholder(tf.float32, name=\"Y\")                                         \n",
    "\n",
    "    def model(X, w):                                        \n",
    "        return tf.multiply(w, X**2)                             \n",
    "\n",
    "    w = tf.Variable(0., name=\"parameters\")                      \n",
    "    y_model = model(X, w)                                          \n",
    "\n",
    "    cost = tf.pow(Y - y_model, 2)                                  \n",
    "    \n",
    "    gradients_w = tf.gradients(cost, [X])\n",
    "    # cost derivation X cinsinden bu da = -2 * (Y - X**2 * w) * 2Xw\n",
    "    # A list of `sum(dy/dw)` for each w in `[w]`. \n",
    "    # X cinsinden turev aliniyor!\n",
    "    \n",
    "    init = tf.global_variables_initializer() \n",
    "\n",
    "sess = tf.Session(graph=graph)                                                        \n",
    "sess.run(init)                                                       \n",
    "                                                 \n",
    "print(sess.run(gradients_w, feed_dict={X: -1.0, Y: -3.0}))\n",
    "\n",
    "w_val = sess.run(w)                                                 \n",
    "print(w_val)\n",
    "\n",
    "sess.close()"
   ]
  },
  {
   "cell_type": "code",
   "execution_count": 69,
   "metadata": {},
   "outputs": [
    {
     "data": {
      "text/plain": [
       "array([-1.  , -0.98, -0.96, -0.94, -0.92, -0.9 , -0.88, -0.86, -0.84,\n",
       "       -0.82, -0.8 , -0.78, -0.76, -0.74, -0.72, -0.7 , -0.68, -0.66,\n",
       "       -0.64, -0.62, -0.6 , -0.58, -0.56, -0.54, -0.52, -0.5 , -0.48,\n",
       "       -0.46, -0.44, -0.42, -0.4 , -0.38, -0.36, -0.34, -0.32, -0.3 ,\n",
       "       -0.28, -0.26, -0.24, -0.22, -0.2 , -0.18, -0.16, -0.14, -0.12,\n",
       "       -0.1 , -0.08, -0.06, -0.04, -0.02,  0.  ,  0.02,  0.04,  0.06,\n",
       "        0.08,  0.1 ,  0.12,  0.14,  0.16,  0.18,  0.2 ,  0.22,  0.24,\n",
       "        0.26,  0.28,  0.3 ,  0.32,  0.34,  0.36,  0.38,  0.4 ,  0.42,\n",
       "        0.44,  0.46,  0.48,  0.5 ,  0.52,  0.54,  0.56,  0.58,  0.6 ,\n",
       "        0.62,  0.64,  0.66,  0.68,  0.7 ,  0.72,  0.74,  0.76,  0.78,\n",
       "        0.8 ,  0.82,  0.84,  0.86,  0.88,  0.9 ,  0.92,  0.94,  0.96,\n",
       "        0.98,  1.  ])"
      ]
     },
     "execution_count": 69,
     "metadata": {},
     "output_type": "execute_result"
    }
   ],
   "source": [
    "trX"
   ]
  },
  {
   "cell_type": "code",
   "execution_count": 47,
   "metadata": {},
   "outputs": [
    {
     "data": {
      "image/png": "[encoded data removed]",
      "text/plain": [
       "<Figure size 432x288 with 1 Axes>"
      ]
     },
     "metadata": {},
     "output_type": "display_data"
    }
   ],
   "source": [
    "plt.scatter(trX, trY)\n",
    "\n",
    "trY2 = 0\n",
    "for i in range(num_coeffs):\n",
    "    trY2 += w_val[i] * np.power(trX, i)                                    \n",
    "    \n",
    "    # w0\n",
    "    # w1 * trX^1\n",
    "    # w2 * trX^2\n",
    "    # w3 * trX^3\n",
    "    # w4 * trX^4\n",
    "    # w5 * trX^5\n",
    "    # trY2\n",
    "    \n",
    "plt.plot(trX, trY2, 'r')                           \n",
    "plt.show()\n",
    "#  The best-fit curve smoothly aligns with the nonlinear data"
   ]
  },
  {
   "cell_type": "code",
   "execution_count": 33,
   "metadata": {},
   "outputs": [
    {
     "data": {
      "text/plain": [
       "(101,)"
      ]
     },
     "execution_count": 33,
     "metadata": {},
     "output_type": "execute_result"
    }
   ],
   "source": [
    "trX.shape"
   ]
  },
  {
   "cell_type": "code",
   "execution_count": 34,
   "metadata": {},
   "outputs": [
    {
     "data": {
      "text/plain": [
       "(101,)"
      ]
     },
     "execution_count": 34,
     "metadata": {},
     "output_type": "execute_result"
    }
   ],
   "source": [
    "trY2.shape"
   ]
  },
  {
   "cell_type": "code",
   "execution_count": 35,
   "metadata": {},
   "outputs": [
    {
     "data": {
      "text/plain": [
       "(101,)"
      ]
     },
     "execution_count": 35,
     "metadata": {},
     "output_type": "execute_result"
    }
   ],
   "source": [
    "trX.shape"
   ]
  },
  {
   "cell_type": "code",
   "execution_count": 36,
   "metadata": {},
   "outputs": [
    {
     "data": {
      "text/plain": [
       "(6,)"
      ]
     },
     "execution_count": 36,
     "metadata": {},
     "output_type": "execute_result"
    }
   ],
   "source": [
    "w_val.shape"
   ]
  },
  {
   "cell_type": "markdown",
   "metadata": {},
   "source": [
    "### REGULARIZATION"
   ]
  },
  {
   "cell_type": "markdown",
   "metadata": {},
   "source": [
    "A Python library called scikit-learn supports many useful data-preprocessing algorithms. You can call a function in scikit-learn to do exactly what listing 3.4 achieves. Can you find this function on the library’s documentation? Hint: http://scikit-learn.org/stable/modules/classes.html#module-sklearn.model_selection.\n",
    "\n",
    "ANSWER\n",
    "\n",
    "It’s called sklearn.model_selection.train_test_split."
   ]
  },
  {
   "cell_type": "code",
   "execution_count": 77,
   "metadata": {},
   "outputs": [
    {
     "name": "stdout",
     "output_type": "stream",
     "text": [
      "[[0 1]\n",
      " [2 3]\n",
      " [4 5]\n",
      " [6 7]\n",
      " [8 9]]\n",
      "[0, 1, 2, 3, 4]\n",
      "[[4 5]\n",
      " [0 1]\n",
      " [6 7]]\n",
      "[2, 0, 3]\n",
      "[[2 3]\n",
      " [8 9]]\n",
      "[1, 4]\n"
     ]
    }
   ],
   "source": [
    ">>> import numpy as np\n",
    ">>> from sklearn.model_selection import train_test_split\n",
    ">>> X, y = np.arange(10).reshape((5, 2)), range(5)\n",
    ">>> print(X)\n",
    ">>> print(list(y))\n",
    ">>>\n",
    ">>> X_train, X_test, y_train, y_test = train_test_split(\n",
    "...     X, y, test_size=0.33, random_state=42)\n",
    "...\n",
    ">>> print(X_train)\n",
    ">>> print(y_train)\n",
    ">>> print(X_test)\n",
    ">>> print(y_test)"
   ]
  },
  {
   "cell_type": "code",
   "execution_count": 78,
   "metadata": {},
   "outputs": [
    {
     "data": {
      "text/plain": [
       "[[0, 1, 2], [3, 4]]"
      ]
     },
     "execution_count": 78,
     "metadata": {},
     "output_type": "execute_result"
    }
   ],
   "source": [
    ">>> train_test_split(y, shuffle=False)\n"
   ]
  },
  {
   "cell_type": "code",
   "execution_count": 79,
   "metadata": {},
   "outputs": [],
   "source": [
    "def split_dataset(x_dataset, y_dataset, ratio):                \n",
    "    \n",
    "    arr = np.arange(x_dataset.size)                            \n",
    "    np.random.shuffle(arr)                                     \n",
    "    num_train = int(ratio * x_dataset.size)   \n",
    "    \n",
    "    x_train = x_dataset[arr[0:num_train]]                      \n",
    "    x_test = x_dataset[arr[num_train:x_dataset.size]]          \n",
    "    y_train = y_dataset[arr[0:num_train]]                      \n",
    "    y_test = y_dataset[arr[num_train:x_dataset.size]]          \n",
    "    \n",
    "    return x_train, x_test, y_train, y_test"
   ]
  },
  {
   "cell_type": "code",
   "execution_count": 86,
   "metadata": {},
   "outputs": [
    {
     "name": "stdout",
     "output_type": "stream",
     "text": [
      "reg lambda 0.0\n",
      "final cost 0.023913436\n",
      "reg lambda 0.010101010101010102\n",
      "final cost 0.019956613\n",
      "reg lambda 0.020202020202020204\n",
      "final cost 0.018788557\n",
      "reg lambda 0.030303030303030304\n",
      "final cost 0.018118871\n",
      "reg lambda 0.04040404040404041\n",
      "final cost 0.017690059\n",
      "reg lambda 0.05050505050505051\n",
      "final cost 0.017419273\n",
      "reg lambda 0.06060606060606061\n",
      "final cost 0.017251164\n",
      "reg lambda 0.07070707070707072\n",
      "final cost 0.01714692\n",
      "reg lambda 0.08080808080808081\n",
      "final cost 0.017080674\n",
      "reg lambda 0.09090909090909091\n",
      "final cost 0.017035829\n",
      "reg lambda 0.10101010101010102\n",
      "final cost 0.017002087\n",
      "reg lambda 0.11111111111111112\n",
      "final cost 0.016973244\n",
      "reg lambda 0.12121212121212122\n",
      "final cost 0.01694571\n",
      "reg lambda 0.13131313131313133\n",
      "final cost 0.016917532\n",
      "reg lambda 0.14141414141414144\n",
      "final cost 0.016887756\n",
      "reg lambda 0.15151515151515152\n",
      "final cost 0.016856017\n",
      "reg lambda 0.16161616161616163\n",
      "final cost 0.016822299\n",
      "reg lambda 0.17171717171717174\n",
      "final cost 0.01678676\n",
      "reg lambda 0.18181818181818182\n",
      "final cost 0.016749654\n",
      "reg lambda 0.19191919191919193\n",
      "final cost 0.016711242\n",
      "reg lambda 0.20202020202020204\n",
      "final cost 0.016671808\n",
      "reg lambda 0.21212121212121213\n",
      "final cost 0.016631607\n",
      "reg lambda 0.22222222222222224\n",
      "final cost 0.01659085\n",
      "reg lambda 0.23232323232323235\n",
      "final cost 0.016549753\n",
      "reg lambda 0.24242424242424243\n",
      "final cost 0.016508456\n",
      "reg lambda 0.25252525252525254\n",
      "final cost 0.016467122\n",
      "reg lambda 0.26262626262626265\n",
      "final cost 0.016425816\n",
      "reg lambda 0.27272727272727276\n",
      "final cost 0.016384702\n",
      "reg lambda 0.2828282828282829\n",
      "final cost 0.016343828\n",
      "reg lambda 0.29292929292929293\n",
      "final cost 0.016303334\n",
      "reg lambda 0.30303030303030304\n",
      "final cost 0.016263103\n",
      "reg lambda 0.31313131313131315\n",
      "final cost 0.016223304\n",
      "reg lambda 0.32323232323232326\n",
      "final cost 0.016183862\n",
      "reg lambda 0.33333333333333337\n",
      "final cost 0.016144956\n",
      "reg lambda 0.3434343434343435\n",
      "final cost 0.016106559\n",
      "reg lambda 0.3535353535353536\n",
      "final cost 0.016068479\n",
      "reg lambda 0.36363636363636365\n",
      "final cost 0.016030993\n",
      "reg lambda 0.37373737373737376\n",
      "final cost 0.015994044\n",
      "reg lambda 0.38383838383838387\n",
      "final cost 0.015957601\n",
      "reg lambda 0.393939393939394\n",
      "final cost 0.015921678\n",
      "reg lambda 0.4040404040404041\n",
      "final cost 0.015886279\n",
      "reg lambda 0.4141414141414142\n",
      "final cost 0.015851306\n",
      "reg lambda 0.42424242424242425\n",
      "final cost 0.015816785\n",
      "reg lambda 0.43434343434343436\n",
      "final cost 0.015782857\n",
      "reg lambda 0.4444444444444445\n",
      "final cost 0.015749449\n",
      "reg lambda 0.4545454545454546\n",
      "final cost 0.01571658\n",
      "reg lambda 0.4646464646464647\n",
      "final cost 0.01568416\n",
      "reg lambda 0.4747474747474748\n",
      "final cost 0.015652241\n",
      "reg lambda 0.48484848484848486\n",
      "final cost 0.015620852\n",
      "reg lambda 0.494949494949495\n",
      "final cost 0.015589985\n",
      "reg lambda 0.5050505050505051\n",
      "final cost 0.015559581\n",
      "reg lambda 0.5151515151515152\n",
      "final cost 0.015529641\n",
      "reg lambda 0.5252525252525253\n",
      "final cost 0.015500174\n",
      "reg lambda 0.5353535353535354\n",
      "final cost 0.015471195\n",
      "reg lambda 0.5454545454545455\n",
      "final cost 0.015442743\n",
      "reg lambda 0.5555555555555556\n",
      "final cost 0.015414633\n",
      "reg lambda 0.5656565656565657\n",
      "final cost 0.015386988\n",
      "reg lambda 0.5757575757575758\n",
      "final cost 0.01535985\n",
      "reg lambda 0.5858585858585859\n",
      "final cost 0.015333151\n",
      "reg lambda 0.595959595959596\n",
      "final cost 0.015306818\n",
      "reg lambda 0.6060606060606061\n",
      "final cost 0.0152809685\n",
      "reg lambda 0.6161616161616162\n",
      "final cost 0.015255566\n",
      "reg lambda 0.6262626262626263\n",
      "final cost 0.015230479\n",
      "reg lambda 0.6363636363636365\n",
      "final cost 0.015205905\n",
      "reg lambda 0.6464646464646465\n",
      "final cost 0.0151817445\n",
      "reg lambda 0.6565656565656566\n",
      "final cost 0.01515788\n",
      "reg lambda 0.6666666666666667\n",
      "final cost 0.0151344985\n",
      "reg lambda 0.6767676767676768\n",
      "final cost 0.015111494\n",
      "reg lambda 0.686868686868687\n",
      "final cost 0.015088838\n",
      "reg lambda 0.696969696969697\n",
      "final cost 0.015066653\n",
      "reg lambda 0.7070707070707072\n",
      "final cost 0.015044681\n",
      "reg lambda 0.7171717171717172\n",
      "final cost 0.015023184\n",
      "reg lambda 0.7272727272727273\n",
      "final cost 0.015002043\n",
      "reg lambda 0.7373737373737375\n",
      "final cost 0.014981202\n",
      "reg lambda 0.7474747474747475\n",
      "final cost 0.014960811\n",
      "reg lambda 0.7575757575757577\n",
      "final cost 0.014940626\n",
      "reg lambda 0.7676767676767677\n",
      "final cost 0.014920946\n",
      "reg lambda 0.7777777777777778\n",
      "final cost 0.014901441\n",
      "reg lambda 0.787878787878788\n",
      "final cost 0.014882372\n",
      "reg lambda 0.797979797979798\n",
      "final cost 0.01486354\n",
      "reg lambda 0.8080808080808082\n",
      "final cost 0.014845094\n",
      "reg lambda 0.8181818181818182\n",
      "final cost 0.014826916\n",
      "reg lambda 0.8282828282828284\n",
      "final cost 0.014809082\n",
      "reg lambda 0.8383838383838385\n",
      "final cost 0.014791557\n",
      "reg lambda 0.8484848484848485\n",
      "final cost 0.014774285\n",
      "reg lambda 0.8585858585858587\n",
      "final cost 0.014757321\n",
      "reg lambda 0.8686868686868687\n",
      "final cost 0.014740639\n",
      "reg lambda 0.8787878787878789\n",
      "final cost 0.0147242425\n",
      "reg lambda 0.888888888888889\n",
      "final cost 0.014708175\n",
      "reg lambda 0.8989898989898991\n",
      "final cost 0.0146923475\n",
      "reg lambda 0.9090909090909092\n",
      "final cost 0.014676864\n",
      "reg lambda 0.9191919191919192\n",
      "final cost 0.014661497\n",
      "reg lambda 0.9292929292929294\n",
      "final cost 0.014646565\n",
      "reg lambda 0.9393939393939394\n",
      "final cost 0.014631658\n",
      "reg lambda 0.9494949494949496\n",
      "final cost 0.014617213\n",
      "reg lambda 0.9595959595959597\n",
      "final cost 0.014602871\n",
      "reg lambda 0.9696969696969697\n",
      "final cost 0.014588889\n",
      "reg lambda 0.9797979797979799\n",
      "final cost 0.014575091\n",
      "reg lambda 0.98989898989899\n",
      "final cost 0.014561517\n",
      "reg lambda 1.0\n",
      "final cost 0.0145482775\n"
     ]
    }
   ],
   "source": [
    "learning_rate = 0.001                                                        \n",
    "training_epochs = 1000                                                       \n",
    "reg_lambda = 0.                                                              \n",
    "\n",
    "# Creates a fake dataset, y = x2\n",
    "x_dataset = np.linspace(-1, 1, 100)                                          \n",
    "                                                                             \n",
    "num_coeffs = 9                                                               \n",
    "y_dataset_params = [0.] * num_coeffs                                         \n",
    "y_dataset_params[2] = 1                                                      \n",
    "y_dataset = 0                                                                \n",
    "for i in range(num_coeffs):                                                  \n",
    "    y_dataset += y_dataset_params[i] * np.power(x_dataset, i)                \n",
    "y_dataset += np.random.randn(*x_dataset.shape) * 0.3                         \n",
    "\n",
    "#  Splits the dataset into 70% training and 30% testing\n",
    "(x_train, x_test, y_train, y_test) = split_dataset(x_dataset, y_dataset, 0.7)\n",
    "\n",
    "X = tf.placeholder(tf.float32)                                               \n",
    "Y = tf.placeholder(tf.float32)                                               \n",
    "\n",
    "def model(X, w):                                                             \n",
    "    terms = []                                                               \n",
    "    for i in range(num_coeffs):                                              \n",
    "        term = tf.multiply(w[i], tf.pow(X, i))                               \n",
    "        terms.append(term)                                                   \n",
    "    return tf.add_n(terms)                                                   \n",
    "\n",
    "w = tf.Variable([0.] * num_coeffs, name=\"parameters\")                        \n",
    "y_model = model(X, w)                                 \n",
    "\n",
    "# Defines the regularized cost function\n",
    "cost = tf.div(tf.add(tf.reduce_sum(tf.square(Y-y_model)),                    \n",
    "                     tf.multiply(reg_lambda, tf.reduce_sum(tf.square(w)))),  \n",
    "              2*x_train.size)                                                \n",
    "train_op = tf.train.GradientDescentOptimizer(learning_rate).minimize(cost)   \n",
    "          # gradients_w = tf.gradients(cost, [w])\n",
    "          # GradientDescentOptimizer takes learning_rate to update the variable w == tf.assign(w, w - learning_rate * gradients_w[0])\n",
    "        \n",
    "sess = tf.Session()                                                          \n",
    "init = tf.global_variables_initializer()                                     \n",
    "sess.run(init)                                                               \n",
    "\n",
    "for reg_lambda in np.linspace(0,1,100):                                      \n",
    "    for epoch in range(training_epochs):                                     \n",
    "        sess.run(train_op, feed_dict={X: x_train, Y: y_train})               \n",
    "    final_cost = sess.run(cost, feed_dict={X: x_test, Y:y_test})             \n",
    "    print('reg lambda', reg_lambda)                                          \n",
    "    print('final cost', final_cost)                                          \n",
    "\n",
    "w_val = sess.run(w)\n",
    "sess.close()                                                                 "
   ]
  },
  {
   "cell_type": "code",
   "execution_count": 94,
   "metadata": {},
   "outputs": [
    {
     "data": {
      "image/png": "[encoded data removed]",
      "text/plain": [
       "<Figure size 432x288 with 1 Axes>"
      ]
     },
     "metadata": {},
     "output_type": "display_data"
    }
   ],
   "source": [
    "plt.scatter(x_train, y_train)\n",
    "\n",
    "trY2 = 0\n",
    "for i in range(num_coeffs):\n",
    "    trY2 += w_val[i] * np.power(x_train, i)                                    \n",
    "    \n",
    "    # w0\n",
    "    # w1 * trX^1\n",
    "    # w2 * trX^2\n",
    "    # w3 * trX^3\n",
    "    # w4 * trX^4\n",
    "    # w5 * trX^5\n",
    "    # trY2\n",
    "    \n",
    "plt.plot(x_train, trY2, 'r')                       \n",
    "plt.show()"
   ]
  },
  {
   "cell_type": "code",
   "execution_count": 95,
   "metadata": {},
   "outputs": [
    {
     "data": {
      "text/plain": [
       "(70,)"
      ]
     },
     "execution_count": 95,
     "metadata": {},
     "output_type": "execute_result"
    }
   ],
   "source": [
    "trY2.shape"
   ]
  },
  {
   "cell_type": "code",
   "execution_count": 101,
   "metadata": {},
   "outputs": [],
   "source": [
    "import csv                                                  \n",
    "import time                                              \n",
    "\n",
    "def read(filename, date_idx, date_parse, year, bucket=7):\n",
    "\n",
    "    days_in_year = 365\n",
    "\n",
    "    freq = {}                                               \n",
    "    for period in range(0, int(days_in_year / bucket)):\n",
    "        freq[period] = 0\n",
    "\n",
    "    with open(filename, 'r') as csvfile:                   \n",
    "        csvreader = csv.reader(csvfile)\n",
    "        \n",
    "        # skip header\n",
    "        next(csvreader)\n",
    "        \n",
    "        for row in csvreader:\n",
    "            if row[date_idx] == '':\n",
    "                continue\n",
    "            t = time.strptime(row[date_idx], date_parse)\n",
    "            if t.tm_year == year and t.tm_yday < (days_in_year-1):\n",
    "                freq[int(t.tm_yday / bucket)] += 1\n",
    "\n",
    "    return freq\n",
    "\n",
    "freq = read('datasets/311.csv', 0, '%m/%d/%Y', 2014) "
   ]
  },
  {
   "cell_type": "code",
   "execution_count": 126,
   "metadata": {},
   "outputs": [
    {
     "data": {
      "text/plain": [
       "52"
      ]
     },
     "execution_count": 126,
     "metadata": {},
     "output_type": "execute_result"
    }
   ],
   "source": [
    "365//7 \n",
    "# 52 week"
   ]
  },
  {
   "cell_type": "code",
   "execution_count": 102,
   "metadata": {},
   "outputs": [
    {
     "data": {
      "text/plain": [
       "{0: 10278,\n",
       " 1: 16752,\n",
       " 2: 15023,\n",
       " 3: 16961,\n",
       " 4: 16568,\n",
       " 5: 16276,\n",
       " 6: 14739,\n",
       " 7: 17424,\n",
       " 8: 17247,\n",
       " 9: 16508,\n",
       " 10: 17192,\n",
       " 11: 17296,\n",
       " 12: 17073,\n",
       " 13: 18252,\n",
       " 14: 17658,\n",
       " 15: 16604,\n",
       " 16: 17604,\n",
       " 17: 18274,\n",
       " 18: 17708,\n",
       " 19: 19276,\n",
       " 20: 15542,\n",
       " 21: 19434,\n",
       " 22: 17733,\n",
       " 23: 17580,\n",
       " 24: 18232,\n",
       " 25: 18809,\n",
       " 26: 15896,\n",
       " 27: 18436,\n",
       " 28: 19021,\n",
       " 29: 19186,\n",
       " 30: 18396,\n",
       " 31: 17901,\n",
       " 32: 19212,\n",
       " 33: 18941,\n",
       " 34: 16145,\n",
       " 35: 19536,\n",
       " 36: 18135,\n",
       " 37: 17970,\n",
       " 38: 17595,\n",
       " 39: 18952,\n",
       " 40: 17257,\n",
       " 41: 18368,\n",
       " 42: 18252,\n",
       " 43: 18246,\n",
       " 44: 18069,\n",
       " 45: 17623,\n",
       " 46: 18332,\n",
       " 47: 12117,\n",
       " 48: 17130,\n",
       " 49: 18217,\n",
       " 50: 17510,\n",
       " 51: 11972}"
      ]
     },
     "execution_count": 102,
     "metadata": {},
     "output_type": "execute_result"
    }
   ],
   "source": [
    "freq"
   ]
  },
  {
   "cell_type": "code",
   "execution_count": null,
   "metadata": {},
   "outputs": [],
   "source": []
  }
 ],
 "metadata": {
  "kernelspec": {
   "display_name": "Python 3",
   "language": "python",
   "name": "python3"
  },
  "language_info": {
   "codemirror_mode": {
    "name": "ipython",
    "version": 3
   },
   "file_extension": ".py",
   "mimetype": "text/x-python",
   "name": "python",
   "nbconvert_exporter": "python",
   "pygments_lexer": "ipython3",
   "version": "3.6.4"
  }
 },
 "nbformat": 4,
 "nbformat_minor": 2
}
