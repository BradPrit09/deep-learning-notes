{
 "cells": [
  {
   "cell_type": "markdown",
   "metadata": {},
   "source": [
    "# Decision Trees"
   ]
  },
  {
   "cell_type": "markdown",
   "metadata": {},
   "source": [
    "## Training and Visualizing a Decision Tree"
   ]
  },
  {
   "cell_type": "code",
   "execution_count": 1,
   "metadata": {},
   "outputs": [
    {
     "data": {
      "text/plain": [
       "DecisionTreeClassifier(class_weight=None, criterion='gini', max_depth=2,\n",
       "            max_features=None, max_leaf_nodes=None,\n",
       "            min_impurity_decrease=0.0, min_impurity_split=None,\n",
       "            min_samples_leaf=1, min_samples_split=2,\n",
       "            min_weight_fraction_leaf=0.0, presort=False, random_state=None,\n",
       "            splitter='best')"
      ]
     },
     "execution_count": 1,
     "metadata": {},
     "output_type": "execute_result"
    }
   ],
   "source": [
    "from sklearn.datasets import load_iris\n",
    "from sklearn.tree import DecisionTreeClassifier\n",
    "\n",
    "iris = load_iris()\n",
    "X = iris.data[:, 2:] # petal length and width\n",
    "y = iris.target\n",
    "\n",
    "tree_clf = DecisionTreeClassifier(max_depth=2)\n",
    "tree_clf.fit(X, y)"
   ]
  },
  {
   "cell_type": "code",
   "execution_count": 2,
   "metadata": {},
   "outputs": [
    {
     "data": {
      "text/plain": [
       "(150, 2)"
      ]
     },
     "execution_count": 2,
     "metadata": {},
     "output_type": "execute_result"
    }
   ],
   "source": [
    "X.shape"
   ]
  },
  {
   "cell_type": "code",
   "execution_count": 3,
   "metadata": {},
   "outputs": [
    {
     "data": {
      "text/plain": [
       "(150,)"
      ]
     },
     "execution_count": 3,
     "metadata": {},
     "output_type": "execute_result"
    }
   ],
   "source": [
    "y.shape"
   ]
  },
  {
   "cell_type": "code",
   "execution_count": 5,
   "metadata": {},
   "outputs": [],
   "source": [
    "from sklearn.tree import export_graphviz\n",
    "\n",
    "export_graphviz(\n",
    "        tree_clf,\n",
    "        out_file=\"iris_tree.dot\",\n",
    "        feature_names=iris.feature_names[2:],\n",
    "        class_names=iris.target_names,\n",
    "        rounded=True,\n",
    "        filled=True\n",
    "    )"
   ]
  },
  {
   "cell_type": "code",
   "execution_count": 6,
   "metadata": {},
   "outputs": [],
   "source": [
    "! dot -Tpng iris_tree.dot -o iris_tree.png"
   ]
  },
  {
   "cell_type": "markdown",
   "metadata": {},
   "source": [
    "![](iris_tree.png)"
   ]
  },
  {
   "cell_type": "markdown",
   "metadata": {},
   "source": [
    "In particular, they don’t require feature scaling or centering at all. scaling the input features will just be a waste of time."
   ]
  },
  {
   "cell_type": "markdown",
   "metadata": {},
   "source": [
    "a node’s gini attribute measures its impurity: a node is “pure” (gini=0) if all training instances it applies to belong to the same class."
   ]
  },
  {
   "cell_type": "markdown",
   "metadata": {},
   "source": [
    "the depth-2 left node has a gini score equal to $1 – (0/54)^2 – (49/54)^2 – (5/54)^2 ≈ 0.168$"
   ]
  },
  {
   "cell_type": "markdown",
   "metadata": {},
   "source": [
    "## Estimating Class Probabilities\n"
   ]
  },
  {
   "cell_type": "code",
   "execution_count": 8,
   "metadata": {},
   "outputs": [
    {
     "data": {
      "text/plain": [
       "array([[ 0.        ,  0.90740741,  0.09259259]])"
      ]
     },
     "execution_count": 8,
     "metadata": {},
     "output_type": "execute_result"
    }
   ],
   "source": [
    "tree_clf.predict_proba([[5, 1.5]])"
   ]
  },
  {
   "cell_type": "code",
   "execution_count": 9,
   "metadata": {},
   "outputs": [
    {
     "data": {
      "text/plain": [
       "array([1])"
      ]
     },
     "execution_count": 9,
     "metadata": {},
     "output_type": "execute_result"
    }
   ],
   "source": [
    "tree_clf.predict([[5, 1.5]])"
   ]
  },
  {
   "cell_type": "markdown",
   "metadata": {},
   "source": [
    "Scikit-Learn uses the Classification And Regression Tree (CART) algorithm to train Decision Trees"
   ]
  },
  {
   "cell_type": "markdown",
   "metadata": {},
   "source": [
    "Making predictions requires traversing the Decision Tree from the root to a leaf."
   ]
  },
  {
   "cell_type": "code",
   "execution_count": 10,
   "metadata": {},
   "outputs": [
    {
     "data": {
      "text/plain": [
       "DecisionTreeClassifier(class_weight=None, criterion='gini', max_depth=2,\n",
       "            max_features=None, max_leaf_nodes=None,\n",
       "            min_impurity_decrease=0.0, min_impurity_split=None,\n",
       "            min_samples_leaf=1, min_samples_split=2,\n",
       "            min_weight_fraction_leaf=0.0, presort=True, random_state=None,\n",
       "            splitter='best')"
      ]
     },
     "execution_count": 10,
     "metadata": {},
     "output_type": "execute_result"
    }
   ],
   "source": [
    "tree_clf = DecisionTreeClassifier(max_depth=2, presort=True)\n",
    "# Scikit-Learn can speed up training by presorting the data (set presort=True), but this slows down training considerably for larger training sets\n",
    "tree_clf.fit(X, y)"
   ]
  },
  {
   "cell_type": "code",
   "execution_count": 11,
   "metadata": {},
   "outputs": [
    {
     "data": {
      "text/plain": [
       "array([[ 0.        ,  0.90740741,  0.09259259]])"
      ]
     },
     "execution_count": 11,
     "metadata": {},
     "output_type": "execute_result"
    }
   ],
   "source": [
    "tree_clf.predict_proba([[5, 1.5]])"
   ]
  },
  {
   "cell_type": "code",
   "execution_count": 12,
   "metadata": {},
   "outputs": [
    {
     "data": {
      "text/plain": [
       "array([1])"
      ]
     },
     "execution_count": 12,
     "metadata": {},
     "output_type": "execute_result"
    }
   ],
   "source": [
    "tree_clf.predict([[5, 1.5]])"
   ]
  },
  {
   "cell_type": "markdown",
   "metadata": {},
   "source": [
    "the training algorithm compares all features (or less if `max_features` is set) on all samples at each node."
   ]
  },
  {
   "cell_type": "markdown",
   "metadata": {},
   "source": [
    "By default, the Gini impurity measure is used, but you can select the entropy impurity measure instead by setting the criterion hyperparameter to \"entropy\"."
   ]
  },
  {
   "cell_type": "markdown",
   "metadata": {},
   "source": [
    "Should you use Gini impurity or entropy?\n",
    "\n",
    "* Gini impurity is slightly faster to compute, tends to isolate the most frequent class in its own branch of the tree.\n",
    "* Entropy tends to produce slightly more balanced trees"
   ]
  },
  {
   "cell_type": "markdown",
   "metadata": {},
   "source": [
    "Reducing max_depth will regularize the model and thus reduce the risk of **overfitting**"
   ]
  },
  {
   "cell_type": "markdown",
   "metadata": {},
   "source": [
    " Increasing `min_*` hyperparameters or reducing `max_*` hyperparameters will regularize the model."
   ]
  },
  {
   "cell_type": "markdown",
   "metadata": {},
   "source": [
    "## Regression"
   ]
  },
  {
   "cell_type": "code",
   "execution_count": null,
   "metadata": {},
   "outputs": [],
   "source": [
    "from sklearn.tree import DecisionTreeRegressor\n",
    "\n",
    "tree_reg = DecisionTreeRegressor(max_depth=2)\n",
    "tree_reg.fit(X, y)\n",
    "#The main difference is that instead of predicting a class in each node, it predicts a value."
   ]
  },
  {
   "cell_type": "markdown",
   "metadata": {},
   "source": [
    "The CART algorithm works mostly the same way as earlier, except that instead of trying to split the training set in a way that minimizes impurity, it now tries to split the training set in a way that minimizes the MSE"
   ]
  },
  {
   "cell_type": "markdown",
   "metadata": {},
   "source": [
    "## Exercices\n",
    "\n",
    "**1- What is the approximate depth of a Decision Tree trained (without restrictions) on a training set with 1 million instances?**\n",
    "\n",
    "The depth of a well-balanced binary tree containing m leaves is equal to $log2(m)^2$, rounded up. if the training set contains one million instances, the Decision Tree will have a depth of $log2(106) ≈ 20$.\n",
    "\n",
    "**5- If it takes one hour to train a Decision Tree on a training set containing 1 million instances, roughly how much time will it take to train another Decision Tree on a training set containing 10 million instances?**\n",
    "\n",
    "The computational complexity of training a Decision Tree is  $O(n × m log(m))$. if you multiply the training set size by 10, the training time will be multiplied by $K = (n × 10m × log(10m)) / (n × m × log(m)) = 10 × log(10m) / log(m)$. If $m = 10^6$, then `K ≈ 11.7`, so you can expect the training time to be roughly 11.7 hours.\n",
    "\n",
    "**6- If your training set contains 100,000 instances, will setting presort=True speed up training?**\n",
    "\n",
    "Presorting the training set speeds up training only if the dataset is smaller than a few thousand instances. If it contains 100,000 instances, setting `presort=True` will considerably slow down training."
   ]
  },
  {
   "cell_type": "markdown",
   "metadata": {},
   "source": [
    "**7- Train and fine-tune a Decision Tree for the moons dataset.**"
   ]
  },
  {
   "cell_type": "code",
   "execution_count": 125,
   "metadata": {},
   "outputs": [],
   "source": [
    "from sklearn.datasets import make_moons\n",
    "\n",
    "X, y = make_moons(n_samples=10000, noise=0.4)"
   ]
  },
  {
   "cell_type": "code",
   "execution_count": 149,
   "metadata": {},
   "outputs": [],
   "source": [
    "from sklearn.model_selection import train_test_split\n",
    "\n",
    "X_train, X_test, y_train, y_test = train_test_split(X,y, test_size=.2)"
   ]
  },
  {
   "cell_type": "code",
   "execution_count": 150,
   "metadata": {},
   "outputs": [],
   "source": [
    "from sklearn.model_selection import GridSearchCV"
   ]
  },
  {
   "cell_type": "code",
   "execution_count": 151,
   "metadata": {},
   "outputs": [],
   "source": [
    "param_grid = {'max_leaf_nodes': list(range(2, 100)), 'min_samples_split': [2, 3, 4]}\n",
    "\n",
    "des = DecisionTreeClassifier()\n",
    "\n",
    "grid = GridSearchCV(des, param_grid=param_grid, cv=4)\n",
    "result = grid.fit(X_train, y_train)"
   ]
  },
  {
   "cell_type": "code",
   "execution_count": 152,
   "metadata": {},
   "outputs": [
    {
     "data": {
      "text/plain": [
       "{'max_leaf_nodes': 24, 'min_samples_split': 2}"
      ]
     },
     "execution_count": 152,
     "metadata": {},
     "output_type": "execute_result"
    }
   ],
   "source": [
    "result.best_params_"
   ]
  },
  {
   "cell_type": "code",
   "execution_count": 153,
   "metadata": {},
   "outputs": [
    {
     "data": {
      "text/plain": [
       "0.859375"
      ]
     },
     "execution_count": 153,
     "metadata": {},
     "output_type": "execute_result"
    }
   ],
   "source": [
    "result.best_score_"
   ]
  },
  {
   "cell_type": "code",
   "execution_count": 154,
   "metadata": {},
   "outputs": [
    {
     "data": {
      "text/plain": [
       "0.86850000000000005"
      ]
     },
     "execution_count": 154,
     "metadata": {},
     "output_type": "execute_result"
    }
   ],
   "source": [
    "grid.score(test_x, test_y)"
   ]
  },
  {
   "cell_type": "code",
   "execution_count": 155,
   "metadata": {},
   "outputs": [
    {
     "name": "stderr",
     "output_type": "stream",
     "text": [
      "/Users/hakan/.pyenv/versions/miniconda3-latest/lib/python3.5/site-packages/sklearn/utils/deprecation.py:125: FutureWarning: You are accessing a training score ('mean_train_score'), which will not be available by default any more in 0.21. If you need training scores, please set return_train_score=True\n",
      "  warnings.warn(*warn_args, **warn_kwargs)\n",
      "/Users/hakan/.pyenv/versions/miniconda3-latest/lib/python3.5/site-packages/sklearn/utils/deprecation.py:125: FutureWarning: You are accessing a training score ('split0_train_score'), which will not be available by default any more in 0.21. If you need training scores, please set return_train_score=True\n",
      "  warnings.warn(*warn_args, **warn_kwargs)\n",
      "/Users/hakan/.pyenv/versions/miniconda3-latest/lib/python3.5/site-packages/sklearn/utils/deprecation.py:125: FutureWarning: You are accessing a training score ('split1_train_score'), which will not be available by default any more in 0.21. If you need training scores, please set return_train_score=True\n",
      "  warnings.warn(*warn_args, **warn_kwargs)\n",
      "/Users/hakan/.pyenv/versions/miniconda3-latest/lib/python3.5/site-packages/sklearn/utils/deprecation.py:125: FutureWarning: You are accessing a training score ('split2_train_score'), which will not be available by default any more in 0.21. If you need training scores, please set return_train_score=True\n",
      "  warnings.warn(*warn_args, **warn_kwargs)\n",
      "/Users/hakan/.pyenv/versions/miniconda3-latest/lib/python3.5/site-packages/sklearn/utils/deprecation.py:125: FutureWarning: You are accessing a training score ('split3_train_score'), which will not be available by default any more in 0.21. If you need training scores, please set return_train_score=True\n",
      "  warnings.warn(*warn_args, **warn_kwargs)\n",
      "/Users/hakan/.pyenv/versions/miniconda3-latest/lib/python3.5/site-packages/sklearn/utils/deprecation.py:125: FutureWarning: You are accessing a training score ('std_train_score'), which will not be available by default any more in 0.21. If you need training scores, please set return_train_score=True\n",
      "  warnings.warn(*warn_args, **warn_kwargs)\n"
     ]
    },
    {
     "data": {
      "text/html": [
       "<div>\n",
       "<style scoped>\n",
       "    .dataframe tbody tr th:only-of-type {\n",
       "        vertical-align: middle;\n",
       "    }\n",
       "\n",
       "    .dataframe tbody tr th {\n",
       "        vertical-align: top;\n",
       "    }\n",
       "\n",
       "    .dataframe thead th {\n",
       "        text-align: right;\n",
       "    }\n",
       "</style>\n",
       "<table border=\"1\" class=\"dataframe\">\n",
       "  <thead>\n",
       "    <tr style=\"text-align: right;\">\n",
       "      <th></th>\n",
       "      <th>0</th>\n",
       "      <th>1</th>\n",
       "      <th>2</th>\n",
       "      <th>3</th>\n",
       "      <th>4</th>\n",
       "      <th>5</th>\n",
       "      <th>6</th>\n",
       "      <th>7</th>\n",
       "      <th>8</th>\n",
       "      <th>9</th>\n",
       "      <th>...</th>\n",
       "      <th>284</th>\n",
       "      <th>285</th>\n",
       "      <th>286</th>\n",
       "      <th>287</th>\n",
       "      <th>288</th>\n",
       "      <th>289</th>\n",
       "      <th>290</th>\n",
       "      <th>291</th>\n",
       "      <th>292</th>\n",
       "      <th>293</th>\n",
       "    </tr>\n",
       "  </thead>\n",
       "  <tbody>\n",
       "    <tr>\n",
       "      <th>mean_fit_time</th>\n",
       "      <td>0.00339204</td>\n",
       "      <td>0.00342476</td>\n",
       "      <td>0.00389224</td>\n",
       "      <td>0.00437468</td>\n",
       "      <td>0.00418496</td>\n",
       "      <td>0.00379205</td>\n",
       "      <td>0.00424951</td>\n",
       "      <td>0.00414824</td>\n",
       "      <td>0.00420153</td>\n",
       "      <td>0.00483829</td>\n",
       "      <td>...</td>\n",
       "      <td>0.0131614</td>\n",
       "      <td>0.014876</td>\n",
       "      <td>0.0126915</td>\n",
       "      <td>0.0113176</td>\n",
       "      <td>0.0092935</td>\n",
       "      <td>0.00909376</td>\n",
       "      <td>0.00997627</td>\n",
       "      <td>0.00998843</td>\n",
       "      <td>0.00947696</td>\n",
       "      <td>0.00973105</td>\n",
       "    </tr>\n",
       "    <tr>\n",
       "      <th>mean_score_time</th>\n",
       "      <td>0.000525236</td>\n",
       "      <td>0.000918746</td>\n",
       "      <td>0.00108057</td>\n",
       "      <td>0.000637293</td>\n",
       "      <td>0.000501275</td>\n",
       "      <td>0.00050652</td>\n",
       "      <td>0.000491321</td>\n",
       "      <td>0.000476182</td>\n",
       "      <td>0.000506222</td>\n",
       "      <td>0.000504732</td>\n",
       "      <td>...</td>\n",
       "      <td>0.00150633</td>\n",
       "      <td>0.000652254</td>\n",
       "      <td>0.00140995</td>\n",
       "      <td>0.00116128</td>\n",
       "      <td>0.000618696</td>\n",
       "      <td>0.000583291</td>\n",
       "      <td>0.000745714</td>\n",
       "      <td>0.000813842</td>\n",
       "      <td>0.000817597</td>\n",
       "      <td>0.000677943</td>\n",
       "    </tr>\n",
       "    <tr>\n",
       "      <th>mean_test_score</th>\n",
       "      <td>0.767125</td>\n",
       "      <td>0.767125</td>\n",
       "      <td>0.767125</td>\n",
       "      <td>0.8175</td>\n",
       "      <td>0.8175</td>\n",
       "      <td>0.8175</td>\n",
       "      <td>0.853125</td>\n",
       "      <td>0.853125</td>\n",
       "      <td>0.853125</td>\n",
       "      <td>0.853125</td>\n",
       "      <td>...</td>\n",
       "      <td>0.849625</td>\n",
       "      <td>0.84925</td>\n",
       "      <td>0.849625</td>\n",
       "      <td>0.849625</td>\n",
       "      <td>0.849625</td>\n",
       "      <td>0.849</td>\n",
       "      <td>0.849</td>\n",
       "      <td>0.8495</td>\n",
       "      <td>0.8495</td>\n",
       "      <td>0.849375</td>\n",
       "    </tr>\n",
       "    <tr>\n",
       "      <th>mean_train_score</th>\n",
       "      <td>0.773208</td>\n",
       "      <td>0.773208</td>\n",
       "      <td>0.773208</td>\n",
       "      <td>0.822166</td>\n",
       "      <td>0.822166</td>\n",
       "      <td>0.822166</td>\n",
       "      <td>0.858542</td>\n",
       "      <td>0.858542</td>\n",
       "      <td>0.858542</td>\n",
       "      <td>0.858542</td>\n",
       "      <td>...</td>\n",
       "      <td>0.891625</td>\n",
       "      <td>0.891708</td>\n",
       "      <td>0.891708</td>\n",
       "      <td>0.891791</td>\n",
       "      <td>0.892041</td>\n",
       "      <td>0.892</td>\n",
       "      <td>0.891875</td>\n",
       "      <td>0.892333</td>\n",
       "      <td>0.892333</td>\n",
       "      <td>0.892208</td>\n",
       "    </tr>\n",
       "    <tr>\n",
       "      <th>param_max_leaf_nodes</th>\n",
       "      <td>2</td>\n",
       "      <td>2</td>\n",
       "      <td>2</td>\n",
       "      <td>3</td>\n",
       "      <td>3</td>\n",
       "      <td>3</td>\n",
       "      <td>4</td>\n",
       "      <td>4</td>\n",
       "      <td>4</td>\n",
       "      <td>5</td>\n",
       "      <td>...</td>\n",
       "      <td>96</td>\n",
       "      <td>97</td>\n",
       "      <td>97</td>\n",
       "      <td>97</td>\n",
       "      <td>98</td>\n",
       "      <td>98</td>\n",
       "      <td>98</td>\n",
       "      <td>99</td>\n",
       "      <td>99</td>\n",
       "      <td>99</td>\n",
       "    </tr>\n",
       "    <tr>\n",
       "      <th>param_min_samples_split</th>\n",
       "      <td>2</td>\n",
       "      <td>3</td>\n",
       "      <td>4</td>\n",
       "      <td>2</td>\n",
       "      <td>3</td>\n",
       "      <td>4</td>\n",
       "      <td>2</td>\n",
       "      <td>3</td>\n",
       "      <td>4</td>\n",
       "      <td>2</td>\n",
       "      <td>...</td>\n",
       "      <td>4</td>\n",
       "      <td>2</td>\n",
       "      <td>3</td>\n",
       "      <td>4</td>\n",
       "      <td>2</td>\n",
       "      <td>3</td>\n",
       "      <td>4</td>\n",
       "      <td>2</td>\n",
       "      <td>3</td>\n",
       "      <td>4</td>\n",
       "    </tr>\n",
       "    <tr>\n",
       "      <th>params</th>\n",
       "      <td>{'min_samples_split': 2, 'max_leaf_nodes': 2}</td>\n",
       "      <td>{'min_samples_split': 3, 'max_leaf_nodes': 2}</td>\n",
       "      <td>{'min_samples_split': 4, 'max_leaf_nodes': 2}</td>\n",
       "      <td>{'min_samples_split': 2, 'max_leaf_nodes': 3}</td>\n",
       "      <td>{'min_samples_split': 3, 'max_leaf_nodes': 3}</td>\n",
       "      <td>{'min_samples_split': 4, 'max_leaf_nodes': 3}</td>\n",
       "      <td>{'min_samples_split': 2, 'max_leaf_nodes': 4}</td>\n",
       "      <td>{'min_samples_split': 3, 'max_leaf_nodes': 4}</td>\n",
       "      <td>{'min_samples_split': 4, 'max_leaf_nodes': 4}</td>\n",
       "      <td>{'min_samples_split': 2, 'max_leaf_nodes': 5}</td>\n",
       "      <td>...</td>\n",
       "      <td>{'min_samples_split': 4, 'max_leaf_nodes': 96}</td>\n",
       "      <td>{'min_samples_split': 2, 'max_leaf_nodes': 97}</td>\n",
       "      <td>{'min_samples_split': 3, 'max_leaf_nodes': 97}</td>\n",
       "      <td>{'min_samples_split': 4, 'max_leaf_nodes': 97}</td>\n",
       "      <td>{'min_samples_split': 2, 'max_leaf_nodes': 98}</td>\n",
       "      <td>{'min_samples_split': 3, 'max_leaf_nodes': 98}</td>\n",
       "      <td>{'min_samples_split': 4, 'max_leaf_nodes': 98}</td>\n",
       "      <td>{'min_samples_split': 2, 'max_leaf_nodes': 99}</td>\n",
       "      <td>{'min_samples_split': 3, 'max_leaf_nodes': 99}</td>\n",
       "      <td>{'min_samples_split': 4, 'max_leaf_nodes': 99}</td>\n",
       "    </tr>\n",
       "    <tr>\n",
       "      <th>rank_test_score</th>\n",
       "      <td>292</td>\n",
       "      <td>292</td>\n",
       "      <td>292</td>\n",
       "      <td>289</td>\n",
       "      <td>289</td>\n",
       "      <td>289</td>\n",
       "      <td>160</td>\n",
       "      <td>160</td>\n",
       "      <td>160</td>\n",
       "      <td>160</td>\n",
       "      <td>...</td>\n",
       "      <td>254</td>\n",
       "      <td>280</td>\n",
       "      <td>254</td>\n",
       "      <td>254</td>\n",
       "      <td>254</td>\n",
       "      <td>286</td>\n",
       "      <td>286</td>\n",
       "      <td>265</td>\n",
       "      <td>265</td>\n",
       "      <td>276</td>\n",
       "    </tr>\n",
       "    <tr>\n",
       "      <th>split0_test_score</th>\n",
       "      <td>0.771614</td>\n",
       "      <td>0.771614</td>\n",
       "      <td>0.771614</td>\n",
       "      <td>0.821589</td>\n",
       "      <td>0.821589</td>\n",
       "      <td>0.821589</td>\n",
       "      <td>0.858071</td>\n",
       "      <td>0.858071</td>\n",
       "      <td>0.858071</td>\n",
       "      <td>0.858071</td>\n",
       "      <td>...</td>\n",
       "      <td>0.857571</td>\n",
       "      <td>0.856072</td>\n",
       "      <td>0.857571</td>\n",
       "      <td>0.857571</td>\n",
       "      <td>0.857571</td>\n",
       "      <td>0.856072</td>\n",
       "      <td>0.856072</td>\n",
       "      <td>0.857571</td>\n",
       "      <td>0.857571</td>\n",
       "      <td>0.857571</td>\n",
       "    </tr>\n",
       "    <tr>\n",
       "      <th>split0_train_score</th>\n",
       "      <td>0.772462</td>\n",
       "      <td>0.772462</td>\n",
       "      <td>0.772462</td>\n",
       "      <td>0.816303</td>\n",
       "      <td>0.816303</td>\n",
       "      <td>0.816303</td>\n",
       "      <td>0.858143</td>\n",
       "      <td>0.858143</td>\n",
       "      <td>0.858143</td>\n",
       "      <td>0.858143</td>\n",
       "      <td>...</td>\n",
       "      <td>0.889982</td>\n",
       "      <td>0.889982</td>\n",
       "      <td>0.889982</td>\n",
       "      <td>0.889982</td>\n",
       "      <td>0.890148</td>\n",
       "      <td>0.890148</td>\n",
       "      <td>0.890148</td>\n",
       "      <td>0.890815</td>\n",
       "      <td>0.890815</td>\n",
       "      <td>0.890815</td>\n",
       "    </tr>\n",
       "    <tr>\n",
       "      <th>split1_test_score</th>\n",
       "      <td>0.767</td>\n",
       "      <td>0.767</td>\n",
       "      <td>0.767</td>\n",
       "      <td>0.8215</td>\n",
       "      <td>0.8215</td>\n",
       "      <td>0.8215</td>\n",
       "      <td>0.851</td>\n",
       "      <td>0.851</td>\n",
       "      <td>0.851</td>\n",
       "      <td>0.851</td>\n",
       "      <td>...</td>\n",
       "      <td>0.8515</td>\n",
       "      <td>0.8515</td>\n",
       "      <td>0.8515</td>\n",
       "      <td>0.8515</td>\n",
       "      <td>0.851</td>\n",
       "      <td>0.851</td>\n",
       "      <td>0.851</td>\n",
       "      <td>0.851</td>\n",
       "      <td>0.851</td>\n",
       "      <td>0.851</td>\n",
       "    </tr>\n",
       "    <tr>\n",
       "      <th>split1_train_score</th>\n",
       "      <td>0.772333</td>\n",
       "      <td>0.772333</td>\n",
       "      <td>0.772333</td>\n",
       "      <td>0.823833</td>\n",
       "      <td>0.823833</td>\n",
       "      <td>0.823833</td>\n",
       "      <td>0.858</td>\n",
       "      <td>0.858</td>\n",
       "      <td>0.858</td>\n",
       "      <td>0.858</td>\n",
       "      <td>...</td>\n",
       "      <td>0.888667</td>\n",
       "      <td>0.888667</td>\n",
       "      <td>0.888667</td>\n",
       "      <td>0.888667</td>\n",
       "      <td>0.889167</td>\n",
       "      <td>0.889167</td>\n",
       "      <td>0.889167</td>\n",
       "      <td>0.889333</td>\n",
       "      <td>0.889333</td>\n",
       "      <td>0.889333</td>\n",
       "    </tr>\n",
       "    <tr>\n",
       "      <th>split2_test_score</th>\n",
       "      <td>0.7705</td>\n",
       "      <td>0.7705</td>\n",
       "      <td>0.7705</td>\n",
       "      <td>0.823</td>\n",
       "      <td>0.823</td>\n",
       "      <td>0.823</td>\n",
       "      <td>0.8565</td>\n",
       "      <td>0.8565</td>\n",
       "      <td>0.8565</td>\n",
       "      <td>0.8565</td>\n",
       "      <td>...</td>\n",
       "      <td>0.846</td>\n",
       "      <td>0.8455</td>\n",
       "      <td>0.8455</td>\n",
       "      <td>0.846</td>\n",
       "      <td>0.846</td>\n",
       "      <td>0.8455</td>\n",
       "      <td>0.8455</td>\n",
       "      <td>0.846</td>\n",
       "      <td>0.846</td>\n",
       "      <td>0.8455</td>\n",
       "    </tr>\n",
       "    <tr>\n",
       "      <th>split2_train_score</th>\n",
       "      <td>0.771167</td>\n",
       "      <td>0.771167</td>\n",
       "      <td>0.771167</td>\n",
       "      <td>0.824333</td>\n",
       "      <td>0.824333</td>\n",
       "      <td>0.824333</td>\n",
       "      <td>0.857</td>\n",
       "      <td>0.857</td>\n",
       "      <td>0.857</td>\n",
       "      <td>0.857</td>\n",
       "      <td>...</td>\n",
       "      <td>0.892833</td>\n",
       "      <td>0.892833</td>\n",
       "      <td>0.892833</td>\n",
       "      <td>0.893167</td>\n",
       "      <td>0.893333</td>\n",
       "      <td>0.893167</td>\n",
       "      <td>0.892667</td>\n",
       "      <td>0.893667</td>\n",
       "      <td>0.893667</td>\n",
       "      <td>0.893167</td>\n",
       "    </tr>\n",
       "    <tr>\n",
       "      <th>split3_test_score</th>\n",
       "      <td>0.75938</td>\n",
       "      <td>0.75938</td>\n",
       "      <td>0.75938</td>\n",
       "      <td>0.803902</td>\n",
       "      <td>0.803902</td>\n",
       "      <td>0.803902</td>\n",
       "      <td>0.846923</td>\n",
       "      <td>0.846923</td>\n",
       "      <td>0.846923</td>\n",
       "      <td>0.846923</td>\n",
       "      <td>...</td>\n",
       "      <td>0.843422</td>\n",
       "      <td>0.843922</td>\n",
       "      <td>0.843922</td>\n",
       "      <td>0.843422</td>\n",
       "      <td>0.843922</td>\n",
       "      <td>0.843422</td>\n",
       "      <td>0.843422</td>\n",
       "      <td>0.843422</td>\n",
       "      <td>0.843422</td>\n",
       "      <td>0.843422</td>\n",
       "    </tr>\n",
       "    <tr>\n",
       "      <th>split3_train_score</th>\n",
       "      <td>0.776871</td>\n",
       "      <td>0.776871</td>\n",
       "      <td>0.776871</td>\n",
       "      <td>0.824196</td>\n",
       "      <td>0.824196</td>\n",
       "      <td>0.824196</td>\n",
       "      <td>0.861023</td>\n",
       "      <td>0.861023</td>\n",
       "      <td>0.861023</td>\n",
       "      <td>0.861023</td>\n",
       "      <td>...</td>\n",
       "      <td>0.895017</td>\n",
       "      <td>0.895351</td>\n",
       "      <td>0.895351</td>\n",
       "      <td>0.895351</td>\n",
       "      <td>0.895517</td>\n",
       "      <td>0.895517</td>\n",
       "      <td>0.895517</td>\n",
       "      <td>0.895517</td>\n",
       "      <td>0.895517</td>\n",
       "      <td>0.895517</td>\n",
       "    </tr>\n",
       "    <tr>\n",
       "      <th>std_fit_time</th>\n",
       "      <td>0.00028658</td>\n",
       "      <td>0.000415274</td>\n",
       "      <td>0.00075869</td>\n",
       "      <td>0.000869173</td>\n",
       "      <td>0.000585921</td>\n",
       "      <td>2.53627e-05</td>\n",
       "      <td>9.43915e-05</td>\n",
       "      <td>9.90762e-05</td>\n",
       "      <td>3.23866e-05</td>\n",
       "      <td>0.00011652</td>\n",
       "      <td>...</td>\n",
       "      <td>0.00384945</td>\n",
       "      <td>0.003767</td>\n",
       "      <td>0.00175278</td>\n",
       "      <td>0.000741527</td>\n",
       "      <td>0.000169708</td>\n",
       "      <td>0.000663532</td>\n",
       "      <td>0.000427883</td>\n",
       "      <td>0.00076827</td>\n",
       "      <td>0.000686229</td>\n",
       "      <td>0.000651446</td>\n",
       "    </tr>\n",
       "    <tr>\n",
       "      <th>std_score_time</th>\n",
       "      <td>6.62872e-06</td>\n",
       "      <td>0.000687778</td>\n",
       "      <td>0.000482167</td>\n",
       "      <td>0.000138438</td>\n",
       "      <td>3.34706e-05</td>\n",
       "      <td>2.36248e-05</td>\n",
       "      <td>3.99717e-05</td>\n",
       "      <td>2.45677e-05</td>\n",
       "      <td>5.68436e-05</td>\n",
       "      <td>2.24892e-05</td>\n",
       "      <td>...</td>\n",
       "      <td>0.00105997</td>\n",
       "      <td>9.05161e-05</td>\n",
       "      <td>0.000328068</td>\n",
       "      <td>0.000509791</td>\n",
       "      <td>5.38425e-06</td>\n",
       "      <td>1.12038e-05</td>\n",
       "      <td>0.000107788</td>\n",
       "      <td>0.000287493</td>\n",
       "      <td>0.000187417</td>\n",
       "      <td>8.55575e-05</td>\n",
       "    </tr>\n",
       "    <tr>\n",
       "      <th>std_test_score</th>\n",
       "      <td>0.00478354</td>\n",
       "      <td>0.00478354</td>\n",
       "      <td>0.00478354</td>\n",
       "      <td>0.00787074</td>\n",
       "      <td>0.00787074</td>\n",
       "      <td>0.00787074</td>\n",
       "      <td>0.00443906</td>\n",
       "      <td>0.00443906</td>\n",
       "      <td>0.00443906</td>\n",
       "      <td>0.00443906</td>\n",
       "      <td>...</td>\n",
       "      <td>0.0054381</td>\n",
       "      <td>0.00484926</td>\n",
       "      <td>0.00539012</td>\n",
       "      <td>0.0054381</td>\n",
       "      <td>0.00526102</td>\n",
       "      <td>0.0049343</td>\n",
       "      <td>0.0049343</td>\n",
       "      <td>0.00539917</td>\n",
       "      <td>0.00539917</td>\n",
       "      <td>0.00548388</td>\n",
       "    </tr>\n",
       "    <tr>\n",
       "      <th>std_train_score</th>\n",
       "      <td>0.00217385</td>\n",
       "      <td>0.00217385</td>\n",
       "      <td>0.00217385</td>\n",
       "      <td>0.00339029</td>\n",
       "      <td>0.00339029</td>\n",
       "      <td>0.00339029</td>\n",
       "      <td>0.00149891</td>\n",
       "      <td>0.00149891</td>\n",
       "      <td>0.00149891</td>\n",
       "      <td>0.00149891</td>\n",
       "      <td>...</td>\n",
       "      <td>0.0024709</td>\n",
       "      <td>0.0025868</td>\n",
       "      <td>0.0025868</td>\n",
       "      <td>0.00262677</td>\n",
       "      <td>0.0025298</td>\n",
       "      <td>0.00250947</td>\n",
       "      <td>0.0024602</td>\n",
       "      <td>0.00240941</td>\n",
       "      <td>0.00240941</td>\n",
       "      <td>0.0023492</td>\n",
       "    </tr>\n",
       "  </tbody>\n",
       "</table>\n",
       "<p>20 rows × 294 columns</p>\n",
       "</div>"
      ],
      "text/plain": [
       "                                                                   0    \\\n",
       "mean_fit_time                                               0.00339204   \n",
       "mean_score_time                                            0.000525236   \n",
       "mean_test_score                                               0.767125   \n",
       "mean_train_score                                              0.773208   \n",
       "param_max_leaf_nodes                                                 2   \n",
       "param_min_samples_split                                              2   \n",
       "params                   {'min_samples_split': 2, 'max_leaf_nodes': 2}   \n",
       "rank_test_score                                                    292   \n",
       "split0_test_score                                             0.771614   \n",
       "split0_train_score                                            0.772462   \n",
       "split1_test_score                                                0.767   \n",
       "split1_train_score                                            0.772333   \n",
       "split2_test_score                                               0.7705   \n",
       "split2_train_score                                            0.771167   \n",
       "split3_test_score                                              0.75938   \n",
       "split3_train_score                                            0.776871   \n",
       "std_fit_time                                                0.00028658   \n",
       "std_score_time                                             6.62872e-06   \n",
       "std_test_score                                              0.00478354   \n",
       "std_train_score                                             0.00217385   \n",
       "\n",
       "                                                                   1    \\\n",
       "mean_fit_time                                               0.00342476   \n",
       "mean_score_time                                            0.000918746   \n",
       "mean_test_score                                               0.767125   \n",
       "mean_train_score                                              0.773208   \n",
       "param_max_leaf_nodes                                                 2   \n",
       "param_min_samples_split                                              3   \n",
       "params                   {'min_samples_split': 3, 'max_leaf_nodes': 2}   \n",
       "rank_test_score                                                    292   \n",
       "split0_test_score                                             0.771614   \n",
       "split0_train_score                                            0.772462   \n",
       "split1_test_score                                                0.767   \n",
       "split1_train_score                                            0.772333   \n",
       "split2_test_score                                               0.7705   \n",
       "split2_train_score                                            0.771167   \n",
       "split3_test_score                                              0.75938   \n",
       "split3_train_score                                            0.776871   \n",
       "std_fit_time                                               0.000415274   \n",
       "std_score_time                                             0.000687778   \n",
       "std_test_score                                              0.00478354   \n",
       "std_train_score                                             0.00217385   \n",
       "\n",
       "                                                                   2    \\\n",
       "mean_fit_time                                               0.00389224   \n",
       "mean_score_time                                             0.00108057   \n",
       "mean_test_score                                               0.767125   \n",
       "mean_train_score                                              0.773208   \n",
       "param_max_leaf_nodes                                                 2   \n",
       "param_min_samples_split                                              4   \n",
       "params                   {'min_samples_split': 4, 'max_leaf_nodes': 2}   \n",
       "rank_test_score                                                    292   \n",
       "split0_test_score                                             0.771614   \n",
       "split0_train_score                                            0.772462   \n",
       "split1_test_score                                                0.767   \n",
       "split1_train_score                                            0.772333   \n",
       "split2_test_score                                               0.7705   \n",
       "split2_train_score                                            0.771167   \n",
       "split3_test_score                                              0.75938   \n",
       "split3_train_score                                            0.776871   \n",
       "std_fit_time                                                0.00075869   \n",
       "std_score_time                                             0.000482167   \n",
       "std_test_score                                              0.00478354   \n",
       "std_train_score                                             0.00217385   \n",
       "\n",
       "                                                                   3    \\\n",
       "mean_fit_time                                               0.00437468   \n",
       "mean_score_time                                            0.000637293   \n",
       "mean_test_score                                                 0.8175   \n",
       "mean_train_score                                              0.822166   \n",
       "param_max_leaf_nodes                                                 3   \n",
       "param_min_samples_split                                              2   \n",
       "params                   {'min_samples_split': 2, 'max_leaf_nodes': 3}   \n",
       "rank_test_score                                                    289   \n",
       "split0_test_score                                             0.821589   \n",
       "split0_train_score                                            0.816303   \n",
       "split1_test_score                                               0.8215   \n",
       "split1_train_score                                            0.823833   \n",
       "split2_test_score                                                0.823   \n",
       "split2_train_score                                            0.824333   \n",
       "split3_test_score                                             0.803902   \n",
       "split3_train_score                                            0.824196   \n",
       "std_fit_time                                               0.000869173   \n",
       "std_score_time                                             0.000138438   \n",
       "std_test_score                                              0.00787074   \n",
       "std_train_score                                             0.00339029   \n",
       "\n",
       "                                                                   4    \\\n",
       "mean_fit_time                                               0.00418496   \n",
       "mean_score_time                                            0.000501275   \n",
       "mean_test_score                                                 0.8175   \n",
       "mean_train_score                                              0.822166   \n",
       "param_max_leaf_nodes                                                 3   \n",
       "param_min_samples_split                                              3   \n",
       "params                   {'min_samples_split': 3, 'max_leaf_nodes': 3}   \n",
       "rank_test_score                                                    289   \n",
       "split0_test_score                                             0.821589   \n",
       "split0_train_score                                            0.816303   \n",
       "split1_test_score                                               0.8215   \n",
       "split1_train_score                                            0.823833   \n",
       "split2_test_score                                                0.823   \n",
       "split2_train_score                                            0.824333   \n",
       "split3_test_score                                             0.803902   \n",
       "split3_train_score                                            0.824196   \n",
       "std_fit_time                                               0.000585921   \n",
       "std_score_time                                             3.34706e-05   \n",
       "std_test_score                                              0.00787074   \n",
       "std_train_score                                             0.00339029   \n",
       "\n",
       "                                                                   5    \\\n",
       "mean_fit_time                                               0.00379205   \n",
       "mean_score_time                                             0.00050652   \n",
       "mean_test_score                                                 0.8175   \n",
       "mean_train_score                                              0.822166   \n",
       "param_max_leaf_nodes                                                 3   \n",
       "param_min_samples_split                                              4   \n",
       "params                   {'min_samples_split': 4, 'max_leaf_nodes': 3}   \n",
       "rank_test_score                                                    289   \n",
       "split0_test_score                                             0.821589   \n",
       "split0_train_score                                            0.816303   \n",
       "split1_test_score                                               0.8215   \n",
       "split1_train_score                                            0.823833   \n",
       "split2_test_score                                                0.823   \n",
       "split2_train_score                                            0.824333   \n",
       "split3_test_score                                             0.803902   \n",
       "split3_train_score                                            0.824196   \n",
       "std_fit_time                                               2.53627e-05   \n",
       "std_score_time                                             2.36248e-05   \n",
       "std_test_score                                              0.00787074   \n",
       "std_train_score                                             0.00339029   \n",
       "\n",
       "                                                                   6    \\\n",
       "mean_fit_time                                               0.00424951   \n",
       "mean_score_time                                            0.000491321   \n",
       "mean_test_score                                               0.853125   \n",
       "mean_train_score                                              0.858542   \n",
       "param_max_leaf_nodes                                                 4   \n",
       "param_min_samples_split                                              2   \n",
       "params                   {'min_samples_split': 2, 'max_leaf_nodes': 4}   \n",
       "rank_test_score                                                    160   \n",
       "split0_test_score                                             0.858071   \n",
       "split0_train_score                                            0.858143   \n",
       "split1_test_score                                                0.851   \n",
       "split1_train_score                                               0.858   \n",
       "split2_test_score                                               0.8565   \n",
       "split2_train_score                                               0.857   \n",
       "split3_test_score                                             0.846923   \n",
       "split3_train_score                                            0.861023   \n",
       "std_fit_time                                               9.43915e-05   \n",
       "std_score_time                                             3.99717e-05   \n",
       "std_test_score                                              0.00443906   \n",
       "std_train_score                                             0.00149891   \n",
       "\n",
       "                                                                   7    \\\n",
       "mean_fit_time                                               0.00414824   \n",
       "mean_score_time                                            0.000476182   \n",
       "mean_test_score                                               0.853125   \n",
       "mean_train_score                                              0.858542   \n",
       "param_max_leaf_nodes                                                 4   \n",
       "param_min_samples_split                                              3   \n",
       "params                   {'min_samples_split': 3, 'max_leaf_nodes': 4}   \n",
       "rank_test_score                                                    160   \n",
       "split0_test_score                                             0.858071   \n",
       "split0_train_score                                            0.858143   \n",
       "split1_test_score                                                0.851   \n",
       "split1_train_score                                               0.858   \n",
       "split2_test_score                                               0.8565   \n",
       "split2_train_score                                               0.857   \n",
       "split3_test_score                                             0.846923   \n",
       "split3_train_score                                            0.861023   \n",
       "std_fit_time                                               9.90762e-05   \n",
       "std_score_time                                             2.45677e-05   \n",
       "std_test_score                                              0.00443906   \n",
       "std_train_score                                             0.00149891   \n",
       "\n",
       "                                                                   8    \\\n",
       "mean_fit_time                                               0.00420153   \n",
       "mean_score_time                                            0.000506222   \n",
       "mean_test_score                                               0.853125   \n",
       "mean_train_score                                              0.858542   \n",
       "param_max_leaf_nodes                                                 4   \n",
       "param_min_samples_split                                              4   \n",
       "params                   {'min_samples_split': 4, 'max_leaf_nodes': 4}   \n",
       "rank_test_score                                                    160   \n",
       "split0_test_score                                             0.858071   \n",
       "split0_train_score                                            0.858143   \n",
       "split1_test_score                                                0.851   \n",
       "split1_train_score                                               0.858   \n",
       "split2_test_score                                               0.8565   \n",
       "split2_train_score                                               0.857   \n",
       "split3_test_score                                             0.846923   \n",
       "split3_train_score                                            0.861023   \n",
       "std_fit_time                                               3.23866e-05   \n",
       "std_score_time                                             5.68436e-05   \n",
       "std_test_score                                              0.00443906   \n",
       "std_train_score                                             0.00149891   \n",
       "\n",
       "                                                                   9    \\\n",
       "mean_fit_time                                               0.00483829   \n",
       "mean_score_time                                            0.000504732   \n",
       "mean_test_score                                               0.853125   \n",
       "mean_train_score                                              0.858542   \n",
       "param_max_leaf_nodes                                                 5   \n",
       "param_min_samples_split                                              2   \n",
       "params                   {'min_samples_split': 2, 'max_leaf_nodes': 5}   \n",
       "rank_test_score                                                    160   \n",
       "split0_test_score                                             0.858071   \n",
       "split0_train_score                                            0.858143   \n",
       "split1_test_score                                                0.851   \n",
       "split1_train_score                                               0.858   \n",
       "split2_test_score                                               0.8565   \n",
       "split2_train_score                                               0.857   \n",
       "split3_test_score                                             0.846923   \n",
       "split3_train_score                                            0.861023   \n",
       "std_fit_time                                                0.00011652   \n",
       "std_score_time                                             2.24892e-05   \n",
       "std_test_score                                              0.00443906   \n",
       "std_train_score                                             0.00149891   \n",
       "\n",
       "                                              ...                        \\\n",
       "mean_fit_time                                 ...                         \n",
       "mean_score_time                               ...                         \n",
       "mean_test_score                               ...                         \n",
       "mean_train_score                              ...                         \n",
       "param_max_leaf_nodes                          ...                         \n",
       "param_min_samples_split                       ...                         \n",
       "params                                        ...                         \n",
       "rank_test_score                               ...                         \n",
       "split0_test_score                             ...                         \n",
       "split0_train_score                            ...                         \n",
       "split1_test_score                             ...                         \n",
       "split1_train_score                            ...                         \n",
       "split2_test_score                             ...                         \n",
       "split2_train_score                            ...                         \n",
       "split3_test_score                             ...                         \n",
       "split3_train_score                            ...                         \n",
       "std_fit_time                                  ...                         \n",
       "std_score_time                                ...                         \n",
       "std_test_score                                ...                         \n",
       "std_train_score                               ...                         \n",
       "\n",
       "                                                                    284  \\\n",
       "mean_fit_time                                                 0.0131614   \n",
       "mean_score_time                                              0.00150633   \n",
       "mean_test_score                                                0.849625   \n",
       "mean_train_score                                               0.891625   \n",
       "param_max_leaf_nodes                                                 96   \n",
       "param_min_samples_split                                               4   \n",
       "params                   {'min_samples_split': 4, 'max_leaf_nodes': 96}   \n",
       "rank_test_score                                                     254   \n",
       "split0_test_score                                              0.857571   \n",
       "split0_train_score                                             0.889982   \n",
       "split1_test_score                                                0.8515   \n",
       "split1_train_score                                             0.888667   \n",
       "split2_test_score                                                 0.846   \n",
       "split2_train_score                                             0.892833   \n",
       "split3_test_score                                              0.843422   \n",
       "split3_train_score                                             0.895017   \n",
       "std_fit_time                                                 0.00384945   \n",
       "std_score_time                                               0.00105997   \n",
       "std_test_score                                                0.0054381   \n",
       "std_train_score                                               0.0024709   \n",
       "\n",
       "                                                                    285  \\\n",
       "mean_fit_time                                                  0.014876   \n",
       "mean_score_time                                             0.000652254   \n",
       "mean_test_score                                                 0.84925   \n",
       "mean_train_score                                               0.891708   \n",
       "param_max_leaf_nodes                                                 97   \n",
       "param_min_samples_split                                               2   \n",
       "params                   {'min_samples_split': 2, 'max_leaf_nodes': 97}   \n",
       "rank_test_score                                                     280   \n",
       "split0_test_score                                              0.856072   \n",
       "split0_train_score                                             0.889982   \n",
       "split1_test_score                                                0.8515   \n",
       "split1_train_score                                             0.888667   \n",
       "split2_test_score                                                0.8455   \n",
       "split2_train_score                                             0.892833   \n",
       "split3_test_score                                              0.843922   \n",
       "split3_train_score                                             0.895351   \n",
       "std_fit_time                                                   0.003767   \n",
       "std_score_time                                              9.05161e-05   \n",
       "std_test_score                                               0.00484926   \n",
       "std_train_score                                               0.0025868   \n",
       "\n",
       "                                                                    286  \\\n",
       "mean_fit_time                                                 0.0126915   \n",
       "mean_score_time                                              0.00140995   \n",
       "mean_test_score                                                0.849625   \n",
       "mean_train_score                                               0.891708   \n",
       "param_max_leaf_nodes                                                 97   \n",
       "param_min_samples_split                                               3   \n",
       "params                   {'min_samples_split': 3, 'max_leaf_nodes': 97}   \n",
       "rank_test_score                                                     254   \n",
       "split0_test_score                                              0.857571   \n",
       "split0_train_score                                             0.889982   \n",
       "split1_test_score                                                0.8515   \n",
       "split1_train_score                                             0.888667   \n",
       "split2_test_score                                                0.8455   \n",
       "split2_train_score                                             0.892833   \n",
       "split3_test_score                                              0.843922   \n",
       "split3_train_score                                             0.895351   \n",
       "std_fit_time                                                 0.00175278   \n",
       "std_score_time                                              0.000328068   \n",
       "std_test_score                                               0.00539012   \n",
       "std_train_score                                               0.0025868   \n",
       "\n",
       "                                                                    287  \\\n",
       "mean_fit_time                                                 0.0113176   \n",
       "mean_score_time                                              0.00116128   \n",
       "mean_test_score                                                0.849625   \n",
       "mean_train_score                                               0.891791   \n",
       "param_max_leaf_nodes                                                 97   \n",
       "param_min_samples_split                                               4   \n",
       "params                   {'min_samples_split': 4, 'max_leaf_nodes': 97}   \n",
       "rank_test_score                                                     254   \n",
       "split0_test_score                                              0.857571   \n",
       "split0_train_score                                             0.889982   \n",
       "split1_test_score                                                0.8515   \n",
       "split1_train_score                                             0.888667   \n",
       "split2_test_score                                                 0.846   \n",
       "split2_train_score                                             0.893167   \n",
       "split3_test_score                                              0.843422   \n",
       "split3_train_score                                             0.895351   \n",
       "std_fit_time                                                0.000741527   \n",
       "std_score_time                                              0.000509791   \n",
       "std_test_score                                                0.0054381   \n",
       "std_train_score                                              0.00262677   \n",
       "\n",
       "                                                                    288  \\\n",
       "mean_fit_time                                                 0.0092935   \n",
       "mean_score_time                                             0.000618696   \n",
       "mean_test_score                                                0.849625   \n",
       "mean_train_score                                               0.892041   \n",
       "param_max_leaf_nodes                                                 98   \n",
       "param_min_samples_split                                               2   \n",
       "params                   {'min_samples_split': 2, 'max_leaf_nodes': 98}   \n",
       "rank_test_score                                                     254   \n",
       "split0_test_score                                              0.857571   \n",
       "split0_train_score                                             0.890148   \n",
       "split1_test_score                                                 0.851   \n",
       "split1_train_score                                             0.889167   \n",
       "split2_test_score                                                 0.846   \n",
       "split2_train_score                                             0.893333   \n",
       "split3_test_score                                              0.843922   \n",
       "split3_train_score                                             0.895517   \n",
       "std_fit_time                                                0.000169708   \n",
       "std_score_time                                              5.38425e-06   \n",
       "std_test_score                                               0.00526102   \n",
       "std_train_score                                               0.0025298   \n",
       "\n",
       "                                                                    289  \\\n",
       "mean_fit_time                                                0.00909376   \n",
       "mean_score_time                                             0.000583291   \n",
       "mean_test_score                                                   0.849   \n",
       "mean_train_score                                                  0.892   \n",
       "param_max_leaf_nodes                                                 98   \n",
       "param_min_samples_split                                               3   \n",
       "params                   {'min_samples_split': 3, 'max_leaf_nodes': 98}   \n",
       "rank_test_score                                                     286   \n",
       "split0_test_score                                              0.856072   \n",
       "split0_train_score                                             0.890148   \n",
       "split1_test_score                                                 0.851   \n",
       "split1_train_score                                             0.889167   \n",
       "split2_test_score                                                0.8455   \n",
       "split2_train_score                                             0.893167   \n",
       "split3_test_score                                              0.843422   \n",
       "split3_train_score                                             0.895517   \n",
       "std_fit_time                                                0.000663532   \n",
       "std_score_time                                              1.12038e-05   \n",
       "std_test_score                                                0.0049343   \n",
       "std_train_score                                              0.00250947   \n",
       "\n",
       "                                                                    290  \\\n",
       "mean_fit_time                                                0.00997627   \n",
       "mean_score_time                                             0.000745714   \n",
       "mean_test_score                                                   0.849   \n",
       "mean_train_score                                               0.891875   \n",
       "param_max_leaf_nodes                                                 98   \n",
       "param_min_samples_split                                               4   \n",
       "params                   {'min_samples_split': 4, 'max_leaf_nodes': 98}   \n",
       "rank_test_score                                                     286   \n",
       "split0_test_score                                              0.856072   \n",
       "split0_train_score                                             0.890148   \n",
       "split1_test_score                                                 0.851   \n",
       "split1_train_score                                             0.889167   \n",
       "split2_test_score                                                0.8455   \n",
       "split2_train_score                                             0.892667   \n",
       "split3_test_score                                              0.843422   \n",
       "split3_train_score                                             0.895517   \n",
       "std_fit_time                                                0.000427883   \n",
       "std_score_time                                              0.000107788   \n",
       "std_test_score                                                0.0049343   \n",
       "std_train_score                                               0.0024602   \n",
       "\n",
       "                                                                    291  \\\n",
       "mean_fit_time                                                0.00998843   \n",
       "mean_score_time                                             0.000813842   \n",
       "mean_test_score                                                  0.8495   \n",
       "mean_train_score                                               0.892333   \n",
       "param_max_leaf_nodes                                                 99   \n",
       "param_min_samples_split                                               2   \n",
       "params                   {'min_samples_split': 2, 'max_leaf_nodes': 99}   \n",
       "rank_test_score                                                     265   \n",
       "split0_test_score                                              0.857571   \n",
       "split0_train_score                                             0.890815   \n",
       "split1_test_score                                                 0.851   \n",
       "split1_train_score                                             0.889333   \n",
       "split2_test_score                                                 0.846   \n",
       "split2_train_score                                             0.893667   \n",
       "split3_test_score                                              0.843422   \n",
       "split3_train_score                                             0.895517   \n",
       "std_fit_time                                                 0.00076827   \n",
       "std_score_time                                              0.000287493   \n",
       "std_test_score                                               0.00539917   \n",
       "std_train_score                                              0.00240941   \n",
       "\n",
       "                                                                    292  \\\n",
       "mean_fit_time                                                0.00947696   \n",
       "mean_score_time                                             0.000817597   \n",
       "mean_test_score                                                  0.8495   \n",
       "mean_train_score                                               0.892333   \n",
       "param_max_leaf_nodes                                                 99   \n",
       "param_min_samples_split                                               3   \n",
       "params                   {'min_samples_split': 3, 'max_leaf_nodes': 99}   \n",
       "rank_test_score                                                     265   \n",
       "split0_test_score                                              0.857571   \n",
       "split0_train_score                                             0.890815   \n",
       "split1_test_score                                                 0.851   \n",
       "split1_train_score                                             0.889333   \n",
       "split2_test_score                                                 0.846   \n",
       "split2_train_score                                             0.893667   \n",
       "split3_test_score                                              0.843422   \n",
       "split3_train_score                                             0.895517   \n",
       "std_fit_time                                                0.000686229   \n",
       "std_score_time                                              0.000187417   \n",
       "std_test_score                                               0.00539917   \n",
       "std_train_score                                              0.00240941   \n",
       "\n",
       "                                                                    293  \n",
       "mean_fit_time                                                0.00973105  \n",
       "mean_score_time                                             0.000677943  \n",
       "mean_test_score                                                0.849375  \n",
       "mean_train_score                                               0.892208  \n",
       "param_max_leaf_nodes                                                 99  \n",
       "param_min_samples_split                                               4  \n",
       "params                   {'min_samples_split': 4, 'max_leaf_nodes': 99}  \n",
       "rank_test_score                                                     276  \n",
       "split0_test_score                                              0.857571  \n",
       "split0_train_score                                             0.890815  \n",
       "split1_test_score                                                 0.851  \n",
       "split1_train_score                                             0.889333  \n",
       "split2_test_score                                                0.8455  \n",
       "split2_train_score                                             0.893167  \n",
       "split3_test_score                                              0.843422  \n",
       "split3_train_score                                             0.895517  \n",
       "std_fit_time                                                0.000651446  \n",
       "std_score_time                                              8.55575e-05  \n",
       "std_test_score                                               0.00548388  \n",
       "std_train_score                                               0.0023492  \n",
       "\n",
       "[20 rows x 294 columns]"
      ]
     },
     "execution_count": 155,
     "metadata": {},
     "output_type": "execute_result"
    }
   ],
   "source": [
    "import pandas as pd\n",
    "\n",
    "pd.DataFrame(result.cv_results_).T"
   ]
  },
  {
   "cell_type": "code",
   "execution_count": 45,
   "metadata": {},
   "outputs": [
    {
     "data": {
      "text/plain": [
       "DecisionTreeClassifier(class_weight=None, criterion='gini', max_depth=None,\n",
       "            max_features=None, max_leaf_nodes=31,\n",
       "            min_impurity_decrease=0.0, min_impurity_split=None,\n",
       "            min_samples_leaf=1, min_samples_split=3,\n",
       "            min_weight_fraction_leaf=0.0, presort=False, random_state=None,\n",
       "            splitter='best')"
      ]
     },
     "execution_count": 45,
     "metadata": {},
     "output_type": "execute_result"
    }
   ],
   "source": [
    "result.best_estimator_"
   ]
  },
  {
   "cell_type": "markdown",
   "metadata": {},
   "source": [
    "**8- Grow a forest.**\n",
    "\n"
   ]
  },
  {
   "cell_type": "markdown",
   "metadata": {},
   "source": [
    "a. Continuing the previous exercise, generate 1,000 subsets of the training set, each containing 100 instances selected randomly. Hint: you can use Scikit-Learn's ShuffleSplit class for this."
   ]
  },
  {
   "cell_type": "code",
   "execution_count": 77,
   "metadata": {},
   "outputs": [
    {
     "data": {
      "text/plain": [
       "(8000, 2)"
      ]
     },
     "execution_count": 77,
     "metadata": {},
     "output_type": "execute_result"
    }
   ],
   "source": [
    "X_train.shape"
   ]
  },
  {
   "cell_type": "code",
   "execution_count": 132,
   "metadata": {},
   "outputs": [
    {
     "data": {
      "text/plain": [
       "(8000,)"
      ]
     },
     "execution_count": 132,
     "metadata": {},
     "output_type": "execute_result"
    }
   ],
   "source": [
    "y_train.shape"
   ]
  },
  {
   "cell_type": "code",
   "execution_count": 161,
   "metadata": {},
   "outputs": [],
   "source": [
    "from sklearn.model_selection import ShuffleSplit\n",
    "\n",
    "n_trees = 1000\n",
    "n_instances = 100\n",
    "\n",
    "mini_sets = []\n",
    "\n",
    "rs = ShuffleSplit(n_splits=n_trees, test_size=len(X_train) - n_instances, random_state=42)\n",
    "for mini_train_index, mini_test_index in rs.split(X_train):\n",
    "    X_mini_train = X_train[mini_train_index]\n",
    "    y_mini_train = y_train[mini_train_index]\n",
    "    #  to make train size 100, test size 2215!!!\n",
    "    mini_sets.append((X_mini_train, y_mini_train))"
   ]
  },
  {
   "cell_type": "code",
   "execution_count": 162,
   "metadata": {},
   "outputs": [
    {
     "data": {
      "text/plain": [
       "7900"
      ]
     },
     "execution_count": 162,
     "metadata": {},
     "output_type": "execute_result"
    }
   ],
   "source": [
    "# test size!\n",
    "len(X_train) - n_instances"
   ]
  },
  {
   "cell_type": "code",
   "execution_count": 163,
   "metadata": {},
   "outputs": [
    {
     "data": {
      "text/plain": [
       "1000"
      ]
     },
     "execution_count": 163,
     "metadata": {},
     "output_type": "execute_result"
    }
   ],
   "source": [
    "len(mini_sets)"
   ]
  },
  {
   "cell_type": "code",
   "execution_count": 164,
   "metadata": {},
   "outputs": [
    {
     "data": {
      "text/plain": [
       "((100, 2), (100,))"
      ]
     },
     "execution_count": 164,
     "metadata": {},
     "output_type": "execute_result"
    }
   ],
   "source": [
    "mini_sets[0][0].shape, mini_sets[0][1].shape"
   ]
  },
  {
   "cell_type": "code",
   "execution_count": 165,
   "metadata": {},
   "outputs": [],
   "source": [
    "from sklearn.metrics import accuracy_score\n",
    "import numpy as np"
   ]
  },
  {
   "cell_type": "markdown",
   "metadata": {},
   "source": [
    "b. Train one Decision Tree on each subset, using the best hyperparameter values found above. Evaluate these 1,000 Decision Trees on the test set. Since they were trained on smaller sets, these Decision Trees will likely perform worse than the first Decision Tree, achieving only about 80% accuracy."
   ]
  },
  {
   "cell_type": "code",
   "execution_count": 166,
   "metadata": {},
   "outputs": [
    {
     "data": {
      "text/plain": [
       "0.79209000000000007"
      ]
     },
     "execution_count": 166,
     "metadata": {},
     "output_type": "execute_result"
    }
   ],
   "source": [
    "from sklearn.base import clone\n",
    "\n",
    "forest = [clone(result.best_estimator_) for _ in range(n_trees)]\n",
    "\n",
    "accuracy_scores = []\n",
    "\n",
    "for tree, (X_mini_train, y_mini_train) in zip(forest, mini_sets):\n",
    "    \n",
    "    # fit the decision tree with the best params\n",
    "    tree.fit(X_mini_train, y_mini_train)\n",
    "    \n",
    "    \n",
    "    y_pred = tree.predict(X_test)\n",
    "    accuracy_scores.append(accuracy_score(y_test, y_pred))\n",
    "\n",
    "    \n",
    "np.mean(accuracy_scores)"
   ]
  },
  {
   "cell_type": "markdown",
   "metadata": {},
   "source": [
    "c. Now comes the magic. For each test set instance, generate the predictions of the 1,000 Decision Trees, and keep only the most frequent prediction (you can use SciPy's mode() function for this). This gives you majority-vote predictions over the test set."
   ]
  },
  {
   "cell_type": "code",
   "execution_count": 167,
   "metadata": {},
   "outputs": [],
   "source": [
    "Y_pred = np.empty([n_trees, len(X_test)], dtype=np.uint8)\n",
    "\n",
    "for tree_index, tree in enumerate(forest):\n",
    "    Y_pred[tree_index] = tree.predict(X_test)"
   ]
  },
  {
   "cell_type": "code",
   "execution_count": 168,
   "metadata": {},
   "outputs": [],
   "source": [
    "from scipy.stats import mode\n",
    "\n",
    "y_pred_majority_votes, n_votes = mode(Y_pred, axis=0)"
   ]
  },
  {
   "cell_type": "markdown",
   "metadata": {},
   "source": [
    "d. Evaluate these predictions on the test set: you should obtain a slightly higher accuracy than your first model (about 0.5 to 1.5% higher). Congratulations, you have trained a Random Forest classifier!"
   ]
  },
  {
   "cell_type": "code",
   "execution_count": 94,
   "metadata": {},
   "outputs": [
    {
     "data": {
      "text/plain": [
       "(2000,)"
      ]
     },
     "execution_count": 94,
     "metadata": {},
     "output_type": "execute_result"
    }
   ],
   "source": [
    "test_y.shape"
   ]
  },
  {
   "cell_type": "code",
   "execution_count": 95,
   "metadata": {},
   "outputs": [
    {
     "data": {
      "text/plain": [
       "(1, 2000)"
      ]
     },
     "execution_count": 95,
     "metadata": {},
     "output_type": "execute_result"
    }
   ],
   "source": [
    "y_pred_majority_votes.shape"
   ]
  },
  {
   "cell_type": "code",
   "execution_count": 100,
   "metadata": {},
   "outputs": [
    {
     "data": {
      "text/plain": [
       "(2000, 1)"
      ]
     },
     "execution_count": 100,
     "metadata": {},
     "output_type": "execute_result"
    }
   ],
   "source": [
    "y_pred_majority_votes.reshape([-1,1]).shape"
   ]
  },
  {
   "cell_type": "code",
   "execution_count": 101,
   "metadata": {},
   "outputs": [
    {
     "data": {
      "text/plain": [
       "(2000,)"
      ]
     },
     "execution_count": 101,
     "metadata": {},
     "output_type": "execute_result"
    }
   ],
   "source": [
    "y_pred_majority_votes.reshape([-1]).shape"
   ]
  },
  {
   "cell_type": "code",
   "execution_count": 102,
   "metadata": {},
   "outputs": [
    {
     "data": {
      "text/plain": [
       "0.87250000000000005"
      ]
     },
     "execution_count": 102,
     "metadata": {},
     "output_type": "execute_result"
    }
   ],
   "source": [
    "accuracy_score(test_y, y_pred_majority_votes.reshape([-1]))"
   ]
  },
  {
   "cell_type": "code",
   "execution_count": 105,
   "metadata": {},
   "outputs": [
    {
     "data": {
      "text/plain": [
       "array([[1, 0, 1, ..., 1, 1, 1]], dtype=uint8)"
      ]
     },
     "execution_count": 105,
     "metadata": {},
     "output_type": "execute_result"
    }
   ],
   "source": [
    "# predicted result!\n",
    "y_pred_majority_votes"
   ]
  },
  {
   "cell_type": "code",
   "execution_count": null,
   "metadata": {},
   "outputs": [],
   "source": []
  }
 ],
 "metadata": {
  "kernelspec": {
   "display_name": "Python 3",
   "language": "python",
   "name": "python3"
  },
  "language_info": {
   "codemirror_mode": {
    "name": "ipython",
    "version": 3
   },
   "file_extension": ".py",
   "mimetype": "text/x-python",
   "name": "python",
   "nbconvert_exporter": "python",
   "pygments_lexer": "ipython3",
   "version": "3.5.4"
  }
 },
 "nbformat": 4,
 "nbformat_minor": 2
}
