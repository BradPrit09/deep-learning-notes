{
 "cells": [
  {
   "cell_type": "code",
   "execution_count": 1,
   "metadata": {},
   "outputs": [
    {
     "name": "stderr",
     "output_type": "stream",
     "text": [
      "/Users/hakan/.pyenv/versions/3.6.4/lib/python3.6/site-packages/h5py/__init__.py:36: FutureWarning: Conversion of the second argument of issubdtype from `float` to `np.floating` is deprecated. In future, it will be treated as `np.float64 == np.dtype(float).type`.\n",
      "  from ._conv import register_converters as _register_converters\n"
     ]
    }
   ],
   "source": [
    "import tensorflow as tf"
   ]
  },
  {
   "cell_type": "code",
   "execution_count": 2,
   "metadata": {},
   "outputs": [],
   "source": [
    "import numpy as np  "
   ]
  },
  {
   "cell_type": "code",
   "execution_count": 3,
   "metadata": {},
   "outputs": [
    {
     "name": "stdout",
     "output_type": "stream",
     "text": [
      "<class 'list'>\n",
      "<class 'numpy.ndarray'>\n",
      "<class 'tensorflow.python.framework.ops.Tensor'>\n",
      "<class 'tensorflow.python.framework.ops.Tensor'>\n",
      "<class 'tensorflow.python.framework.ops.Tensor'>\n",
      "<class 'tensorflow.python.framework.ops.Tensor'>\n"
     ]
    }
   ],
   "source": [
    "m1 = [[1.0, 2.0],\n",
    "      [3.0, 4.0]]                                  \n",
    "\n",
    "m2 = np.array([[1.0, 2.0],\n",
    "               [3.0, 4.0]], dtype=np.float32)      \n",
    "\n",
    "m3 = tf.constant([[1.0, 2.0],\n",
    "                  [3.0, 4.0]])                     \n",
    "\n",
    "print(type(m1))                                    \n",
    "print(type(m2))                                    \n",
    "print(type(m3))                                    \n",
    "\n",
    "t1 = tf.convert_to_tensor(m1, dtype=tf.float32)    \n",
    "t2 = tf.convert_to_tensor(m2, dtype=tf.float32)    \n",
    "t3 = tf.convert_to_tensor(m3, dtype=tf.float32)    \n",
    "\n",
    "print(type(t1))                                    \n",
    "print(type(t2))                                    \n",
    "print(type(t3))    "
   ]
  },
  {
   "cell_type": "code",
   "execution_count": 5,
   "metadata": {},
   "outputs": [
    {
     "data": {
      "text/plain": [
       "[]"
      ]
     },
     "execution_count": 5,
     "metadata": {},
     "output_type": "execute_result"
    }
   ],
   "source": [
    "list(t3.op.inputs)"
   ]
  },
  {
   "cell_type": "code",
   "execution_count": 6,
   "metadata": {},
   "outputs": [
    {
     "data": {
      "text/plain": [
       "<tf.Operation 'Const' type=Const>"
      ]
     },
     "execution_count": 6,
     "metadata": {},
     "output_type": "execute_result"
    }
   ],
   "source": [
    "t3.op"
   ]
  },
  {
   "cell_type": "code",
   "execution_count": 7,
   "metadata": {},
   "outputs": [
    {
     "data": {
      "text/plain": [
       "[<tf.Tensor 'Const:0' shape=(2, 2) dtype=float32>]"
      ]
     },
     "execution_count": 7,
     "metadata": {},
     "output_type": "execute_result"
    }
   ],
   "source": [
    "t3.op.outputs"
   ]
  },
  {
   "cell_type": "code",
   "execution_count": 8,
   "metadata": {},
   "outputs": [
    {
     "name": "stdout",
     "output_type": "stream",
     "text": [
      "Tensor(\"Const_3:0\", shape=(1, 2), dtype=float32)\n",
      "Tensor(\"Const_4:0\", shape=(2, 1), dtype=int32)\n",
      "Tensor(\"Const_5:0\", shape=(2, 3, 2), dtype=int32)\n"
     ]
    }
   ],
   "source": [
    "m1 = tf.constant([[1., 2.]])       \n",
    "\n",
    "m2 = tf.constant([[1],\n",
    "                  [2]])            \n",
    "\n",
    "m3 = tf.constant([ [[1,2],\n",
    "                    [3,4],\n",
    "                    [5,6]],\n",
    "                   [[7,8],\n",
    "                    [9,10],\n",
    "                    [11,12]]])    \n",
    "\n",
    "print(m1)                          \n",
    "print(m2)                          \n",
    "print(m3)                  "
   ]
  },
  {
   "cell_type": "code",
   "execution_count": 10,
   "metadata": {},
   "outputs": [
    {
     "data": {
      "text/plain": [
       "<tf.Tensor 'Const_7:0' shape=() dtype=int32>"
      ]
     },
     "execution_count": 10,
     "metadata": {},
     "output_type": "execute_result"
    }
   ],
   "source": [
    "tf.constant(0, shape=[])       "
   ]
  },
  {
   "cell_type": "code",
   "execution_count": 11,
   "metadata": {},
   "outputs": [
    {
     "data": {
      "text/plain": [
       "<tf.Tensor 'mul:0' shape=(500, 500) dtype=float32>"
      ]
     },
     "execution_count": 11,
     "metadata": {},
     "output_type": "execute_result"
    }
   ],
   "source": [
    "tf.ones([500,500]) * 0.5"
   ]
  },
  {
   "cell_type": "code",
   "execution_count": 12,
   "metadata": {},
   "outputs": [
    {
     "name": "stdout",
     "output_type": "stream",
     "text": [
      "Tensor(\"Neg:0\", shape=(1, 2), dtype=int32)\n"
     ]
    }
   ],
   "source": [
    "x = tf.constant([[1, 2]])         \n",
    "negMatrix = tf.negative(x)        \n",
    "print(negMatrix)     "
   ]
  },
  {
   "cell_type": "markdown",
   "metadata": {},
   "source": [
    "Use the TensorFlow operators you’ve learned so far to produce the Gaussian distribution (also known as the normal distribution). See figure 2.3 for a hint. For reference, you can find the probability density of the normal distribution online: https://en.wikipedia.org/wiki/Normal_distribution."
   ]
  },
  {
   "cell_type": "code",
   "execution_count": null,
   "metadata": {},
   "outputs": [],
   "source": [
    "mean = 0.0\n",
    "sigma = 1.0\n",
    "(tf.exp(tf.negative(tf.pow(x - mean, 2.0) / (2.0 * tf.pow(sigma, 2.0) ))) * (1.0 / (sigma * tf.sqrt(2.0 * pi) )))"
   ]
  },
  {
   "cell_type": "code",
   "execution_count": 15,
   "metadata": {},
   "outputs": [
    {
     "name": "stdout",
     "output_type": "stream",
     "text": [
      "[[-1 -2]]\n"
     ]
    }
   ],
   "source": [
    "x = tf.constant([[1., 2.]])           \n",
    "neg_op = tf.negative(x)               \n",
    "\n",
    "with tf.Session() as sess:            \n",
    "    result = sess.run(negMatrix)      \n",
    "print(result)       "
   ]
  },
  {
   "cell_type": "code",
   "execution_count": 16,
   "metadata": {},
   "outputs": [
    {
     "name": "stdout",
     "output_type": "stream",
     "text": [
      "[[-1. -2.]]\n"
     ]
    }
   ],
   "source": [
    "sess = tf.InteractiveSession()         \n",
    "\n",
    "x = tf.constant([[1., 2.]])            \n",
    "negMatrix = tf.negative(x)             \n",
    "\n",
    "result = negMatrix.eval()              \n",
    "print(result)                          \n",
    "\n",
    "sess.close()     "
   ]
  },
  {
   "cell_type": "code",
   "execution_count": 17,
   "metadata": {},
   "outputs": [
    {
     "name": "stdout",
     "output_type": "stream",
     "text": [
      "[[-1. -2.]]\n"
     ]
    }
   ],
   "source": [
    "x = tf.constant([[1., 2.]])                                                \n",
    "negMatrix = tf.negative(x)                                                 \n",
    "\n",
    "with tf.Session(config=tf.ConfigProto(log_device_placement=True)) as sess: \n",
    "    result = sess.run(negMatrix)                                           \n",
    "\n",
    "print(result)                                                              "
   ]
  },
  {
   "cell_type": "markdown",
   "metadata": {},
   "source": [
    "- `Placeholder` —A value that’s unassigned but will be initialized by the session wherever it’s run. Typically, placeholders are the input and output of your model.\n",
    "- `Variable` —A value that can change, such as parameters of a machine-learning model. Variables must be initialized by the session before they’re used.\n",
    "- `Constant` —A value that doesn’t change, such as hyperparameters or settings.\n",
    "\n",
    "https://www.tensorflow.org/api_guides/python/math_ops"
   ]
  },
  {
   "cell_type": "code",
   "execution_count": 28,
   "metadata": {},
   "outputs": [
    {
     "name": "stdout",
     "output_type": "stream",
     "text": [
      "Spike False\n",
      "Spike False\n",
      "Spike True\n",
      "Spike False\n",
      "Spike False\n",
      "Spike True\n",
      "Spike False\n",
      "Spike True\n"
     ]
    }
   ],
   "source": [
    "sess = tf.InteractiveSession()                    \n",
    "\n",
    "raw_data = [1., 2., 8., -1., 0., 5.5, 6., 13]     \n",
    "spike = tf.Variable(False)                        \n",
    "spike.initializer.run()                           \n",
    "\n",
    "for i in range(0, len(raw_data)):                 \n",
    "    if raw_data[i] - raw_data[i-1] > 5:\n",
    "        updater = tf.assign(spike, True)          \n",
    "        updater.eval()                            \n",
    "    else:\n",
    "        tf.assign(spike, False).eval()\n",
    "    print(\"Spike\", spike.eval())\n",
    "\n",
    "sess.close()"
   ]
  },
  {
   "cell_type": "code",
   "execution_count": 26,
   "metadata": {},
   "outputs": [
    {
     "name": "stdout",
     "output_type": "stream",
     "text": [
      "spikes data saved in file: ./spikes.ckpt\n"
     ]
    }
   ],
   "source": [
    "sess = tf.InteractiveSession()                                                \n",
    "\n",
    "raw_data = [1., 2., 8., -1., 0., 5.5, 6., 13]                                 \n",
    "spikes = tf.Variable([False] * len(raw_data), name='spikes')                  \n",
    "saver = tf.train.Saver()\n",
    "\n",
    "init = tf.global_variables_initializer()\n",
    "init.run()\n",
    "\n",
    "for i in range(1, len(raw_data)):                                             \n",
    "    if raw_data[i] - raw_data[i-1] > 5:                                       \n",
    "        spikes_val = spikes.eval()                                            \n",
    "        spikes_val[i] = True                                                  \n",
    "        updater = tf.assign(spikes, spikes_val)                               \n",
    "        updater.eval()                                                        \n",
    "\n",
    "save_path = saver.save(sess, \"./spikes.ckpt\")                                   \n",
    "print(\"spikes data saved in file: %s\" % save_path)                            \n",
    "\n",
    "sess.close()"
   ]
  },
  {
   "cell_type": "code",
   "execution_count": 27,
   "metadata": {},
   "outputs": [
    {
     "name": "stdout",
     "output_type": "stream",
     "text": [
      "INFO:tensorflow:Restoring parameters from ./spikes.ckpt\n",
      "[False False  True False False  True False  True]\n"
     ]
    }
   ],
   "source": [
    "sess = tf.InteractiveSession()\n",
    "\n",
    "# spikes = tf.Variable([False]*8, name='spikes') # we no longer need it if we run the previous cell on the same notebook!\n",
    "# spikes.initializer.run()        # You no longer need to initialize this variable because it’ll be directly loaded!!                   \n",
    "saver = tf.train.Saver()                              \n",
    "\n",
    "saver.restore(sess, \"./spikes.ckpt\")                  \n",
    "print(spikes.eval())                                  \n",
    "\n",
    "sess.close()"
   ]
  },
  {
   "cell_type": "code",
   "execution_count": 29,
   "metadata": {},
   "outputs": [
    {
     "name": "stdout",
     "output_type": "stream",
     "text": [
      "9.966342620078413 0.49831715\n",
      "10.52455352943744 0.9996289\n",
      "9.36166852910221 1.4177308\n",
      "8.600309899939862 1.7768598\n",
      "10.235372133031515 2.1997855\n",
      "9.953415168812603 2.5874667\n",
      "9.385027423525685 2.9273448\n",
      "10.02673583674066 3.2823143\n",
      "10.13539452624248 3.6249683\n",
      "7.647344424615325 3.826087\n",
      "10.208302637169295 4.145198\n",
      "9.025571463652925 4.3892164\n",
      "7.12532482303072 4.5260215\n",
      "11.146824924907987 4.8570614\n",
      "7.499086133092989 4.9891624\n",
      "9.835373689315004 5.231473\n",
      "9.520278170887508 5.4459133\n",
      "11.78253783740513 5.7627444\n",
      "9.872783382257534 5.968246\n",
      "9.685139294703973 6.154091\n",
      "10.677697053961092 6.3802714\n",
      "9.274331451056355 6.5249743\n",
      "9.429653905699034 6.6702085\n",
      "10.51499084442454 6.8624477\n",
      "10.035525015328018 7.0211015\n",
      "10.013731028370584 7.170733\n",
      "12.251099967843778 7.4247513\n",
      "10.596622326030571 7.5833445\n",
      "11.182600760345629 7.7633076\n",
      "10.292312340243132 7.8897576\n",
      "9.181942598456297 7.9543667\n",
      "8.270323664801623 7.9701643\n",
      "9.924920905716226 8.067903\n",
      "7.88104870498648 8.058559\n",
      "8.371059522959643 8.074184\n",
      "9.3244348663418 8.136697\n",
      "8.401957421518228 8.14996\n",
      "9.717867646579316 8.228355\n",
      "10.15463147290029 8.324669\n",
      "9.581778027211334 8.387525\n",
      "8.408254090357463 8.388561\n",
      "11.528821466968651 8.545574\n",
      "8.123059887903981 8.524448\n",
      "9.26876712561132 8.561664\n",
      "8.70491439651231 8.568826\n",
      "10.197889623720773 8.650279\n",
      "10.452944607087954 8.740412\n",
      "9.17993433497368 8.762388\n",
      "8.469466604113235 8.747742\n",
      "9.548775944475665 8.787793\n",
      "10.415890037942777 8.869198\n",
      "9.92085848289442 8.921781\n",
      "12.162460396206132 9.083815\n",
      "11.741191808326162 9.216683\n",
      "9.262433837961618 9.21897\n",
      "11.016548854052633 9.308848\n",
      "8.828806448663528 9.284846\n",
      "9.896849443649591 9.315447\n",
      "9.023722170637832 9.30086\n",
      "7.280311156686242 9.199833\n",
      "9.936391615050507 9.236661\n",
      "11.017269313105206 9.325691\n",
      "11.899246416754591 9.454369\n",
      "11.205457493446083 9.5419235\n",
      "11.840814077922614 9.656868\n",
      "8.904199437784303 9.619234\n",
      "10.668189450614681 9.671681\n",
      "10.21517469787585 9.698855\n",
      "8.99098426317129 9.663462\n",
      "10.933082730229257 9.726942\n",
      "9.461154708544772 9.713653\n",
      "9.475355910618847 9.701738\n",
      "9.475725953073244 9.690437\n",
      "12.963526881523553 9.854092\n",
      "9.380970881320579 9.830436\n",
      "11.401376578688879 9.908983\n",
      "12.388248960005065 10.032947\n",
      "9.20894018958535 9.991747\n",
      "9.979694020007148 9.991144\n",
      "9.49523508321055 9.966349\n",
      "10.187172427045873 9.977389\n",
      "10.748618911062586 10.01595\n",
      "10.082386504463779 10.019272\n",
      "10.840420364653273 10.0603285\n",
      "8.300167298293623 9.972321\n",
      "11.713607836386675 10.059384\n",
      "10.869030281032783 10.099866\n",
      "10.266602148320013 10.108203\n",
      "9.473593552261729 10.076472\n",
      "9.219361261613463 10.033617\n",
      "11.260965172167495 10.094984\n",
      "9.626001653059976 10.071535\n",
      "11.873916031589584 10.1616535\n",
      "10.15239969463277 10.161191\n",
      "10.625443818596708 10.184403\n",
      "12.228466292139865 10.286607\n",
      "10.29824226523584 10.287188\n",
      "8.945153671420009 10.220086\n",
      "9.456469513146912 10.181905\n",
      "8.44372026428985 10.0949955\n"
     ]
    }
   ],
   "source": [
    "raw_data = np.random.normal(10, 1, 100)                                    \n",
    "\n",
    "alpha = tf.constant(0.05)                                                  \n",
    "curr_value = tf.placeholder(tf.float32)\n",
    "\n",
    "prev_avg = tf.Variable(0.)\n",
    "\n",
    "update_avg = alpha * curr_value + (1 - alpha) * prev_avg\n",
    "\n",
    "init = tf.global_variables_initializer()\n",
    "\n",
    "with tf.Session() as sess:\n",
    "    sess.run(init)\n",
    "    for i in range(len(raw_data)):                                         \n",
    "        curr_avg = sess.run(update_avg, feed_dict={curr_value: raw_data[i]})\n",
    "        sess.run(tf.assign(prev_avg, curr_avg))\n",
    "        print(raw_data[i], curr_avg)"
   ]
  },
  {
   "cell_type": "markdown",
   "metadata": {},
   "source": [
    "- Pick out which nodes you care about measuring by annotating them with a summary op.\n",
    "- Call add_summary on them to queue up data to be written to disk."
   ]
  },
  {
   "cell_type": "code",
   "execution_count": null,
   "metadata": {},
   "outputs": [],
   "source": [
    "! mkdir logs"
   ]
  },
  {
   "cell_type": "code",
   "execution_count": 35,
   "metadata": {},
   "outputs": [],
   "source": [
    "! kill $(pgrep -f tensorboard)\n",
    "# ! rm -rf logs"
   ]
  },
  {
   "cell_type": "code",
   "execution_count": 31,
   "metadata": {},
   "outputs": [],
   "source": [
    "import os\n",
    "os.system(\"tensorboard --logdir=./logs --port=6006 &\");"
   ]
  },
  {
   "cell_type": "code",
   "execution_count": 34,
   "metadata": {},
   "outputs": [
    {
     "name": "stdout",
     "output_type": "stream",
     "text": [
      "9.481559047483119 0.47407794\n",
      "9.04824384740541 0.90278625\n",
      "9.674803966642784 1.3413872\n",
      "8.397767572306037 1.6942061\n",
      "12.236144383119706 2.221303\n",
      "9.675044007826083 2.59399\n",
      "10.442957086463696 2.9864385\n",
      "9.444546013356621 3.3093438\n",
      "9.752485468613381 3.6315007\n",
      "10.692277508503615 3.9845395\n",
      "8.472335898762841 4.208929\n",
      "10.749797276529199 4.535972\n",
      "8.505304265525078 4.734439\n",
      "9.541134068117007 4.9747734\n",
      "9.39936669720175 5.196003\n",
      "9.178411258648808 5.395123\n",
      "10.410278308018318 5.6458807\n",
      "9.122221353370957 5.8196974\n",
      "9.560159667329767 6.00672\n",
      "9.367944427273041 6.1747813\n",
      "10.199385596338223 6.3760114\n",
      "10.247314293976718 6.5695767\n",
      "11.098855473073254 6.7960405\n",
      "10.661385020330517 6.9893074\n",
      "9.419209027638162 7.1108027\n",
      "9.64445966786585 7.2374854\n",
      "10.037190709689733 7.3774705\n",
      "9.354826639471188 7.4763384\n",
      "9.5939239891843 7.5822177\n",
      "9.733933396264241 7.6898036\n",
      "9.846569960071243 7.7976418\n",
      "8.204561696769725 7.817988\n",
      "10.050930659619274 7.929635\n",
      "10.874413228180636 8.076874\n",
      "10.388622106952353 8.192461\n",
      "9.229635691700164 8.24432\n",
      "10.179398669011869 8.341074\n",
      "8.398657900972816 8.343953\n",
      "11.216376547978214 8.487575\n",
      "10.514954703108534 8.5889435\n",
      "9.977203684178024 8.658357\n",
      "10.071322705165246 8.729005\n",
      "8.0562014485519 8.695365\n",
      "8.603701132659783 8.690782\n",
      "8.894014696195303 8.700943\n",
      "12.323361193885068 8.882064\n",
      "9.790642422547998 8.927493\n",
      "10.59447906465235 9.010842\n",
      "9.931412501982512 9.05687\n",
      "9.485234524207568 9.078288\n",
      "8.990520793643237 9.073899\n",
      "9.627785064142373 9.101593\n",
      "11.199443060039274 9.206485\n",
      "9.749910532731752 9.233656\n",
      "10.060154157415033 9.274981\n",
      "9.324180995503253 9.277441\n",
      "11.700331668435357 9.398585\n",
      "10.07194968797189 9.432253\n",
      "10.320646927810317 9.476672\n",
      "10.782179199763728 9.541947\n",
      "8.204843300770015 9.475092\n",
      "8.969987953152126 9.449837\n",
      "8.329424562729583 9.393816\n",
      "9.784073497473312 9.413328\n",
      "11.093990332354917 9.497361\n",
      "8.988302464868775 9.471909\n",
      "8.685109985495343 9.432569\n",
      "8.426736122250263 9.3822775\n",
      "11.473791232516987 9.486853\n",
      "8.734431662990167 9.449232\n",
      "8.988611575639156 9.426201\n",
      "11.138105803430143 9.511795\n",
      "8.816971301964122 9.477054\n",
      "8.761086751478798 9.441255\n",
      "9.454812624270684 9.441933\n",
      "9.643637238052314 9.452018\n",
      "9.51558061216799 9.455195\n",
      "8.96466513567813 9.430669\n",
      "9.171661320004855 9.417718\n",
      "11.579803968077403 9.525822\n",
      "9.385270328757633 9.518793\n",
      "8.489876711146037 9.467347\n",
      "9.412938125021372 9.464626\n",
      "10.408992619456036 9.511845\n",
      "10.010371581968805 9.536771\n",
      "9.014102147267526 9.510637\n",
      "11.436917742837075 9.606952\n",
      "9.70635764736717 9.611922\n",
      "9.574824212281502 9.610067\n",
      "10.090195537924824 9.634074\n",
      "11.593270869203877 9.732034\n",
      "12.420816430899077 9.866472\n",
      "9.547377824095442 9.850518\n",
      "10.249707346791505 9.870478\n",
      "11.296065158262902 9.941757\n",
      "10.232879616911404 9.956313\n",
      "10.396430956741794 9.978318\n",
      "11.013837651932343 10.030094\n",
      "9.97964073316401 10.027572\n",
      "10.874595291027735 10.069922\n"
     ]
    }
   ],
   "source": [
    "graph = tf.Graph()\n",
    "\n",
    "with graph.as_default():\n",
    "    raw_data = np.random.normal(10, 1, 100)\n",
    "\n",
    "    alpha = tf.constant(0.05, name=\"alpha\")\n",
    "    curr_value = tf.placeholder(tf.float32, name=\"curr_value\")\n",
    "    prev_avg = tf.Variable(0., name=\"prev_avg\")\n",
    "\n",
    "    update_avg = alpha * curr_value + (1 - alpha) * prev_avg\n",
    "\n",
    "    avg_hist = tf.summary.scalar(\"running_average\", update_avg)           \n",
    "    value_hist = tf.summary.scalar(\"incoming_values\", curr_value) \n",
    "    merged = tf.summary.merge_all()                                       \n",
    "    writer = tf.summary.FileWriter(\"./logs\")\n",
    "\n",
    "    init = tf.global_variables_initializer()\n",
    "\n",
    "with tf.Session(graph=graph) as sess:\n",
    "    init.run()\n",
    "    \n",
    "    for i in range(len(raw_data)):\n",
    "        summary_str, curr_avg = sess.run([merged, update_avg], feed_dict={curr_value: raw_data[i]})                      \n",
    "        \n",
    "        operation = tf.assign(prev_avg, curr_avg)\n",
    "        operation.eval()\n",
    "        print(raw_data[i], curr_avg)\n",
    "        \n",
    "        writer.add_summary(summary_str, i)       "
   ]
  },
  {
   "cell_type": "markdown",
   "metadata": {},
   "source": [
    "You may need to ensure that the TensorFlow session has ended before starting TensorBoard. If you rerun the cell above, you’ll need to remember to clear the logs directory."
   ]
  },
  {
   "cell_type": "code",
   "execution_count": null,
   "metadata": {},
   "outputs": [],
   "source": []
  }
 ],
 "metadata": {
  "kernelspec": {
   "display_name": "Python 3",
   "language": "python",
   "name": "python3"
  },
  "language_info": {
   "codemirror_mode": {
    "name": "ipython",
    "version": 3
   },
   "file_extension": ".py",
   "mimetype": "text/x-python",
   "name": "python",
   "nbconvert_exporter": "python",
   "pygments_lexer": "ipython3",
   "version": "3.6.4"
  }
 },
 "nbformat": 4,
 "nbformat_minor": 2
}
