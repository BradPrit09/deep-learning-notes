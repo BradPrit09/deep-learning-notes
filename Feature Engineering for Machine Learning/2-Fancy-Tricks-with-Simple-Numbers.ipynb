{
 "cells": [
  {
   "cell_type": "markdown",
   "metadata": {},
   "source": [
    "# 2. Fancy Tricks with Simple Numbers"
   ]
  },
  {
   "cell_type": "markdown",
   "metadata": {},
   "source": [
    "## Dealing with Counts"
   ]
  },
  {
   "cell_type": "markdown",
   "metadata": {},
   "source": [
    "### FIXED-WIDTH BINNING"
   ]
  },
  {
   "cell_type": "code",
   "execution_count": 1,
   "metadata": {},
   "outputs": [
    {
     "data": {
      "text/plain": [
       "array([36, 18, 72, 18, 23,  4, 96, 45, 18, 85, 38, 83, 66, 42, 42, 41, 93,\n",
       "       87, 95, 46])"
      ]
     },
     "execution_count": 1,
     "metadata": {},
     "output_type": "execute_result"
    }
   ],
   "source": [
    "import numpy as np\n",
    "\n",
    "# Generate 20 random integers uniformly between 0 and 99\n",
    "small_counts = np.random.randint(0, 100, 20)\n",
    "small_counts"
   ]
  },
  {
   "cell_type": "code",
   "execution_count": 2,
   "metadata": {},
   "outputs": [
    {
     "data": {
      "text/plain": [
       "array([3, 1, 7, 1, 2, 0, 9, 4, 1, 8, 3, 8, 6, 4, 4, 4, 9, 8, 9, 4])"
      ]
     },
     "execution_count": 2,
     "metadata": {},
     "output_type": "execute_result"
    }
   ],
   "source": [
    "# Map to evenly spaced bins 0-9 by division\n",
    "np.floor_divide(small_counts, 10)"
   ]
  },
  {
   "cell_type": "code",
   "execution_count": 3,
   "metadata": {},
   "outputs": [],
   "source": [
    "# An array of counts that span several magnitudes\n",
    ">>> large_counts = [296, 8286, 64011, 80, 3, 725, 867, 2215, 7689, 11495, 91897, \n",
    "...                 44, 28, 7971, 926, 122, 22222]"
   ]
  },
  {
   "cell_type": "code",
   "execution_count": 4,
   "metadata": {},
   "outputs": [
    {
     "data": {
      "text/plain": [
       "array([2., 3., 4., 1., 0., 2., 2., 3., 3., 4., 4., 1., 1., 3., 2., 2., 4.])"
      ]
     },
     "execution_count": 4,
     "metadata": {},
     "output_type": "execute_result"
    }
   ],
   "source": [
    "# Map to exponential-width bins via the log function\n",
    ">>> np.floor(np.log10(large_counts))"
   ]
  },
  {
   "cell_type": "markdown",
   "metadata": {},
   "source": [
    "### QUANTILE BINNING"
   ]
  },
  {
   "cell_type": "code",
   "execution_count": 5,
   "metadata": {},
   "outputs": [
    {
     "data": {
      "text/plain": [
       "array([1, 2, 3, 0, 0, 1, 1, 2, 2, 3, 3, 0, 0, 2, 1, 0, 3])"
      ]
     },
     "execution_count": 5,
     "metadata": {},
     "output_type": "execute_result"
    }
   ],
   "source": [
    "# Continue example 2-3 with large_counts\n",
    ">>> import pandas as pd\n",
    "\n",
    "# Map the counts to quartiles\n",
    ">>> pd.qcut(large_counts, 4, labels=False)"
   ]
  },
  {
   "cell_type": "code",
   "execution_count": 6,
   "metadata": {},
   "outputs": [
    {
     "data": {
      "text/plain": [
       "0.25     122.0\n",
       "0.50     926.0\n",
       "0.75    8286.0\n",
       "dtype: float64"
      ]
     },
     "execution_count": 6,
     "metadata": {},
     "output_type": "execute_result"
    }
   ],
   "source": [
    "# Compute the quantiles themselves\n",
    ">>> large_counts_series = pd.Series(large_counts)\n",
    ">>> large_counts_series.quantile([0.25, 0.5, 0.75])"
   ]
  },
  {
   "cell_type": "markdown",
   "metadata": {},
   "source": [
    "## Log Transformation"
   ]
  },
  {
   "cell_type": "code",
   "execution_count": 7,
   "metadata": {},
   "outputs": [],
   "source": [
    "import matplotlib.pyplot as plt"
   ]
  },
  {
   "cell_type": "code",
   "execution_count": 8,
   "metadata": {},
   "outputs": [
    {
     "data": {
      "text/html": [
       "<div>\n",
       "<style scoped>\n",
       "    .dataframe tbody tr th:only-of-type {\n",
       "        vertical-align: middle;\n",
       "    }\n",
       "\n",
       "    .dataframe tbody tr th {\n",
       "        vertical-align: top;\n",
       "    }\n",
       "\n",
       "    .dataframe thead th {\n",
       "        text-align: right;\n",
       "    }\n",
       "</style>\n",
       "<table border=\"1\" class=\"dataframe\">\n",
       "  <thead>\n",
       "    <tr style=\"text-align: right;\">\n",
       "      <th></th>\n",
       "      <th>url</th>\n",
       "      <th>timedelta</th>\n",
       "      <th>n_tokens_title</th>\n",
       "      <th>n_tokens_content</th>\n",
       "      <th>n_unique_tokens</th>\n",
       "      <th>n_non_stop_words</th>\n",
       "      <th>n_non_stop_unique_tokens</th>\n",
       "      <th>num_hrefs</th>\n",
       "      <th>num_self_hrefs</th>\n",
       "      <th>num_imgs</th>\n",
       "      <th>...</th>\n",
       "      <th>min_positive_polarity</th>\n",
       "      <th>max_positive_polarity</th>\n",
       "      <th>avg_negative_polarity</th>\n",
       "      <th>min_negative_polarity</th>\n",
       "      <th>max_negative_polarity</th>\n",
       "      <th>title_subjectivity</th>\n",
       "      <th>title_sentiment_polarity</th>\n",
       "      <th>abs_title_subjectivity</th>\n",
       "      <th>abs_title_sentiment_polarity</th>\n",
       "      <th>shares</th>\n",
       "    </tr>\n",
       "  </thead>\n",
       "  <tbody>\n",
       "    <tr>\n",
       "      <th>0</th>\n",
       "      <td>http://mashable.com/2013/01/07/amazon-instant-...</td>\n",
       "      <td>731.0</td>\n",
       "      <td>12.0</td>\n",
       "      <td>219.0</td>\n",
       "      <td>0.663594</td>\n",
       "      <td>1.0</td>\n",
       "      <td>0.815385</td>\n",
       "      <td>4.0</td>\n",
       "      <td>2.0</td>\n",
       "      <td>1.0</td>\n",
       "      <td>...</td>\n",
       "      <td>0.100000</td>\n",
       "      <td>0.7</td>\n",
       "      <td>-0.350000</td>\n",
       "      <td>-0.600</td>\n",
       "      <td>-0.200000</td>\n",
       "      <td>0.500000</td>\n",
       "      <td>-0.187500</td>\n",
       "      <td>0.000000</td>\n",
       "      <td>0.187500</td>\n",
       "      <td>593</td>\n",
       "    </tr>\n",
       "    <tr>\n",
       "      <th>1</th>\n",
       "      <td>http://mashable.com/2013/01/07/ap-samsung-spon...</td>\n",
       "      <td>731.0</td>\n",
       "      <td>9.0</td>\n",
       "      <td>255.0</td>\n",
       "      <td>0.604743</td>\n",
       "      <td>1.0</td>\n",
       "      <td>0.791946</td>\n",
       "      <td>3.0</td>\n",
       "      <td>1.0</td>\n",
       "      <td>1.0</td>\n",
       "      <td>...</td>\n",
       "      <td>0.033333</td>\n",
       "      <td>0.7</td>\n",
       "      <td>-0.118750</td>\n",
       "      <td>-0.125</td>\n",
       "      <td>-0.100000</td>\n",
       "      <td>0.000000</td>\n",
       "      <td>0.000000</td>\n",
       "      <td>0.500000</td>\n",
       "      <td>0.000000</td>\n",
       "      <td>711</td>\n",
       "    </tr>\n",
       "    <tr>\n",
       "      <th>2</th>\n",
       "      <td>http://mashable.com/2013/01/07/apple-40-billio...</td>\n",
       "      <td>731.0</td>\n",
       "      <td>9.0</td>\n",
       "      <td>211.0</td>\n",
       "      <td>0.575130</td>\n",
       "      <td>1.0</td>\n",
       "      <td>0.663866</td>\n",
       "      <td>3.0</td>\n",
       "      <td>1.0</td>\n",
       "      <td>1.0</td>\n",
       "      <td>...</td>\n",
       "      <td>0.100000</td>\n",
       "      <td>1.0</td>\n",
       "      <td>-0.466667</td>\n",
       "      <td>-0.800</td>\n",
       "      <td>-0.133333</td>\n",
       "      <td>0.000000</td>\n",
       "      <td>0.000000</td>\n",
       "      <td>0.500000</td>\n",
       "      <td>0.000000</td>\n",
       "      <td>1500</td>\n",
       "    </tr>\n",
       "    <tr>\n",
       "      <th>3</th>\n",
       "      <td>http://mashable.com/2013/01/07/astronaut-notre...</td>\n",
       "      <td>731.0</td>\n",
       "      <td>9.0</td>\n",
       "      <td>531.0</td>\n",
       "      <td>0.503788</td>\n",
       "      <td>1.0</td>\n",
       "      <td>0.665635</td>\n",
       "      <td>9.0</td>\n",
       "      <td>0.0</td>\n",
       "      <td>1.0</td>\n",
       "      <td>...</td>\n",
       "      <td>0.136364</td>\n",
       "      <td>0.8</td>\n",
       "      <td>-0.369697</td>\n",
       "      <td>-0.600</td>\n",
       "      <td>-0.166667</td>\n",
       "      <td>0.000000</td>\n",
       "      <td>0.000000</td>\n",
       "      <td>0.500000</td>\n",
       "      <td>0.000000</td>\n",
       "      <td>1200</td>\n",
       "    </tr>\n",
       "    <tr>\n",
       "      <th>4</th>\n",
       "      <td>http://mashable.com/2013/01/07/att-u-verse-apps/</td>\n",
       "      <td>731.0</td>\n",
       "      <td>13.0</td>\n",
       "      <td>1072.0</td>\n",
       "      <td>0.415646</td>\n",
       "      <td>1.0</td>\n",
       "      <td>0.540890</td>\n",
       "      <td>19.0</td>\n",
       "      <td>19.0</td>\n",
       "      <td>20.0</td>\n",
       "      <td>...</td>\n",
       "      <td>0.033333</td>\n",
       "      <td>1.0</td>\n",
       "      <td>-0.220192</td>\n",
       "      <td>-0.500</td>\n",
       "      <td>-0.050000</td>\n",
       "      <td>0.454545</td>\n",
       "      <td>0.136364</td>\n",
       "      <td>0.045455</td>\n",
       "      <td>0.136364</td>\n",
       "      <td>505</td>\n",
       "    </tr>\n",
       "  </tbody>\n",
       "</table>\n",
       "<p>5 rows × 61 columns</p>\n",
       "</div>"
      ],
      "text/plain": [
       "                                                 url   timedelta  \\\n",
       "0  http://mashable.com/2013/01/07/amazon-instant-...       731.0   \n",
       "1  http://mashable.com/2013/01/07/ap-samsung-spon...       731.0   \n",
       "2  http://mashable.com/2013/01/07/apple-40-billio...       731.0   \n",
       "3  http://mashable.com/2013/01/07/astronaut-notre...       731.0   \n",
       "4   http://mashable.com/2013/01/07/att-u-verse-apps/       731.0   \n",
       "\n",
       "    n_tokens_title   n_tokens_content   n_unique_tokens   n_non_stop_words  \\\n",
       "0             12.0              219.0          0.663594                1.0   \n",
       "1              9.0              255.0          0.604743                1.0   \n",
       "2              9.0              211.0          0.575130                1.0   \n",
       "3              9.0              531.0          0.503788                1.0   \n",
       "4             13.0             1072.0          0.415646                1.0   \n",
       "\n",
       "    n_non_stop_unique_tokens   num_hrefs   num_self_hrefs   num_imgs   ...     \\\n",
       "0                   0.815385         4.0              2.0        1.0   ...      \n",
       "1                   0.791946         3.0              1.0        1.0   ...      \n",
       "2                   0.663866         3.0              1.0        1.0   ...      \n",
       "3                   0.665635         9.0              0.0        1.0   ...      \n",
       "4                   0.540890        19.0             19.0       20.0   ...      \n",
       "\n",
       "    min_positive_polarity   max_positive_polarity   avg_negative_polarity  \\\n",
       "0                0.100000                     0.7               -0.350000   \n",
       "1                0.033333                     0.7               -0.118750   \n",
       "2                0.100000                     1.0               -0.466667   \n",
       "3                0.136364                     0.8               -0.369697   \n",
       "4                0.033333                     1.0               -0.220192   \n",
       "\n",
       "    min_negative_polarity   max_negative_polarity   title_subjectivity  \\\n",
       "0                  -0.600               -0.200000             0.500000   \n",
       "1                  -0.125               -0.100000             0.000000   \n",
       "2                  -0.800               -0.133333             0.000000   \n",
       "3                  -0.600               -0.166667             0.000000   \n",
       "4                  -0.500               -0.050000             0.454545   \n",
       "\n",
       "    title_sentiment_polarity   abs_title_subjectivity  \\\n",
       "0                  -0.187500                 0.000000   \n",
       "1                   0.000000                 0.500000   \n",
       "2                   0.000000                 0.500000   \n",
       "3                   0.000000                 0.500000   \n",
       "4                   0.136364                 0.045455   \n",
       "\n",
       "    abs_title_sentiment_polarity   shares  \n",
       "0                       0.187500      593  \n",
       "1                       0.000000      711  \n",
       "2                       0.000000     1500  \n",
       "3                       0.000000     1200  \n",
       "4                       0.136364      505  \n",
       "\n",
       "[5 rows x 61 columns]"
      ]
     },
     "execution_count": 8,
     "metadata": {},
     "output_type": "execute_result"
    }
   ],
   "source": [
    "df = pd.read_csv('OnlineNewsPopularity/OnlineNewsPopularity.csv')\n",
    "df.head()"
   ]
  },
  {
   "cell_type": "code",
   "execution_count": 12,
   "metadata": {},
   "outputs": [
    {
     "data": {
      "text/plain": [
       "Index(['url', ' timedelta', ' n_tokens_title', ' n_tokens_content',\n",
       "       ' n_unique_tokens', ' n_non_stop_words', ' n_non_stop_unique_tokens',\n",
       "       ' num_hrefs', ' num_self_hrefs', ' num_imgs', ' num_videos',\n",
       "       ' average_token_length', ' num_keywords', ' data_channel_is_lifestyle',\n",
       "       ' data_channel_is_entertainment', ' data_channel_is_bus',\n",
       "       ' data_channel_is_socmed', ' data_channel_is_tech',\n",
       "       ' data_channel_is_world', ' kw_min_min', ' kw_max_min', ' kw_avg_min',\n",
       "       ' kw_min_max', ' kw_max_max', ' kw_avg_max', ' kw_min_avg',\n",
       "       ' kw_max_avg', ' kw_avg_avg', ' self_reference_min_shares',\n",
       "       ' self_reference_max_shares', ' self_reference_avg_sharess',\n",
       "       ' weekday_is_monday', ' weekday_is_tuesday', ' weekday_is_wednesday',\n",
       "       ' weekday_is_thursday', ' weekday_is_friday', ' weekday_is_saturday',\n",
       "       ' weekday_is_sunday', ' is_weekend', ' LDA_00', ' LDA_01', ' LDA_02',\n",
       "       ' LDA_03', ' LDA_04', ' global_subjectivity',\n",
       "       ' global_sentiment_polarity', ' global_rate_positive_words',\n",
       "       ' global_rate_negative_words', ' rate_positive_words',\n",
       "       ' rate_negative_words', ' avg_positive_polarity',\n",
       "       ' min_positive_polarity', ' max_positive_polarity',\n",
       "       ' avg_negative_polarity', ' min_negative_polarity',\n",
       "       ' max_negative_polarity', ' title_subjectivity',\n",
       "       ' title_sentiment_polarity', ' abs_title_subjectivity',\n",
       "       ' abs_title_sentiment_polarity', ' shares', 'log_n_tokens_content'],\n",
       "      dtype='object')"
      ]
     },
     "execution_count": 12,
     "metadata": {},
     "output_type": "execute_result"
    }
   ],
   "source": [
    "df.columns"
   ]
  },
  {
   "cell_type": "code",
   "execution_count": 9,
   "metadata": {},
   "outputs": [
    {
     "data": {
      "text/plain": [
       "(39644, 61)"
      ]
     },
     "execution_count": 9,
     "metadata": {},
     "output_type": "execute_result"
    }
   ],
   "source": [
    "df.shape"
   ]
  },
  {
   "cell_type": "code",
   "execution_count": 10,
   "metadata": {},
   "outputs": [],
   "source": [
    "# Take the log transform of the 'n_tokens_content' feature, which \n",
    "# represents the number of words (tokens) in a news article.\n",
    "\n",
    "# Note that we add 1 to the raw count to prevent the logarithm from\n",
    "# exploding into negative infinity in case the count is zero.\n",
    "df['log_n_tokens_content'] = np.log10(df[' n_tokens_content'] + 1)"
   ]
  },
  {
   "cell_type": "code",
   "execution_count": 11,
   "metadata": {},
   "outputs": [
    {
     "data": {
      "text/plain": [
       "Text(0, 0.5, 'Number of Articles')"
      ]
     },
     "execution_count": 11,
     "metadata": {},
     "output_type": "execute_result"
    },
    {
     "data": {
      "image/png": "[encoded data removed]",
      "text/plain": [
       "<Figure size 1080x1080 with 2 Axes>"
      ]
     },
     "metadata": {
      "needs_background": "light"
     },
     "output_type": "display_data"
    }
   ],
   "source": [
    "fig, (ax1, ax2) = plt.subplots(2,1, figsize=(15,15))\n",
    "\n",
    "df[' n_tokens_content'].hist(ax=ax1, bins=100)\n",
    "ax1.tick_params(labelsize=14)\n",
    "ax1.set_xlabel('Number of Words in Article', fontsize=14)\n",
    "ax1.set_ylabel('Number of Articles', fontsize=14)\n",
    "\n",
    "df['log_n_tokens_content'].hist(ax=ax2, bins=100)\n",
    "ax2.tick_params(labelsize=14)\n",
    "ax2.set_xlabel('Log of Number of Words', fontsize=14)\n",
    "ax2.set_ylabel('Number of Articles', fontsize=14)"
   ]
  },
  {
   "cell_type": "markdown",
   "metadata": {},
   "source": [
    "### Log Transform in Action"
   ]
  },
  {
   "cell_type": "markdown",
   "metadata": {},
   "source": [
    "For the Mashable news articles, we’ll use the number of words in an article to predict its popularity. Since the outputs are continuous numbers, we’ll use simple linear regression as the model. We use scikit-learn to perform 10-fold cross validation of linear regression on the feature with and without log transformation"
   ]
  },
  {
   "cell_type": "code",
   "execution_count": 19,
   "metadata": {},
   "outputs": [
    {
     "name": "stdout",
     "output_type": "stream",
     "text": [
      "R-squared score without log transform: -0.00242 (+/- 0.00509)\n",
      "R-squared score with log transform: -0.00114 (+/- 0.00418)\n"
     ]
    }
   ],
   "source": [
    "from sklearn import linear_model\n",
    "from sklearn.model_selection import cross_val_score\n",
    "\n",
    "# Train two linear regression models to predict the number of shares\n",
    "# of an article, one using the original feature and the other the\n",
    "# log transformed version.\n",
    "m_orig = linear_model.LinearRegression()\n",
    "scores_orig = cross_val_score(m_orig, df[[' n_tokens_content']], df[' shares'], cv=10)\n",
    "\n",
    "m_log = linear_model.LinearRegression()\n",
    "scores_log = cross_val_score(m_log, df[['log_n_tokens_content']], df[' shares'], cv=10)\n",
    "\n",
    "print(\"R-squared score without log transform: %0.5f (+/- %0.5f)\" % (scores_orig.mean(), scores_orig.std() * 2))\n",
    "print(\"R-squared score with log transform: %0.5f (+/- %0.5f)\" % (scores_log.mean(), scores_log.std() * 2))"
   ]
  },
  {
   "cell_type": "markdown",
   "metadata": {},
   "source": [
    "The confidence intervals still overlap, but the model with the log transformed feature is doing better than the one without. Why is the log transform so much more successful on this dataset?"
   ]
  },
  {
   "cell_type": "code",
   "execution_count": 22,
   "metadata": {},
   "outputs": [
    {
     "data": {
      "text/plain": [
       "Text(0, 0.5, 'Number of Shares')"
      ]
     },
     "execution_count": 22,
     "metadata": {},
     "output_type": "execute_result"
    },
    {
     "data": {
      "image/png": "[encoded data removed]",
      "text/plain": [
       "<Figure size 720x720 with 2 Axes>"
      ]
     },
     "metadata": {
      "needs_background": "light"
     },
     "output_type": "display_data"
    }
   ],
   "source": [
    "fig2, (ax1, ax2) = plt.subplots(2,1, figsize=(10,10))\n",
    "\n",
    "ax1.scatter(df[' n_tokens_content'], df[' shares'])\n",
    "ax1.tick_params(labelsize=14)\n",
    "ax1.set_xlabel('Number of Words in Article', fontsize=14)\n",
    "ax1.set_ylabel('Number of Shares', fontsize=14)\n",
    "\n",
    "ax2.scatter(df['log_n_tokens_content'], df[' shares'])\n",
    "ax2.tick_params(labelsize=14)\n",
    "ax2.set_xlabel('Log of the Number of Words in Article', fontsize=14)\n",
    "ax2.set_ylabel('Number of Shares', fontsize=14)"
   ]
  },
  {
   "cell_type": "markdown",
   "metadata": {},
   "source": [
    "the log transform reshaped the x-axis. This gives the linear model more “breathing room” on the low end of the input feature space."
   ]
  },
  {
   "cell_type": "markdown",
   "metadata": {},
   "source": [
    "Without the log transform (top panel), the model is under more pressure to fit very different target values under very small changes in the input."
   ]
  },
  {
   "cell_type": "markdown",
   "metadata": {},
   "source": [
    "### Power Transforms: Generalization of the Log Transform"
   ]
  },
  {
   "cell_type": "code",
   "execution_count": 35,
   "metadata": {},
   "outputs": [],
   "source": [
    "df2 = df[df[' n_tokens_content'] != 0].copy()"
   ]
  },
  {
   "cell_type": "code",
   "execution_count": 36,
   "metadata": {},
   "outputs": [
    {
     "data": {
      "text/plain": [
       "18.0"
      ]
     },
     "execution_count": 36,
     "metadata": {},
     "output_type": "execute_result"
    }
   ],
   "source": [
    "from scipy import stats\n",
    "\n",
    "# Continuing from the previous example, assume biz_df contains\n",
    "# the Yelp business reviews data.\n",
    "# The Box-Cox transform assumes that input data is positive. \n",
    "# Check the min to make sure.\n",
    "df2[' n_tokens_content'].min()"
   ]
  },
  {
   "cell_type": "code",
   "execution_count": 37,
   "metadata": {},
   "outputs": [
    {
     "data": {
      "text/plain": [
       "-0.02398042339350469"
      ]
     },
     "execution_count": 37,
     "metadata": {},
     "output_type": "execute_result"
    }
   ],
   "source": [
    "# Setting input parameter lmbda to 0 gives us the log transform (without \n",
    "# constant offset)\n",
    "rc_log = stats.boxcox(df2[' n_tokens_content'], lmbda=0)\n",
    "# By default, the scipy implementation of Box-Cox transform finds the lambda\n",
    "# parameter that will make the output the closest to a normal distribution\n",
    "rc_bc, bc_params = stats.boxcox(df2[' n_tokens_content'])\n",
    "bc_params"
   ]
  },
  {
   "cell_type": "code",
   "execution_count": 39,
   "metadata": {},
   "outputs": [],
   "source": [
    "df2['rc_bc'] = rc_bc"
   ]
  },
  {
   "cell_type": "code",
   "execution_count": 43,
   "metadata": {},
   "outputs": [
    {
     "data": {
      "image/png": "[encoded data removed]",
      "text/plain": [
       "<Figure size 936x936 with 3 Axes>"
      ]
     },
     "metadata": {
      "needs_background": "light"
     },
     "output_type": "display_data"
    }
   ],
   "source": [
    "fig, (ax1, ax2, ax3) = plt.subplots(3,1, figsize=(13,13))\n",
    "\n",
    "# original review count histogram\n",
    "df2[' n_tokens_content'].hist(ax=ax1, bins=100)\n",
    "ax1.set_yscale('log')\n",
    "ax1.tick_params(labelsize=14)\n",
    "ax1.set_title('Review Counts Histogram', fontsize=14)\n",
    "ax1.set_xlabel('')\n",
    "ax1.set_ylabel('Occurrence', fontsize=14)\n",
    "\n",
    "# review count after log transform\n",
    "df2['log_n_tokens_content'].hist(ax=ax2, bins=100)\n",
    "ax2.set_yscale('log')\n",
    "ax2.tick_params(labelsize=14)\n",
    "ax2.set_title('Log Transformed Counts Histogram', fontsize=14)\n",
    "ax2.set_xlabel('')\n",
    "ax2.set_ylabel('Occurrence', fontsize=14)\n",
    "\n",
    "# review count after optimal Box-Cox transform\n",
    "df2['rc_bc'].hist(ax=ax3, bins=100)\n",
    "ax3.set_yscale('log')\n",
    "ax3.tick_params(labelsize=14)\n",
    "ax3.set_title('Box-Cox Transformed Counts Histogram', fontsize=14)\n",
    "ax3.set_xlabel('')\n",
    "ax3.set_ylabel('Occurrence', fontsize=14);"
   ]
  },
  {
   "cell_type": "code",
   "execution_count": 45,
   "metadata": {},
   "outputs": [
    {
     "data": {
      "text/plain": [
       "Text(0.5, 1.0, 'Probplot after Box-Cox transform')"
      ]
     },
     "execution_count": 45,
     "metadata": {},
     "output_type": "execute_result"
    },
    {
     "data": {
      "image/png": "[encoded data removed]",
      "text/plain": [
       "<Figure size 936x936 with 3 Axes>"
      ]
     },
     "metadata": {
      "needs_background": "light"
     },
     "output_type": "display_data"
    }
   ],
   "source": [
    "fig2, (ax1, ax2, ax3) = plt.subplots(3,1, figsize=(13,13))\n",
    "\n",
    "prob1 = stats.probplot(df2[' n_tokens_content'], dist=stats.norm, plot=ax1)\n",
    "ax1.set_xlabel('')\n",
    "ax1.set_title('Probplot against normal distribution')\n",
    "\n",
    "prob2 = stats.probplot(df2['log_n_tokens_content'], dist=stats.norm, plot=ax2)\n",
    "ax2.set_xlabel('')\n",
    "ax2.set_title('Probplot after log transform')\n",
    "\n",
    "prob3 = stats.probplot(df2['rc_bc'], dist=stats.norm, plot=ax3)\n",
    "ax3.set_xlabel('Theoretical quantiles')\n",
    "ax3.set_title('Probplot after Box-Cox transform')"
   ]
  },
  {
   "cell_type": "markdown",
   "metadata": {},
   "source": [
    "Comparing the distribution of raw and transformed n_tokens_content against the normal distribution."
   ]
  },
  {
   "cell_type": "markdown",
   "metadata": {},
   "source": [
    "## Feature Scaling or Normalization"
   ]
  },
  {
   "cell_type": "code",
   "execution_count": 48,
   "metadata": {},
   "outputs": [
    {
     "name": "stderr",
     "output_type": "stream",
     "text": [
      "/Users/hakan/.pyenv/versions/miniconda3-latest/lib/python3.6/site-packages/ipykernel_launcher.py:7: FutureWarning: Method .as_matrix will be removed in a future version. Use .values instead.\n",
      "  import sys\n"
     ]
    },
    {
     "data": {
      "text/plain": [
       "array([219., 255., 211., ..., 442., 682., 157.])"
      ]
     },
     "execution_count": 48,
     "metadata": {},
     "output_type": "execute_result"
    }
   ],
   "source": [
    "import sklearn.preprocessing as preproc\n",
    "\n",
    "# Load the Online News Popularity dataset\n",
    "df = pd.read_csv('OnlineNewsPopularity/OnlineNewsPopularity.csv')\n",
    "\n",
    "# Look at the original data - the number of words in an article\n",
    "df[' n_tokens_content'].as_matrix()"
   ]
  },
  {
   "cell_type": "code",
   "execution_count": 50,
   "metadata": {},
   "outputs": [
    {
     "name": "stderr",
     "output_type": "stream",
     "text": [
      "/Users/hakan/.pyenv/versions/miniconda3-latest/lib/python3.6/site-packages/ipykernel_launcher.py:3: FutureWarning: Method .as_matrix will be removed in a future version. Use .values instead.\n",
      "  This is separate from the ipykernel package so we can avoid doing imports until\n"
     ]
    },
    {
     "data": {
      "text/plain": [
       "array([0.02584376, 0.03009205, 0.02489969, ..., 0.05215955, 0.08048147,\n",
       "       0.01852726])"
      ]
     },
     "execution_count": 50,
     "metadata": {},
     "output_type": "execute_result"
    }
   ],
   "source": [
    "# Min-max scaling\n",
    "df['minmax'] = preproc.minmax_scale(df[[' n_tokens_content']])\n",
    "df['minmax'].as_matrix()"
   ]
  },
  {
   "cell_type": "code",
   "execution_count": 51,
   "metadata": {},
   "outputs": [
    {
     "name": "stderr",
     "output_type": "stream",
     "text": [
      "/Users/hakan/.pyenv/versions/miniconda3-latest/lib/python3.6/site-packages/ipykernel_launcher.py:3: FutureWarning: Method .as_matrix will be removed in a future version. Use .values instead.\n",
      "  This is separate from the ipykernel package so we can avoid doing imports until\n"
     ]
    },
    {
     "data": {
      "text/plain": [
       "array([-0.69521045, -0.61879381, -0.71219192, ..., -0.2218518 ,\n",
       "        0.28759248, -0.82681689])"
      ]
     },
     "execution_count": 51,
     "metadata": {},
     "output_type": "execute_result"
    }
   ],
   "source": [
    "# Standardization - note that by definition, some outputs will be negative\n",
    "df['standardized'] = preproc.StandardScaler().fit_transform(df[[' n_tokens_content']])\n",
    "df['standardized'].as_matrix()"
   ]
  },
  {
   "cell_type": "code",
   "execution_count": 52,
   "metadata": {},
   "outputs": [
    {
     "name": "stderr",
     "output_type": "stream",
     "text": [
      "/Users/hakan/.pyenv/versions/miniconda3-latest/lib/python3.6/site-packages/ipykernel_launcher.py:3: FutureWarning: Method .as_matrix will be removed in a future version. Use .values instead.\n",
      "  This is separate from the ipykernel package so we can avoid doing imports until\n"
     ]
    },
    {
     "data": {
      "text/plain": [
       "array([0.00152439, 0.00177498, 0.00146871, ..., 0.00307663, 0.0047472 ,\n",
       "       0.00109283])"
      ]
     },
     "execution_count": 52,
     "metadata": {},
     "output_type": "execute_result"
    }
   ],
   "source": [
    "# L2-normalization\n",
    "df['l2_normalized'] = preproc.normalize(df[[' n_tokens_content']], axis=0)\n",
    "df['l2_normalized'].as_matrix()"
   ]
  },
  {
   "cell_type": "code",
   "execution_count": 54,
   "metadata": {},
   "outputs": [
    {
     "data": {
      "image/png": "[encoded data removed]",
      "text/plain": [
       "<Figure size 936x936 with 4 Axes>"
      ]
     },
     "metadata": {
      "needs_background": "light"
     },
     "output_type": "display_data"
    }
   ],
   "source": [
    "fig, (ax1, ax2, ax3, ax4) = plt.subplots(4,1, figsize=(13,13))\n",
    "\n",
    "fig.tight_layout()\n",
    "\n",
    "df[' n_tokens_content'].hist(ax=ax1, bins=100)\n",
    "ax1.tick_params(labelsize=14)\n",
    "ax1.set_xlabel('Article word count', fontsize=14)\n",
    "ax1.set_ylabel('Number of articles', fontsize=14)\n",
    "\n",
    "df['minmax'].hist(ax=ax2, bins=100)\n",
    "ax2.tick_params(labelsize=14)\n",
    "ax2.set_xlabel('Min-max scaled word count', fontsize=14)\n",
    "ax2.set_ylabel('Number of articles', fontsize=14)\n",
    "\n",
    "df['standardized'].hist(ax=ax3, bins=100)\n",
    "ax3.tick_params(labelsize=14)\n",
    "ax3.set_xlabel('Standardized word count', fontsize=14)\n",
    "ax3.set_ylabel('Number of articles', fontsize=14)\n",
    "\n",
    "df['l2_normalized'].hist(ax=ax4, bins=100)\n",
    "ax4.tick_params(labelsize=14)\n",
    "ax4.set_xlabel('L2-normalized word count', fontsize=14)\n",
    "ax4.set_ylabel('Number of articles', fontsize=14);\n",
    "\n",
    "# Original and scaled news article word counts—note that only the scale of the x-axis changes; \n",
    "# the shape of the distribution stays the same with feature scaling"
   ]
  },
  {
   "cell_type": "markdown",
   "metadata": {},
   "source": [
    "## Interaction Features"
   ]
  },
  {
   "cell_type": "code",
   "execution_count": 61,
   "metadata": {},
   "outputs": [],
   "source": [
    "df.columns = df.columns.str.strip()"
   ]
  },
  {
   "cell_type": "code",
   "execution_count": 62,
   "metadata": {},
   "outputs": [],
   "source": [
    "features = ['n_tokens_title', 'n_tokens_content',\n",
    "...             'n_unique_tokens', 'n_non_stop_words', 'n_non_stop_unique_tokens',\n",
    "...             'num_hrefs', 'num_self_hrefs', 'num_imgs', 'num_videos',\n",
    "...             'average_token_length', 'num_keywords', 'data_channel_is_lifestyle',\n",
    "...             'data_channel_is_entertainment', 'data_channel_is_bus',\n",
    "...             'data_channel_is_socmed', 'data_channel_is_tech',\n",
    "...             'data_channel_is_world']\n",
    "\n",
    "X = df[features]\n",
    "y = df[['shares']]"
   ]
  },
  {
   "cell_type": "code",
   "execution_count": 63,
   "metadata": {},
   "outputs": [
    {
     "data": {
      "text/plain": [
       "(39644, 17)"
      ]
     },
     "execution_count": 63,
     "metadata": {},
     "output_type": "execute_result"
    }
   ],
   "source": [
    "X.shape"
   ]
  },
  {
   "cell_type": "code",
   "execution_count": 68,
   "metadata": {},
   "outputs": [
    {
     "data": {
      "text/html": [
       "<div>\n",
       "<style scoped>\n",
       "    .dataframe tbody tr th:only-of-type {\n",
       "        vertical-align: middle;\n",
       "    }\n",
       "\n",
       "    .dataframe tbody tr th {\n",
       "        vertical-align: top;\n",
       "    }\n",
       "\n",
       "    .dataframe thead th {\n",
       "        text-align: right;\n",
       "    }\n",
       "</style>\n",
       "<table border=\"1\" class=\"dataframe\">\n",
       "  <thead>\n",
       "    <tr style=\"text-align: right;\">\n",
       "      <th></th>\n",
       "      <th>n_tokens_title</th>\n",
       "      <th>n_tokens_content</th>\n",
       "      <th>n_unique_tokens</th>\n",
       "      <th>n_non_stop_words</th>\n",
       "      <th>n_non_stop_unique_tokens</th>\n",
       "      <th>num_hrefs</th>\n",
       "      <th>num_self_hrefs</th>\n",
       "      <th>num_imgs</th>\n",
       "      <th>num_videos</th>\n",
       "      <th>average_token_length</th>\n",
       "      <th>num_keywords</th>\n",
       "      <th>data_channel_is_lifestyle</th>\n",
       "      <th>data_channel_is_entertainment</th>\n",
       "      <th>data_channel_is_bus</th>\n",
       "      <th>data_channel_is_socmed</th>\n",
       "      <th>data_channel_is_tech</th>\n",
       "      <th>data_channel_is_world</th>\n",
       "    </tr>\n",
       "  </thead>\n",
       "  <tbody>\n",
       "    <tr>\n",
       "      <th>0</th>\n",
       "      <td>12.0</td>\n",
       "      <td>219.0</td>\n",
       "      <td>0.663594</td>\n",
       "      <td>1.0</td>\n",
       "      <td>0.815385</td>\n",
       "      <td>4.0</td>\n",
       "      <td>2.0</td>\n",
       "      <td>1.0</td>\n",
       "      <td>0.0</td>\n",
       "      <td>4.680365</td>\n",
       "      <td>5.0</td>\n",
       "      <td>0.0</td>\n",
       "      <td>1.0</td>\n",
       "      <td>0.0</td>\n",
       "      <td>0.0</td>\n",
       "      <td>0.0</td>\n",
       "      <td>0.0</td>\n",
       "    </tr>\n",
       "    <tr>\n",
       "      <th>1</th>\n",
       "      <td>9.0</td>\n",
       "      <td>255.0</td>\n",
       "      <td>0.604743</td>\n",
       "      <td>1.0</td>\n",
       "      <td>0.791946</td>\n",
       "      <td>3.0</td>\n",
       "      <td>1.0</td>\n",
       "      <td>1.0</td>\n",
       "      <td>0.0</td>\n",
       "      <td>4.913725</td>\n",
       "      <td>4.0</td>\n",
       "      <td>0.0</td>\n",
       "      <td>0.0</td>\n",
       "      <td>1.0</td>\n",
       "      <td>0.0</td>\n",
       "      <td>0.0</td>\n",
       "      <td>0.0</td>\n",
       "    </tr>\n",
       "  </tbody>\n",
       "</table>\n",
       "</div>"
      ],
      "text/plain": [
       "   n_tokens_title  n_tokens_content  n_unique_tokens  n_non_stop_words  \\\n",
       "0            12.0             219.0         0.663594               1.0   \n",
       "1             9.0             255.0         0.604743               1.0   \n",
       "\n",
       "   n_non_stop_unique_tokens  num_hrefs  num_self_hrefs  num_imgs  num_videos  \\\n",
       "0                  0.815385        4.0             2.0       1.0         0.0   \n",
       "1                  0.791946        3.0             1.0       1.0         0.0   \n",
       "\n",
       "   average_token_length  num_keywords  data_channel_is_lifestyle  \\\n",
       "0              4.680365           5.0                        0.0   \n",
       "1              4.913725           4.0                        0.0   \n",
       "\n",
       "   data_channel_is_entertainment  data_channel_is_bus  data_channel_is_socmed  \\\n",
       "0                            1.0                  0.0                     0.0   \n",
       "1                            0.0                  1.0                     0.0   \n",
       "\n",
       "   data_channel_is_tech  data_channel_is_world  \n",
       "0                   0.0                    0.0  \n",
       "1                   0.0                    0.0  "
      ]
     },
     "execution_count": 68,
     "metadata": {},
     "output_type": "execute_result"
    }
   ],
   "source": [
    "X[:2]"
   ]
  },
  {
   "cell_type": "code",
   "execution_count": 66,
   "metadata": {},
   "outputs": [
    {
     "data": {
      "text/plain": [
       "(39644, 170)"
      ]
     },
     "execution_count": 66,
     "metadata": {},
     "output_type": "execute_result"
    }
   ],
   "source": [
    "from sklearn.preprocessing import PolynomialFeatures\n",
    "\n",
    "# Create pairwise interaction features, skipping the constant bias term\n",
    "X2 =  PolynomialFeatures(include_bias=False).fit_transform(X)\n",
    "X2.shape"
   ]
  },
  {
   "cell_type": "code",
   "execution_count": 70,
   "metadata": {},
   "outputs": [
    {
     "data": {
      "text/plain": [
       "array([[ 1.,  2.,  3.,  4.,  5.,  1.,  2.,  3.,  4.,  5.,  4.,  6.,  8.,\n",
       "        10.,  9., 12., 15., 16., 20., 25.]])"
      ]
     },
     "execution_count": 70,
     "metadata": {},
     "output_type": "execute_result"
    }
   ],
   "source": [
    "x = np.array([[1, 2, 3, 4, 5]])\n",
    "PolynomialFeatures(include_bias=False).fit_transform(x)"
   ]
  },
  {
   "cell_type": "code",
   "execution_count": 74,
   "metadata": {},
   "outputs": [
    {
     "data": {
      "text/plain": [
       "array([[2., 4.]])"
      ]
     },
     "execution_count": 74,
     "metadata": {},
     "output_type": "execute_result"
    }
   ],
   "source": [
    "x = np.array([[2]])\n",
    "PolynomialFeatures(include_bias=False).fit_transform(x)"
   ]
  },
  {
   "cell_type": "code",
   "execution_count": 67,
   "metadata": {},
   "outputs": [
    {
     "data": {
      "text/plain": [
       "array([[1.20000000e+01, 2.19000000e+02, 6.63594467e-01, 9.99999992e-01,\n",
       "        8.15384609e-01, 4.00000000e+00, 2.00000000e+00, 1.00000000e+00,\n",
       "        0.00000000e+00, 4.68036530e+00, 5.00000000e+00, 0.00000000e+00,\n",
       "        1.00000000e+00, 0.00000000e+00, 0.00000000e+00, 0.00000000e+00,\n",
       "        0.00000000e+00, 1.44000000e+02, 2.62800000e+03, 7.96313360e+00,\n",
       "        1.19999999e+01, 9.78461531e+00, 4.80000000e+01, 2.40000000e+01,\n",
       "        1.20000000e+01, 0.00000000e+00, 5.61643836e+01, 6.00000000e+01,\n",
       "        0.00000000e+00, 1.20000000e+01, 0.00000000e+00, 0.00000000e+00,\n",
       "        0.00000000e+00, 0.00000000e+00, 4.79610000e+04, 1.45327188e+02,\n",
       "        2.18999998e+02, 1.78569229e+02, 8.76000000e+02, 4.38000000e+02,\n",
       "        2.19000000e+02, 0.00000000e+00, 1.02500000e+03, 1.09500000e+03,\n",
       "        0.00000000e+00, 2.19000000e+02, 0.00000000e+00, 0.00000000e+00,\n",
       "        0.00000000e+00, 0.00000000e+00, 4.40357617e-01, 6.63594462e-01,\n",
       "        5.41084715e-01, 2.65437787e+00, 1.32718893e+00, 6.63594467e-01,\n",
       "        0.00000000e+00, 3.10586451e+00, 3.31797233e+00, 0.00000000e+00,\n",
       "        6.63594467e-01, 0.00000000e+00, 0.00000000e+00, 0.00000000e+00,\n",
       "        0.00000000e+00, 9.99999985e-01, 8.15384603e-01, 3.99999997e+00,\n",
       "        1.99999998e+00, 9.99999992e-01, 0.00000000e+00, 4.68036526e+00,\n",
       "        4.99999996e+00, 0.00000000e+00, 9.99999992e-01, 0.00000000e+00,\n",
       "        0.00000000e+00, 0.00000000e+00, 0.00000000e+00, 6.64852061e-01,\n",
       "        3.26153844e+00, 1.63076922e+00, 8.15384609e-01, 0.00000000e+00,\n",
       "        3.81629783e+00, 4.07692305e+00, 0.00000000e+00, 8.15384609e-01,\n",
       "        0.00000000e+00, 0.00000000e+00, 0.00000000e+00, 0.00000000e+00,\n",
       "        1.60000000e+01, 8.00000000e+00, 4.00000000e+00, 0.00000000e+00,\n",
       "        1.87214612e+01, 2.00000000e+01, 0.00000000e+00, 4.00000000e+00,\n",
       "        0.00000000e+00, 0.00000000e+00, 0.00000000e+00, 0.00000000e+00,\n",
       "        4.00000000e+00, 2.00000000e+00, 0.00000000e+00, 9.36073059e+00,\n",
       "        1.00000000e+01, 0.00000000e+00, 2.00000000e+00, 0.00000000e+00,\n",
       "        0.00000000e+00, 0.00000000e+00, 0.00000000e+00, 1.00000000e+00,\n",
       "        0.00000000e+00, 4.68036530e+00, 5.00000000e+00, 0.00000000e+00,\n",
       "        1.00000000e+00, 0.00000000e+00, 0.00000000e+00, 0.00000000e+00,\n",
       "        0.00000000e+00, 0.00000000e+00, 0.00000000e+00, 0.00000000e+00,\n",
       "        0.00000000e+00, 0.00000000e+00, 0.00000000e+00, 0.00000000e+00,\n",
       "        0.00000000e+00, 0.00000000e+00, 2.19058193e+01, 2.34018265e+01,\n",
       "        0.00000000e+00, 4.68036530e+00, 0.00000000e+00, 0.00000000e+00,\n",
       "        0.00000000e+00, 0.00000000e+00, 2.50000000e+01, 0.00000000e+00,\n",
       "        5.00000000e+00, 0.00000000e+00, 0.00000000e+00, 0.00000000e+00,\n",
       "        0.00000000e+00, 0.00000000e+00, 0.00000000e+00, 0.00000000e+00,\n",
       "        0.00000000e+00, 0.00000000e+00, 0.00000000e+00, 1.00000000e+00,\n",
       "        0.00000000e+00, 0.00000000e+00, 0.00000000e+00, 0.00000000e+00,\n",
       "        0.00000000e+00, 0.00000000e+00, 0.00000000e+00, 0.00000000e+00,\n",
       "        0.00000000e+00, 0.00000000e+00, 0.00000000e+00, 0.00000000e+00,\n",
       "        0.00000000e+00, 0.00000000e+00],\n",
       "       [9.00000000e+00, 2.55000000e+02, 6.04743081e-01, 9.99999993e-01,\n",
       "        7.91946303e-01, 3.00000000e+00, 1.00000000e+00, 1.00000000e+00,\n",
       "        0.00000000e+00, 4.91372549e+00, 4.00000000e+00, 0.00000000e+00,\n",
       "        0.00000000e+00, 1.00000000e+00, 0.00000000e+00, 0.00000000e+00,\n",
       "        0.00000000e+00, 8.10000000e+01, 2.29500000e+03, 5.44268773e+00,\n",
       "        8.99999994e+00, 7.12751673e+00, 2.70000000e+01, 9.00000000e+00,\n",
       "        9.00000000e+00, 0.00000000e+00, 4.42235294e+01, 3.60000000e+01,\n",
       "        0.00000000e+00, 0.00000000e+00, 9.00000000e+00, 0.00000000e+00,\n",
       "        0.00000000e+00, 0.00000000e+00, 6.50250000e+04, 1.54209486e+02,\n",
       "        2.54999998e+02, 2.01946307e+02, 7.65000000e+02, 2.55000000e+02,\n",
       "        2.55000000e+02, 0.00000000e+00, 1.25300000e+03, 1.02000000e+03,\n",
       "        0.00000000e+00, 0.00000000e+00, 2.55000000e+02, 0.00000000e+00,\n",
       "        0.00000000e+00, 0.00000000e+00, 3.65714194e-01, 6.04743077e-01,\n",
       "        4.78924047e-01, 1.81422924e+00, 6.04743081e-01, 6.04743081e-01,\n",
       "        0.00000000e+00, 2.97154149e+00, 2.41897232e+00, 0.00000000e+00,\n",
       "        0.00000000e+00, 6.04743081e-01, 0.00000000e+00, 0.00000000e+00,\n",
       "        0.00000000e+00, 9.99999987e-01, 7.91946298e-01, 2.99999998e+00,\n",
       "        9.99999993e-01, 9.99999993e-01, 0.00000000e+00, 4.91372546e+00,\n",
       "        3.99999997e+00, 0.00000000e+00, 0.00000000e+00, 9.99999993e-01,\n",
       "        0.00000000e+00, 0.00000000e+00, 0.00000000e+00, 6.27178947e-01,\n",
       "        2.37583891e+00, 7.91946303e-01, 7.91946303e-01, 0.00000000e+00,\n",
       "        3.89140674e+00, 3.16778521e+00, 0.00000000e+00, 0.00000000e+00,\n",
       "        7.91946303e-01, 0.00000000e+00, 0.00000000e+00, 0.00000000e+00,\n",
       "        9.00000000e+00, 3.00000000e+00, 3.00000000e+00, 0.00000000e+00,\n",
       "        1.47411765e+01, 1.20000000e+01, 0.00000000e+00, 0.00000000e+00,\n",
       "        3.00000000e+00, 0.00000000e+00, 0.00000000e+00, 0.00000000e+00,\n",
       "        1.00000000e+00, 1.00000000e+00, 0.00000000e+00, 4.91372549e+00,\n",
       "        4.00000000e+00, 0.00000000e+00, 0.00000000e+00, 1.00000000e+00,\n",
       "        0.00000000e+00, 0.00000000e+00, 0.00000000e+00, 1.00000000e+00,\n",
       "        0.00000000e+00, 4.91372549e+00, 4.00000000e+00, 0.00000000e+00,\n",
       "        0.00000000e+00, 1.00000000e+00, 0.00000000e+00, 0.00000000e+00,\n",
       "        0.00000000e+00, 0.00000000e+00, 0.00000000e+00, 0.00000000e+00,\n",
       "        0.00000000e+00, 0.00000000e+00, 0.00000000e+00, 0.00000000e+00,\n",
       "        0.00000000e+00, 0.00000000e+00, 2.41446982e+01, 1.96549020e+01,\n",
       "        0.00000000e+00, 0.00000000e+00, 4.91372549e+00, 0.00000000e+00,\n",
       "        0.00000000e+00, 0.00000000e+00, 1.60000000e+01, 0.00000000e+00,\n",
       "        0.00000000e+00, 4.00000000e+00, 0.00000000e+00, 0.00000000e+00,\n",
       "        0.00000000e+00, 0.00000000e+00, 0.00000000e+00, 0.00000000e+00,\n",
       "        0.00000000e+00, 0.00000000e+00, 0.00000000e+00, 0.00000000e+00,\n",
       "        0.00000000e+00, 0.00000000e+00, 0.00000000e+00, 0.00000000e+00,\n",
       "        1.00000000e+00, 0.00000000e+00, 0.00000000e+00, 0.00000000e+00,\n",
       "        0.00000000e+00, 0.00000000e+00, 0.00000000e+00, 0.00000000e+00,\n",
       "        0.00000000e+00, 0.00000000e+00]])"
      ]
     },
     "execution_count": 67,
     "metadata": {},
     "output_type": "execute_result"
    }
   ],
   "source": [
    "X2[:2]"
   ]
  },
  {
   "cell_type": "code",
   "execution_count": 78,
   "metadata": {},
   "outputs": [
    {
     "name": "stdout",
     "output_type": "stream",
     "text": [
      "R-squared score with singleton features: 0.00924\n",
      "R-squared score with pairwise features: 0.0113215250\n"
     ]
    }
   ],
   "source": [
    "from sklearn.model_selection import train_test_split\n",
    "\n",
    "# Create train/test sets for both feature sets\n",
    "X1_train, X1_test, X2_train, X2_test, y_train, y_test = train_test_split(X, X2, y, test_size=0.3, random_state=123)                                                             \n",
    "\n",
    "def evaluate_feature(X_train, X_test, y_train, y_test):\n",
    "    \"\"\"Fit a linear regression model on the training set and \n",
    "    score on the test set\"\"\"\n",
    "    model = linear_model.LinearRegression().fit(X_train, y_train)\n",
    "    r_score = model.score(X_test, y_test)\n",
    "    return (model, r_score)\n",
    "\n",
    "# Train models and compare score on the two feature sets\n",
    "(m1, r1) = evaluate_feature(X1_train, X1_test, y_train, y_test)\n",
    "(m2, r2) = evaluate_feature(X2_train, X2_test, y_train, y_test)\n",
    "\n",
    "print(\"R-squared score with singleton features: %0.5f\" % r1)\n",
    "print(\"R-squared score with pairwise features: %0.10f\" % r2)"
   ]
  },
  {
   "cell_type": "code",
   "execution_count": null,
   "metadata": {},
   "outputs": [],
   "source": []
  }
 ],
 "metadata": {
  "kernelspec": {
   "display_name": "Python 3",
   "language": "python",
   "name": "python3"
  },
  "language_info": {
   "codemirror_mode": {
    "name": "ipython",
    "version": 3
   },
   "file_extension": ".py",
   "mimetype": "text/x-python",
   "name": "python",
   "nbconvert_exporter": "python",
   "pygments_lexer": "ipython3",
   "version": "3.6.7"
  }
 },
 "nbformat": 4,
 "nbformat_minor": 2
}
