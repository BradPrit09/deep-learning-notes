{
 "cells": [
  {
   "cell_type": "markdown",
   "metadata": {},
   "source": [
    "## GOING BEYOND THE SEQUENTIAL MODEL: THE KERAS FUNCTIONAL API"
   ]
  },
  {
   "cell_type": "markdown",
   "metadata": {},
   "source": [
    "In the functional API, you directly manipulate tensors, and you use layers as functions that take tensors and return tensors"
   ]
  },
  {
   "cell_type": "markdown",
   "metadata": {},
   "source": [
    "### Introduction to the functional API"
   ]
  },
  {
   "cell_type": "code",
   "execution_count": 1,
   "metadata": {},
   "outputs": [
    {
     "name": "stderr",
     "output_type": "stream",
     "text": [
      "/Users/hakan/.pyenv/versions/3.6.4/lib/python3.6/site-packages/h5py/__init__.py:36: FutureWarning: Conversion of the second argument of issubdtype from `float` to `np.floating` is deprecated. In future, it will be treated as `np.float64 == np.dtype(float).type`.\n",
      "  from ._conv import register_converters as _register_converters\n",
      "Using TensorFlow backend.\n"
     ]
    }
   ],
   "source": [
    "from keras import Input, layers\n",
    "\n",
    "input_tensor = Input(shape=(32,))                   \n",
    "dense = layers.Dense(32, activation='relu')         \n",
    "\n",
    "output_tensor = dense(input_tensor)                 "
   ]
  },
  {
   "cell_type": "code",
   "execution_count": 4,
   "metadata": {},
   "outputs": [
    {
     "name": "stdout",
     "output_type": "stream",
     "text": [
      "_________________________________________________________________\n",
      "Layer (type)                 Output Shape              Param #   \n",
      "=================================================================\n",
      "input_4 (InputLayer)         (None, 64)                0         \n",
      "_________________________________________________________________\n",
      "dense_11 (Dense)             (None, 32)                2080      \n",
      "_________________________________________________________________\n",
      "dense_12 (Dense)             (None, 32)                1056      \n",
      "_________________________________________________________________\n",
      "dense_13 (Dense)             (None, 10)                330       \n",
      "=================================================================\n",
      "Total params: 3,466\n",
      "Trainable params: 3,466\n",
      "Non-trainable params: 0\n",
      "_________________________________________________________________\n"
     ]
    }
   ],
   "source": [
    "from keras.models import Sequential, Model\n",
    "from keras.layers import Dense\n",
    "\n",
    "seq_model = Sequential()                                               \n",
    "seq_model.add(Dense(32, activation='relu', input_shape=(64,)))\n",
    "seq_model.add(Dense(32, activation='relu'))\n",
    "seq_model.add(Dense(10, activation='softmax'))\n",
    "\n",
    "\n",
    "input_tensor = Input(shape=(64,))                                      \n",
    "x = Dense(32, activation='relu')(input_tensor)                  \n",
    "x = Dense(32, activation='relu')(x)                             \n",
    "output_tensor = Dense(10, activation='softmax')(x)              \n",
    "\n",
    "model = Model(input_tensor, output_tensor)                             \n",
    "\n",
    "model.summary()                                                        "
   ]
  },
  {
   "cell_type": "code",
   "execution_count": null,
   "metadata": {},
   "outputs": [],
   "source": [
    "unrelated_input = Input(shape=(32,))\n",
    "bad_model = model = Model(unrelated_input, output_tensor)"
   ]
  },
  {
   "cell_type": "code",
   "execution_count": 5,
   "metadata": {},
   "outputs": [
    {
     "name": "stdout",
     "output_type": "stream",
     "text": [
      "Epoch 1/10\n",
      "1000/1000 [==============================] - 0s 304us/step - loss: 11.6280\n",
      "Epoch 2/10\n",
      "1000/1000 [==============================] - 0s 29us/step - loss: 11.5843\n",
      "Epoch 3/10\n",
      "1000/1000 [==============================] - 0s 30us/step - loss: 11.5756\n",
      "Epoch 4/10\n",
      "1000/1000 [==============================] - 0s 40us/step - loss: 11.5705\n",
      "Epoch 5/10\n",
      "1000/1000 [==============================] - 0s 37us/step - loss: 11.5665\n",
      "Epoch 6/10\n",
      "1000/1000 [==============================] - 0s 37us/step - loss: 11.5640\n",
      "Epoch 7/10\n",
      "1000/1000 [==============================] - 0s 27us/step - loss: 11.5620\n",
      "Epoch 8/10\n",
      "1000/1000 [==============================] - 0s 30us/step - loss: 11.5602\n",
      "Epoch 9/10\n",
      "1000/1000 [==============================] - 0s 38us/step - loss: 11.5584\n",
      "Epoch 10/10\n",
      "1000/1000 [==============================] - 0s 40us/step - loss: 11.5573\n",
      "1000/1000 [==============================] - 0s 89us/step\n"
     ]
    }
   ],
   "source": [
    "model.compile(optimizer='rmsprop', loss='categorical_crossentropy')\n",
    "\n",
    "import numpy as np                                                 \n",
    "x_train = np.random.random((1000, 64))\n",
    "y_train = np.random.random((1000, 10))\n",
    "\n",
    "model.fit(x_train, y_train, epochs=10, batch_size=128)                   \n",
    "\n",
    "score = model.evaluate(x_train, y_train)         "
   ]
  },
  {
   "cell_type": "markdown",
   "metadata": {},
   "source": [
    "### Multi-input models"
   ]
  },
  {
   "cell_type": "code",
   "execution_count": 9,
   "metadata": {},
   "outputs": [
    {
     "name": "stdout",
     "output_type": "stream",
     "text": [
      "__________________________________________________________________________________________________\n",
      "Layer (type)                    Output Shape         Param #     Connected to                     \n",
      "==================================================================================================\n",
      "text (InputLayer)               (None, None)         0                                            \n",
      "__________________________________________________________________________________________________\n",
      "question (InputLayer)           (None, None)         0                                            \n",
      "__________________________________________________________________________________________________\n",
      "embedding_3 (Embedding)         (None, None, 10000)  640000      text[0][0]                       \n",
      "__________________________________________________________________________________________________\n",
      "embedding_4 (Embedding)         (None, None, 10000)  320000      question[0][0]                   \n",
      "__________________________________________________________________________________________________\n",
      "lstm_3 (LSTM)                   (None, 32)           1284224     embedding_3[0][0]                \n",
      "__________________________________________________________________________________________________\n",
      "lstm_4 (LSTM)                   (None, 16)           641088      embedding_4[0][0]                \n",
      "__________________________________________________________________________________________________\n",
      "concatenate_2 (Concatenate)     (None, 48)           0           lstm_3[0][0]                     \n",
      "                                                                 lstm_4[0][0]                     \n",
      "__________________________________________________________________________________________________\n",
      "dense_15 (Dense)                (None, 500)          24500       concatenate_2[0][0]              \n",
      "==================================================================================================\n",
      "Total params: 2,909,812\n",
      "Trainable params: 2,909,812\n",
      "Non-trainable params: 0\n",
      "__________________________________________________________________________________________________\n"
     ]
    }
   ],
   "source": [
    "text_vocabulary_size = 10000\n",
    "question_vocabulary_size = 10000\n",
    "answer_vocabulary_size = 500\n",
    "\n",
    "\n",
    "text_input = Input(shape=(None,), dtype='int32', name='text')            \n",
    "embedded_text = layers.Embedding(64, text_vocabulary_size)(text_input)                                \n",
    "encoded_text = layers.LSTM(32)(embedded_text)                            \n",
    "\n",
    "question_input = Input(shape=(None,),dtype='int32', name='question')                                  \n",
    "embedded_question = layers.Embedding(32, question_vocabulary_size)(question_input)\n",
    "encoded_question = layers.LSTM(16)(embedded_question)\n",
    "\n",
    "\n",
    "concatenated = layers.concatenate([encoded_text, encoded_question], axis=-1)                               \n",
    "\n",
    "answer = layers.Dense(answer_vocabulary_size, activation='softmax')(concatenated)                \n",
    "\n",
    "model = Model([text_input, question_input], answer)                      \n",
    "model.compile(optimizer='rmsprop',loss='categorical_crossentropy',metrics=['acc'])\n",
    "\n",
    "model.summary()"
   ]
  },
  {
   "cell_type": "code",
   "execution_count": null,
   "metadata": {},
   "outputs": [],
   "source": [
    "import numpy as np\n",
    "\n",
    "num_samples = 1000\n",
    "max_length = 100\n",
    "\n",
    "text = np.random.randint(1, text_vocabulary_size, size=(num_samples, max_length))                   \n",
    "question = np.random.randint(1, question_vocabulary_size, size=(num_samples, max_length))\n",
    "answers = np.random.randint(0, 1,size=(num_samples, answer_vocabulary_size))    \n",
    "\n",
    "model.fit([text, question], answers, epochs=10, batch_size=128)            \n",
    "# or\n",
    "model.fit({'text': text, 'question': question}, answers,epochs=10, batch_size=128)                                       "
   ]
  },
  {
   "cell_type": "markdown",
   "metadata": {},
   "source": [
    "### Multi-output models"
   ]
  },
  {
   "cell_type": "code",
   "execution_count": 10,
   "metadata": {},
   "outputs": [
    {
     "name": "stdout",
     "output_type": "stream",
     "text": [
      "WARNING:tensorflow:From /Users/hakan/.pyenv/versions/3.6.4/lib/python3.6/site-packages/tensorflow/python/util/deprecation.py:497: calling conv1d (from tensorflow.python.ops.nn_ops) with data_format=NHWC is deprecated and will be removed in a future version.\n",
      "Instructions for updating:\n",
      "`NHWC` for data_format is deprecated, use `NWC` instead\n"
     ]
    }
   ],
   "source": [
    "from keras.layers import Conv1D, MaxPooling1D, GlobalMaxPooling1D, Embedding\n",
    "from keras import Input\n",
    "from keras.models import Model\n",
    "\n",
    "vocabulary_size = 50000\n",
    "num_income_groups = 10\n",
    "\n",
    "posts_input = Input(shape=(None,), dtype='int32', name='posts')\n",
    "embedded_posts = Embedding(256, vocabulary_size)(posts_input)\n",
    "\n",
    "x = Conv1D(128, 5, activation='relu')(embedded_posts)\n",
    "x = MaxPooling1D(5)(x)\n",
    "x = Conv1D(256, 5, activation='relu')(x)\n",
    "x = Conv1D(256, 5, activation='relu')(x)\n",
    "x = MaxPooling1D(5)(x)\n",
    "x = Conv1D(256, 5, activation='relu')(x)\n",
    "x = Conv1D(256, 5, activation='relu')(x)\n",
    "x = GlobalMaxPooling1D()(x)\n",
    "x = Dense(128, activation='relu')(x)\n",
    "\n",
    "\n",
    "age_prediction = Dense(1, name='age')(x)               \n",
    "income_prediction = Dense(num_income_groups,\n",
    "                                 activation='softmax',\n",
    "                                 name='income')(x)\n",
    "gender_prediction = Dense(1, activation='sigmoid', name='gender')(x)\n",
    "\n",
    "model = Model(posts_input,\n",
    "              [age_prediction, income_prediction, gender_prediction])"
   ]
  },
  {
   "cell_type": "code",
   "execution_count": null,
   "metadata": {},
   "outputs": [],
   "source": [
    "model.compile(optimizer='rmsprop',\n",
    "              loss=[ 'mse', 'categorical_crossentropy', 'binary_crossentropy'])\n",
    "\n",
    "# or \n",
    "\n",
    "model.compile(optimizer='rmsprop',                             \n",
    "              loss={'age': 'mse',                              \n",
    "                    'income': 'categorical_crossentropy',      \n",
    "                    'gender': 'binary_crossentropy'})          "
   ]
  },
  {
   "cell_type": "markdown",
   "metadata": {},
   "source": [
    "Note that very imbalanced loss contributions will cause the model representations to be optimized preferentially for the task with the largest individual loss, at the expense of the other tasks.  You can assign different levels of importance to the loss values in their contribution to the final loss."
   ]
  },
  {
   "cell_type": "code",
   "execution_count": null,
   "metadata": {},
   "outputs": [],
   "source": [
    "model.compile(optimizer='rmsprop',\n",
    "              loss=['mse', 'categorical_crossentropy', 'binary_crossentropy'],\n",
    "              loss_weights=[0.25, 1., 10.])\n",
    "\n",
    "# or\n",
    "\n",
    "model.compile(optimizer='rmsprop',                            \n",
    "              loss={'age': 'mse',                             \n",
    "                    'income': 'categorical_crossentropy',     \n",
    "                    'gender': 'binary_crossentropy'},         \n",
    "              loss_weights={'age': 0.25,                      \n",
    "                            'income': 1.,                     \n",
    "                            'gender': 10.})                   "
   ]
  },
  {
   "cell_type": "code",
   "execution_count": null,
   "metadata": {},
   "outputs": [],
   "source": [
    "model.fit(posts, [age_targets, income_targets, gender_targets],        \n",
    "          epochs=10, batch_size=64)\n",
    "\n",
    "model.fit(posts, {'age': age_targets,                                  \n",
    "                  'income': income_targets,                            \n",
    "                  'gender': gender_targets},                           \n",
    "          epochs=10, batch_size=64)               "
   ]
  },
  {
   "cell_type": "markdown",
   "metadata": {},
   "source": [
    "### Layer weight sharing"
   ]
  },
  {
   "cell_type": "code",
   "execution_count": null,
   "metadata": {},
   "outputs": [],
   "source": [
    "from keras.layers import LSTM, Dense \n",
    "from keras import Input\n",
    "from keras.models import Model\n",
    "import keras.layers.concatenate as con\n",
    "\n",
    "lstm = LSTM(32)                                                \n",
    "left_input = Input(shape=(None, 128))                                 \n",
    "left_output = lstm(left_input)                                        \n",
    "\n",
    "right_input = Input(shape=(None, 128))                                \n",
    "right_output = lstm(right_input)                                      \n",
    "\n",
    "merged = con([left_output, right_output], axis=-1)     \n",
    "predictions = layers.Dense(1, activation='sigmoid')(merged)           \n",
    "\n",
    "model = Model([left_input, right_input], predictions)  \n",
    "\n",
    "model.fit([left_data, right_data], targets...)                           "
   ]
  },
  {
   "cell_type": "markdown",
   "metadata": {},
   "source": [
    "### Models as layers"
   ]
  },
  {
   "cell_type": "code",
   "execution_count": null,
   "metadata": {},
   "outputs": [],
   "source": [
    "y = model(x)"
   ]
  },
  {
   "cell_type": "code",
   "execution_count": null,
   "metadata": {},
   "outputs": [],
   "source": [
    "y1, y2 = model([x1, x2])"
   ]
  },
  {
   "cell_type": "code",
   "execution_count": null,
   "metadata": {},
   "outputs": [],
   "source": [
    "from keras import layers\n",
    "from keras import applications\n",
    "from keras import Input\n",
    "\n",
    "xception_base = applications.Xception(weights=None,include_top=False)      \n",
    "\n",
    "left_input = Input(shape=(250, 250, 3))                       \n",
    "right_input = Input(shape=(250, 250, 3))                      \n",
    "\n",
    "left_features = xception_base(left_input)                     \n",
    "right_input = xception_base(right_input)                      \n",
    "\n",
    "merged_features = layers.concatenate([left_features, right_input], axis=-1)             "
   ]
  },
  {
   "cell_type": "markdown",
   "metadata": {},
   "source": [
    "## INSPECTING AND MONITORING DEEP-LEARNING MODELS USING KERAS CALLBAACKS AND TENSORBOARD"
   ]
  },
  {
   "cell_type": "markdown",
   "metadata": {},
   "source": [
    "The keras.callbacks module includes a number of built-in callbacks (this is not an exhaustive list):\n",
    "    \n",
    "* `keras.callbacks.ModelCheckpoint`\n",
    "* `keras.callbacks.EarlyStopping`\n",
    "* `keras.callbacks.LearningRateScheduler`\n",
    "* `keras.callbacks.ReduceLROnPlateau`\n",
    "* `keras.callbacks.CSVLogger`"
   ]
  },
  {
   "cell_type": "code",
   "execution_count": null,
   "metadata": {},
   "outputs": [],
   "source": [
    "import keras\n",
    "\n",
    "callbacks_list = [                              \n",
    "    keras.callbacks.EarlyStopping(              \n",
    "        monitor='acc',                          \n",
    "        patience=1,                             \n",
    "    ),\n",
    "    keras.callbacks.ModelCheckpoint(            \n",
    "        filepath='my_model.h5',                 \n",
    "        monitor='val_loss',                     \n",
    "        save_best_only=True,                    \n",
    "    )\n",
    "]"
   ]
  },
  {
   "cell_type": "code",
   "execution_count": null,
   "metadata": {},
   "outputs": [],
   "source": [
    "model.compile(optimizer='rmsprop',\n",
    "              loss='binary_crossentropy',\n",
    "              metrics=['acc'])                  \n",
    "\n",
    "model.fit(x, y,             \n",
    "          epochs=10,\n",
    "          batch_size=32,\n",
    "          callbacks=callbacks_list, #!\n",
    "          validation_data=(x_val, y_val)) # Note that because the callback will monitor validation loss and validation accuracy, you need to pass validation_data to the call to fit."
   ]
  },
  {
   "cell_type": "markdown",
   "metadata": {},
   "source": [
    "you can write your own callback. Callbacks are implemented by subclassing the class `keras.callbacks.Callback`. You can then implement any number of the following transparently named methods:\n",
    "\n",
    "* `on_epoch_begin`    1      \n",
    "* `on_epoch_end`      2    \n",
    "\n",
    "* `on_batch_begin`   3     \n",
    "* `on_batch_end`      4     \n",
    "\n",
    "* `on_train_begin`    5     \n",
    "* `on_train_end`      6 \n",
    "\n",
    "\n",
    "1 Called at the start of every epoch\n",
    "\n",
    "2 Called at the end of every epoch\n",
    "\n",
    "3 Called right before processing each batch\n",
    "\n",
    "4 Called right after processing each batch\n",
    "\n",
    "5 Called at the start of training\n",
    "\n",
    "6 Called at the end of training"
   ]
  },
  {
   "cell_type": "code",
   "execution_count": 14,
   "metadata": {},
   "outputs": [],
   "source": [
    "import keras\n",
    "\n",
    "class ActivationLogger(keras.callbacks.Callback):\n",
    "\n",
    "    def set_model(self, model):\n",
    "        self.model = model                                               \n",
    "        layer_outputs = [layer.output for layer in model.layers]\n",
    "        self.activations_model = keras.models.Model(model.input,layer_outputs)       \n",
    "\n",
    "    def on_epoch_end(self, epoch, logs=None):\n",
    "        if self.validation_data is None:\n",
    "            raise RuntimeError('Requires validation_data.')\n",
    "\n",
    "        validation_sample = self.validation_data[0][0:1]                 \n",
    "        activations = self.activations_model.predict(validation_sample)\n",
    "        f = open('activations_at_epoch_' + str(epoch) + '.npz', 'w')     \n",
    "        np.savez(f, activations)                                         \n",
    "        f.close()  "
   ]
  },
  {
   "cell_type": "markdown",
   "metadata": {},
   "source": [
    "### Introduction to TensorBoard: the TensorFlow visualization framework"
   ]
  },
  {
   "cell_type": "code",
   "execution_count": 2,
   "metadata": {},
   "outputs": [
    {
     "name": "stderr",
     "output_type": "stream",
     "text": [
      "/Users/hakan/.pyenv/versions/3.6.4/lib/python3.6/site-packages/h5py/__init__.py:36: FutureWarning: Conversion of the second argument of issubdtype from `float` to `np.floating` is deprecated. In future, it will be treated as `np.float64 == np.dtype(float).type`.\n",
      "  from ._conv import register_converters as _register_converters\n",
      "Using TensorFlow backend.\n"
     ]
    }
   ],
   "source": [
    "import keras\n",
    "from keras import layers\n",
    "from keras.datasets import imdb\n",
    "from keras.preprocessing import sequence\n",
    "\n",
    "max_features = 2000                                              \n",
    "max_len = 500                                                    \n",
    "\n",
    "(x_train, y_train), (x_test, y_test) = imdb.load_data(num_words=max_features)\n",
    "x_train = sequence.pad_sequences(x_train, maxlen=max_len)\n",
    "x_test = sequence.pad_sequences(x_test, maxlen=max_len)"
   ]
  },
  {
   "cell_type": "code",
   "execution_count": 3,
   "metadata": {},
   "outputs": [
    {
     "name": "stdout",
     "output_type": "stream",
     "text": [
      "WARNING:tensorflow:From /Users/hakan/.pyenv/versions/3.6.4/lib/python3.6/site-packages/tensorflow/python/util/deprecation.py:497: calling conv1d (from tensorflow.python.ops.nn_ops) with data_format=NHWC is deprecated and will be removed in a future version.\n",
      "Instructions for updating:\n",
      "`NHWC` for data_format is deprecated, use `NWC` instead\n",
      "_________________________________________________________________\n",
      "Layer (type)                 Output Shape              Param #   \n",
      "=================================================================\n",
      "embed (Embedding)            (None, 500, 128)          256000    \n",
      "_________________________________________________________________\n",
      "conv1d_1 (Conv1D)            (None, 494, 32)           28704     \n",
      "_________________________________________________________________\n",
      "max_pooling1d_1 (MaxPooling1 (None, 98, 32)            0         \n",
      "_________________________________________________________________\n",
      "conv1d_2 (Conv1D)            (None, 92, 32)            7200      \n",
      "_________________________________________________________________\n",
      "global_max_pooling1d_1 (Glob (None, 32)                0         \n",
      "_________________________________________________________________\n",
      "dense_1 (Dense)              (None, 1)                 33        \n",
      "=================================================================\n",
      "Total params: 291,937\n",
      "Trainable params: 291,937\n",
      "Non-trainable params: 0\n",
      "_________________________________________________________________\n"
     ]
    }
   ],
   "source": [
    "model = keras.models.Sequential()\n",
    "model.add(layers.Embedding(max_features, 128,input_length=max_len,name='embed'))\n",
    "model.add(layers.Conv1D(32, 7, activation='relu'))\n",
    "model.add(layers.MaxPooling1D(5))\n",
    "model.add(layers.Conv1D(32, 7, activation='relu'))\n",
    "model.add(layers.GlobalMaxPooling1D())\n",
    "model.add(layers.Dense(1))\n",
    "model.summary()\n",
    "\n",
    "model.compile(optimizer='rmsprop',\n",
    "              loss='binary_crossentropy',\n",
    "              metrics=['acc'])"
   ]
  },
  {
   "cell_type": "code",
   "execution_count": 16,
   "metadata": {},
   "outputs": [],
   "source": [
    "!mkdir my_log_dir"
   ]
  },
  {
   "cell_type": "code",
   "execution_count": 17,
   "metadata": {},
   "outputs": [
    {
     "name": "stdout",
     "output_type": "stream",
     "text": [
      "Train on 20000 samples, validate on 5000 samples\n",
      "Epoch 1/20\n",
      "20000/20000 [==============================] - 67s 3ms/step - loss: 0.6326 - acc: 0.6522 - val_loss: 0.4155 - val_acc: 0.8302\n",
      "Epoch 2/20\n",
      "20000/20000 [==============================] - 63s 3ms/step - loss: 0.4367 - acc: 0.8149 - val_loss: 0.7051 - val_acc: 0.7046\n",
      "Epoch 3/20\n",
      "20000/20000 [==============================] - 77s 4ms/step - loss: 0.4001 - acc: 0.7883 - val_loss: 1.4597 - val_acc: 0.4790\n",
      "Epoch 4/20\n",
      "20000/20000 [==============================] - 89s 4ms/step - loss: 0.3467 - acc: 0.7799 - val_loss: 0.4892 - val_acc: 0.7716\n",
      "Epoch 5/20\n",
      "20000/20000 [==============================] - 71s 4ms/step - loss: 0.3129 - acc: 0.7148 - val_loss: 0.5548 - val_acc: 0.7030\n",
      "Epoch 6/20\n",
      "20000/20000 [==============================] - 79s 4ms/step - loss: 0.2696 - acc: 0.6955 - val_loss: 0.5955 - val_acc: 0.6504\n",
      "Epoch 7/20\n",
      "20000/20000 [==============================] - 65s 3ms/step - loss: 0.2280 - acc: 0.6541 - val_loss: 0.6513 - val_acc: 0.6030\n",
      "Epoch 8/20\n",
      "20000/20000 [==============================] - 65s 3ms/step - loss: 0.2013 - acc: 0.5847 - val_loss: 0.7549 - val_acc: 0.5178\n",
      "Epoch 9/20\n",
      "20000/20000 [==============================] - 78s 4ms/step - loss: 0.1947 - acc: 0.5283 - val_loss: 0.7756 - val_acc: 0.4794\n",
      "Epoch 10/20\n",
      "20000/20000 [==============================] - 64s 3ms/step - loss: 0.1564 - acc: 0.4979 - val_loss: 1.2129 - val_acc: 0.3716\n",
      "Epoch 11/20\n",
      "20000/20000 [==============================] - 59s 3ms/step - loss: 0.1275 - acc: 0.3877 - val_loss: 0.9043 - val_acc: 0.3624\n",
      "Epoch 12/20\n",
      "20000/20000 [==============================] - 60s 3ms/step - loss: 0.1217 - acc: 0.3419 - val_loss: 1.5910 - val_acc: 0.2836\n",
      "Epoch 13/20\n",
      "20000/20000 [==============================] - 59s 3ms/step - loss: 0.1163 - acc: 0.2989 - val_loss: 1.0122 - val_acc: 0.3080\n",
      "Epoch 14/20\n",
      "20000/20000 [==============================] - 59s 3ms/step - loss: 0.1138 - acc: 0.2625 - val_loss: 1.0959 - val_acc: 0.2842\n",
      "Epoch 15/20\n",
      "20000/20000 [==============================] - 59s 3ms/step - loss: 0.1131 - acc: 0.2402 - val_loss: 1.0845 - val_acc: 0.2786\n",
      "Epoch 16/20\n",
      "20000/20000 [==============================] - 60s 3ms/step - loss: 0.1031 - acc: 0.2061 - val_loss: 1.1259 - val_acc: 0.2516\n",
      "Epoch 17/20\n",
      "20000/20000 [==============================] - 59s 3ms/step - loss: 0.1030 - acc: 0.1766 - val_loss: 1.1255 - val_acc: 0.2562\n",
      "Epoch 18/20\n",
      "20000/20000 [==============================] - 59s 3ms/step - loss: 0.1015 - acc: 0.1600 - val_loss: 1.1783 - val_acc: 0.2368\n",
      "Epoch 19/20\n",
      "20000/20000 [==============================] - 59s 3ms/step - loss: 0.1041 - acc: 0.1502 - val_loss: 1.1706 - val_acc: 0.2388\n",
      "Epoch 20/20\n",
      "20000/20000 [==============================] - 59s 3ms/step - loss: 0.1013 - acc: 0.1466 - val_loss: 1.1894 - val_acc: 0.2320\n"
     ]
    }
   ],
   "source": [
    "callbacks = [\n",
    "    keras.callbacks.TensorBoard(\n",
    "        log_dir='my_log_dir',                  \n",
    "        histogram_freq=1,                      \n",
    "        embeddings_freq=1,                     \n",
    "    )\n",
    "]\n",
    "\n",
    "history = model.fit(x_train, y_train,\n",
    "                    epochs=20,\n",
    "                    batch_size=128,\n",
    "                    validation_split=0.2,\n",
    "                    callbacks=callbacks)"
   ]
  },
  {
   "cell_type": "code",
   "execution_count": 19,
   "metadata": {},
   "outputs": [],
   "source": [
    "model.save(\"trained_visual_model.h5\")"
   ]
  },
  {
   "cell_type": "code",
   "execution_count": 4,
   "metadata": {},
   "outputs": [],
   "source": [
    "model.load_weights('trained_visual_model.h5')"
   ]
  },
  {
   "cell_type": "markdown",
   "metadata": {},
   "source": [
    "Lunch `tensorboard --logdir=my_log_dir` from the command line. You can then browse to http://localhost:6006 and look at your model training"
   ]
  },
  {
   "cell_type": "code",
   "execution_count": 5,
   "metadata": {},
   "outputs": [],
   "source": [
    "from keras.utils import plot_model\n",
    "\n",
    "plot_model(model, to_file='model.png')"
   ]
  },
  {
   "cell_type": "code",
   "execution_count": 6,
   "metadata": {},
   "outputs": [],
   "source": [
    "from keras.utils import plot_model\n",
    "\n",
    "plot_model(model, show_shapes=True, to_file='model_shape.png')"
   ]
  },
  {
   "cell_type": "code",
   "execution_count": 20,
   "metadata": {},
   "outputs": [
    {
     "data": {
      "image/png": "[encoded data removed]",
      "text/plain": [
       "<Figure size 432x288 with 1 Axes>"
      ]
     },
     "metadata": {},
     "output_type": "display_data"
    }
   ],
   "source": [
    "import matplotlib.pyplot as plt\n",
    "import matplotlib.image as mpimg\n",
    "\n",
    "%matplotlib inline\n",
    "\n",
    "img=mpimg.imread('model.png')\n",
    "plt.imshow(img)\n",
    "plt.show()"
   ]
  },
  {
   "cell_type": "code",
   "execution_count": null,
   "metadata": {},
   "outputs": [],
   "source": []
  }
 ],
 "metadata": {
  "kernelspec": {
   "display_name": "Python 3",
   "language": "python",
   "name": "python3"
  },
  "language_info": {
   "codemirror_mode": {
    "name": "ipython",
    "version": 3
   },
   "file_extension": ".py",
   "mimetype": "text/x-python",
   "name": "python",
   "nbconvert_exporter": "python",
   "pygments_lexer": "ipython3",
   "version": "3.6.4"
  }
 },
 "nbformat": 4,
 "nbformat_minor": 2
}
